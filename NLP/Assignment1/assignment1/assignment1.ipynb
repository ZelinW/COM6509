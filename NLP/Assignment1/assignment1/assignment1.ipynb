{
 "cells": [
  {
   "cell_type": "markdown",
   "metadata": {},
   "source": [
    "# [COM6513] Assignment 1: Text Classification with Logistic Regression\n",
    "\n",
    "### Instructor: Nikos Aletras\n",
    "\n",
    "\n",
    "The goal of this assignment is to develop and test two text classification systems: \n",
    "\n",
    "- **Task 1:** sentiment analysis, in particular to predict the sentiment of movie reviews, i.e. positive or negative (binary classification).\n",
    "- **Task 2:** topic classification, to predict whether a news article is about International issues, Sports or Business (multi-class classification).\n",
    "\n",
    "\n",
    "For that purpose, you will implement:\n",
    "\n",
    "\n",
    "- Text processing methods for extracting Bag-Of-Word features, using \n",
    "    - n-grams (BOW), i.e. unigrams, bigrams and trigrams to obtain vector representations of documents where n=1,2,3 respectively. Two vector weighting schemes should be tested: (1) raw frequencies (**3 marks**); (2) tf.idf (**1 mark**). \n",
    "    - character n-grams (BOCN). A character n-gram is a contiguous sequence of characters given a word, e.g. for n=2, 'coffee' is split into {'co', 'of', 'ff', 'fe', 'ee'}. Two vector weighting schemes should be tested: (1) raw frequencies (**3 marks**); (2) tf.idf (**1 mark**). **Tip: Note the large vocabulary size!** \n",
    "    - a combination of the two vector spaces (n-grams and character n-grams) choosing your best performing wighting respectively (i.e. raw or tfidf). (**3 marks**) **Tip: you should merge the two representations**\n",
    "\n",
    "\n",
    "\n",
    "- Binary Logistic Regression (LR) classifiers for Task 1 that will be able to accurately classify movie reviews trained with: \n",
    "    - (1) BOW-count (raw frequencies) \n",
    "    - (2) BOW-tfidf (tf.idf weighted)\n",
    "    - (3) BOCN-count\n",
    "    - (4) BOCN-tfidf\n",
    "    - (5) BOW+BOCN (best performing weighting; raw or tfidf)\n",
    "\n",
    "\n",
    "\n",
    "- Multiclass Logistic Regression classifiers for Task 2 that will be able to accurately classify news articles trained with:\n",
    "    - (1) BOW-count (raw frequencies) \n",
    "    - (2) BOW-tfidf (tf.idf weighted)\n",
    "    - (3) BOCN-count\n",
    "    - (4) BOCN-tfidf\n",
    "    - (5) BOW+BOCN (best performing weighting; raw or tfidf)\n",
    "\n",
    "\n",
    "\n",
    "- The Stochastic Gradient Descent (SGD) algorithm to estimate the parameters of your Logistic Regression models. Your SGD algorithm should:\n",
    "    - Minimise the Binary Cross-entropy loss function for Task 1 (**3 marks**)\n",
    "    - Minimise the Categorical Cross-entropy loss function for Task 2 (**3 marks**)\n",
    "    - Use L2 regularisation (**2 marks**)\n",
    "    - Perform multiple passes (epochs) over the training data (**1 mark**)\n",
    "    - Randomise the order of training data after each pass (**1 mark**)\n",
    "    - Stop training if the difference between the current and previous development loss is smaller than a threshold (**1 mark**)\n",
    "    - After each epoch print the training and development loss (**1 mark**)\n",
    "\n",
    "\n",
    "\n",
    "- Discuss how did you choose hyperparameters (e.g. learning rate and regularisation strength) for each LR model? You should use a table showing model performance using different set of hyperparameter values. (**5 marks; 2.5 for each task**). **Tip: Instead of using all possible combinations, you could perform a random sampling of combinations.**\n",
    "\n",
    "\n",
    "\n",
    "- After training each LR model, plot the learning process (i.e. training and validation loss in each epoch) using a line plot. Does your model underfit, overfit or is it about right? Explain why. (**2 marks**). \n",
    "\n",
    "\n",
    "\n",
    "- Identify and show the most important features (model interpretability) for each class (i.e. top-10 most positive and top-10 negative weights). Give the top 10 for each class and comment on whether they make sense (if they don't you might have a bug!).  If you were to apply the classifier into a different domain such laptop reviews or restaurant reviews, do you think these features would generalise well? Can you propose what features the classifier could pick up as important in the new domain? (**3 marks; 1.5 for each task**)\n",
    "\n",
    "\n",
    "\n",
    "- Provide well documented and commented code describing all of your choices. In general, you are free to make decisions about text processing (e.g. punctuation, numbers, vocabulary size) and hyperparameter values. We expect to see justifications and discussion for all of your choices (**5 marks**). \n",
    "\n",
    "\n",
    "\n",
    "- Provide efficient solutions by using Numpy arrays when possible. Executing the whole notebook with your code should not take more than 10 minutes on a any standard computer (e.g. Intel Core i5 CPU, 8 or 16GB RAM) excluding hyperparameter tuning runs. You can find tips in [Intro to Python for NLP](https://sheffieldnlp.github.io/com6513/assets/labs/a0_python_intro.pdf) (**2 marks**). \n",
    "\n",
    "\n",
    "\n",
    "\n",
    "\n",
    "\n",
    "\n",
    "\n",
    "### Data - Task 1 \n",
    "\n",
    "The data you will use for Task 1 are taken from here: [http://www.cs.cornell.edu/people/pabo/movie-review-data/](http://www.cs.cornell.edu/people/pabo/movie-review-data/) and you can find it in the `./data_sentiment` folder in CSV format:\n",
    "\n",
    "- `data_sentiment/train.csv`: contains 1,400 reviews, 700 positive (label: 1) and 700 negative (label: 0) to be used for training.\n",
    "- `data_sentiment/dev.csv`: contains 200 reviews, 100 positive and 100 negative to be used for hyperparameter selection and monitoring the training process.\n",
    "- `data_sentiment/test.csv`: contains 400 reviews, 200 positive and 200 negative to be used for testing.\n",
    "\n",
    "### Data - Task 2\n",
    "\n",
    "The data you will use for Task 2 is a subset of the [AG News Corpus](http://groups.di.unipi.it/~gulli/AG_corpus_of_news_articles.html) and you can find it in the `./data_topic` folder in CSV format:\n",
    "\n",
    "- `data_topic/train.csv`: contains 2,400 news, 800 for each class to be used for training.\n",
    "- `data_topic/dev.csv`: contains 150 news articles, 50 for each class to be used for hyperparameter selection and monitoring the training process.\n",
    "- `data_topic/test.csv`: contains 900 news articles, 300 for each class to be used for testing.\n",
    "\n",
    "\n",
    "### Submission Instructions\n",
    "\n",
    "You should submit a Jupyter Notebook file (assignment1.ipynb) and an exported PDF version (you can do it from Jupyter: `File->Download as->PDF via Latex` or you can print it as PDF using your browser).\n",
    "\n",
    "You are advised to follow the code structure given in this notebook by completing all given funtions. You can also write any auxilliary/helper functions (and arguments for the functions) that you might need but note that you can provide a full solution without any such functions. Similarly, you can just use only the packages imported below but you are free to use any functionality from the [Python Standard Library](https://docs.python.org/2/library/index.html), NumPy, SciPy (excluding built-in softmax funtcions) and Pandas. You are not allowed to use any third-party library such as Scikit-learn (apart from metric functions already provided), NLTK, Spacy, Keras etc.. You should mention if you've used Windows to write and test your code because we mostly use Unix based machines for marking (e.g. Ubuntu, MacOS). \n",
    "\n",
    "There is no single correct answer on what your accuracy should be, but correct implementations usually achieve F1-scores around 80\\% or higher. The quality of the analysis of the results is as important as the accuracy itself. \n",
    "\n",
    "This assignment will be marked out of 40. It is worth 40\\% of your final grade in the module.\n",
    "\n",
    "The deadline for this assignment is **23:59 on Fri, 25 Feb 2021** and it needs to be submitted via Blackboard. Standard departmental penalties for lateness will be applied. We use a range of strategies to **detect [unfair means](https://www.sheffield.ac.uk/ssid/unfair-means/index)**, including Turnitin which helps detect plagiarism. Use of unfair means would result in getting a failing grade.\n",
    "\n"
   ]
  },
  {
   "cell_type": "code",
   "execution_count": 106,
   "metadata": {
    "ExecuteTime": {
     "end_time": "2020-03-27T13:41:17.642162Z",
     "start_time": "2020-03-27T13:41:16.891940Z"
    }
   },
   "outputs": [],
   "source": [
    "import pandas as pd\n",
    "import numpy as np\n",
    "from collections import Counter\n",
    "import re\n",
    "import matplotlib.pyplot as plt\n",
    "from sklearn.metrics import accuracy_score, precision_score, recall_score, f1_score\n",
    "import random\n",
    "\n",
    "from tqdm import tqdm # To show the progress\n",
    "\n",
    "# fixing random seed for reproducibility\n",
    "random.seed(123)\n",
    "np.random.seed(123)"
   ]
  },
  {
   "cell_type": "markdown",
   "metadata": {},
   "source": [
    "## Task 1: Binary classification"
   ]
  },
  {
   "cell_type": "markdown",
   "metadata": {},
   "source": [
    "## Load Raw texts and labels into arrays\n",
    "\n",
    "First, you need to load the training, development and test sets from their corresponding CSV files (tip: you can use Pandas dataframes)."
   ]
  },
  {
   "cell_type": "code",
   "execution_count": 2,
   "metadata": {
    "ExecuteTime": {
     "end_time": "2020-02-15T14:17:28.145788Z",
     "start_time": "2020-02-15T14:17:28.066100Z"
    }
   },
   "outputs": [],
   "source": [
    "sentiment_train_df = pd.read_csv('./data_sentiment/train.csv',\n",
    "                                 names = ['Sentence', 'Sentiment'])\n",
    "sentiment_dev_df = pd.read_csv('./data_sentiment/dev.csv', \n",
    "                               names = ['Sentence', 'Sentiment'])\n",
    "sentiment_test_df = pd.read_csv('./data_sentiment/test.csv', \n",
    "                                names = ['Sentence', 'Sentiment'])"
   ]
  },
  {
   "cell_type": "code",
   "execution_count": 3,
   "metadata": {},
   "outputs": [
    {
     "data": {
      "text/plain": [
       "(1400, 2)"
      ]
     },
     "execution_count": 3,
     "metadata": {},
     "output_type": "execute_result"
    }
   ],
   "source": [
    "sentiment_train_df.shape"
   ]
  },
  {
   "cell_type": "code",
   "execution_count": 4,
   "metadata": {},
   "outputs": [],
   "source": [
    "frames = [sentiment_train_df, sentiment_dev_df, sentiment_test_df]\n",
    "sentiment_whole_doc_pd = pd.concat(frames)"
   ]
  },
  {
   "cell_type": "markdown",
   "metadata": {},
   "source": [
    "If you use Pandas you can see a sample of the data."
   ]
  },
  {
   "cell_type": "code",
   "execution_count": 5,
   "metadata": {
    "ExecuteTime": {
     "end_time": "2020-02-15T14:17:28.900892Z",
     "start_time": "2020-02-15T14:17:28.891221Z"
    },
    "scrolled": true
   },
   "outputs": [
    {
     "data": {
      "text/html": [
       "<div>\n",
       "<style scoped>\n",
       "    .dataframe tbody tr th:only-of-type {\n",
       "        vertical-align: middle;\n",
       "    }\n",
       "\n",
       "    .dataframe tbody tr th {\n",
       "        vertical-align: top;\n",
       "    }\n",
       "\n",
       "    .dataframe thead th {\n",
       "        text-align: right;\n",
       "    }\n",
       "</style>\n",
       "<table border=\"1\" class=\"dataframe\">\n",
       "  <thead>\n",
       "    <tr style=\"text-align: right;\">\n",
       "      <th></th>\n",
       "      <th>Sentence</th>\n",
       "      <th>Sentiment</th>\n",
       "    </tr>\n",
       "  </thead>\n",
       "  <tbody>\n",
       "    <tr>\n",
       "      <th>0</th>\n",
       "      <td>note : some may consider portions of the follo...</td>\n",
       "      <td>1</td>\n",
       "    </tr>\n",
       "    <tr>\n",
       "      <th>1</th>\n",
       "      <td>note : some may consider portions of the follo...</td>\n",
       "      <td>1</td>\n",
       "    </tr>\n",
       "    <tr>\n",
       "      <th>2</th>\n",
       "      <td>every once in a while you see a film that is s...</td>\n",
       "      <td>1</td>\n",
       "    </tr>\n",
       "    <tr>\n",
       "      <th>3</th>\n",
       "      <td>when i was growing up in 1970s , boys in my sc...</td>\n",
       "      <td>1</td>\n",
       "    </tr>\n",
       "    <tr>\n",
       "      <th>4</th>\n",
       "      <td>the muppet movie is the first , and the best m...</td>\n",
       "      <td>1</td>\n",
       "    </tr>\n",
       "  </tbody>\n",
       "</table>\n",
       "</div>"
      ],
      "text/plain": [
       "                                            Sentence  Sentiment\n",
       "0  note : some may consider portions of the follo...          1\n",
       "1  note : some may consider portions of the follo...          1\n",
       "2  every once in a while you see a film that is s...          1\n",
       "3  when i was growing up in 1970s , boys in my sc...          1\n",
       "4  the muppet movie is the first , and the best m...          1"
      ]
     },
     "execution_count": 5,
     "metadata": {},
     "output_type": "execute_result"
    }
   ],
   "source": [
    "sentiment_train_df.head()"
   ]
  },
  {
   "cell_type": "markdown",
   "metadata": {},
   "source": [
    "The next step is to put the raw texts into Python lists and their corresponding labels into NumPy arrays:\n"
   ]
  },
  {
   "cell_type": "code",
   "execution_count": 6,
   "metadata": {
    "ExecuteTime": {
     "end_time": "2020-02-15T14:17:31.115577Z",
     "start_time": "2020-02-15T14:17:31.108038Z"
    }
   },
   "outputs": [],
   "source": [
    "sentiment_train_np = sentiment_train_df.values\n",
    "sentiment_test_np = sentiment_test_df.values\n",
    "sentiment_dev_np = sentiment_dev_df.values"
   ]
  },
  {
   "cell_type": "markdown",
   "metadata": {},
   "source": [
    "# Vector Representations of Text \n",
    "\n",
    "\n",
    "To train and test Logisitc Regression models, you first need to obtain vector representations for all documents given a vocabulary of features (unigrams, bigrams, trigrams).\n",
    "\n",
    "\n",
    "## Text Pre-Processing Pipeline\n",
    "\n",
    "To obtain a vocabulary of features, you should: \n",
    "- tokenise all texts into a list of unigrams (tip: using a regular expression) \n",
    "- remove stop words (using the one provided or one of your preference) \n",
    "- compute bigrams, trigrams given the remaining unigrams (or character ngrams from the unigrams)\n",
    "- remove ngrams appearing in less than K documents\n",
    "- use the remaining to create a vocabulary of unigrams, bigrams and trigrams (or character n-grams). You can keep top N if you encounter memory issues.\n"
   ]
  },
  {
   "cell_type": "code",
   "execution_count": 7,
   "metadata": {
    "ExecuteTime": {
     "end_time": "2020-02-15T14:17:31.860420Z",
     "start_time": "2020-02-15T14:17:31.855439Z"
    }
   },
   "outputs": [],
   "source": [
    "stop_words = ['a','in','on','at','and','or', \n",
    "              'to', 'the', 'of', 'an', 'by', \n",
    "              'as', 'is', 'was', 'were', 'been', 'be', \n",
    "              'are','for', 'this', 'that', 'these', 'those', 'you', 'i',\n",
    "             'it', 'he', 'she', 'we', 'they' 'will', 'have', 'has',\n",
    "              'do', 'did', 'can', 'could', 'who', 'which', 'what', \n",
    "             'his', 'her', 'they', 'them', 'from', 'with', 'its']"
   ]
  },
  {
   "cell_type": "markdown",
   "metadata": {},
   "source": [
    "### N-gram extraction from a document\n",
    "\n",
    "You first need to implement the `extract_ngrams` function. It takes as input:\n",
    "- `x_raw`: a string corresponding to the raw text of a document\n",
    "- `ngram_range`: a tuple of two integers denoting the type of ngrams you want to extract, e.g. (1,2) denotes extracting unigrams and bigrams.\n",
    "- `token_pattern`: a string to be used within a regular expression to extract all tokens. Note that data is already tokenised so you could opt for a simple white space tokenisation.\n",
    "- `stop_words`: a list of stop words\n",
    "- `vocab`: a given vocabulary. It should be used to extract specific features.\n",
    "- `char_ngrams`: boolean. If true the function extracts character n-grams\n",
    "\n",
    "and returns:\n",
    "\n",
    "- `x': a list of all extracted features.\n",
    "\n",
    "See the examples below to see how this function should work."
   ]
  },
  {
   "cell_type": "code",
   "execution_count": 8,
   "metadata": {
    "ExecuteTime": {
     "end_time": "2020-02-15T14:17:33.169090Z",
     "start_time": "2020-02-15T14:17:33.161268Z"
    }
   },
   "outputs": [],
   "source": [
    "def extract_ngrams(x_raw, ngram_range=(1,3), token_pattern=r'', \n",
    "                   stop_words=[], vocab=set(), char_ngrams=False):\n",
    "    # token_pattern=\"[a-z|\\']+\"  If char_ngrams=False\n",
    "    # token_pattern = \"[^0-9A-Za-z\\u4e00-\\u9fa5]\"  If char_ngrams=True\n",
    "    if char_ngrams == True:\n",
    "        c = \"\"\n",
    "        x = x_raw.split()\n",
    "        x = list(filter(lambda w:w not in stop_words, x)) # remove stopwords\n",
    "        x = c.join(x) \n",
    "        x = re.sub(token_pattern,'', x) # Keep letters\n",
    "    else:\n",
    "        x = re.compile(token_pattern).findall(x_raw) # only keep word in data\n",
    "        x = list(filter(lambda w:w not in stop_words, x)) # remove stopwords\n",
    "                \n",
    "    result = slide_word(x, ngram_range) # use slide_word to get ngrams\n",
    "    \n",
    "    if vocab:\n",
    "        result = list(filter(lambda d: len(set(d).intersection(vocab)) > 0, tuple(result))) \n",
    "        # get ngram which contains word in vocab\n",
    "\n",
    "    return result\n",
    "\n",
    "def slide_word(text, ngram_range):\n",
    "    result = list()\n",
    "    for n in range(ngram_range[0], ngram_range[1]+1):\n",
    "        for i in range(len(text)):\n",
    "            word = text[i:i + n]\n",
    "            if len(word) < n:\n",
    "                break\n",
    "            result.append(tuple(word))\n",
    "    return result"
   ]
  },
  {
   "cell_type": "markdown",
   "metadata": {},
   "source": [
    "### Create a vocabulary \n",
    "\n",
    "The `get_vocab` function will be used to (1) create a vocabulary of ngrams; (2) count the document frequencies of ngrams; (3) their raw frequency. It takes as input:\n",
    "- `X_raw`: a list of strings each corresponding to the raw text of a document\n",
    "- `ngram_range`: a tuple of two integers denoting the type of ngrams you want to extract, e.g. (1,2) denotes extracting unigrams and bigrams.\n",
    "- `token_pattern`: a string to be used within a regular expression to extract all tokens. Note that data is already tokenised so you could opt for a simple white space tokenisation.\n",
    "- `stop_words`: a list of stop words\n",
    "- `min_df`: keep ngrams with a minimum document frequency.\n",
    "- `keep_topN`: keep top-N more frequent ngrams.\n",
    "\n",
    "and returns:\n",
    "\n",
    "- `vocab`: a set of the n-grams that will be used as features.\n",
    "- `df`: a Counter (or dict) that contains ngrams as keys and their corresponding document frequency as values.\n",
    "- `ngram_counts`: counts of each ngram in vocab\n",
    "\n",
    "Hint: it should make use of the `extract_ngrams` function."
   ]
  },
  {
   "cell_type": "code",
   "execution_count": 9,
   "metadata": {
    "ExecuteTime": {
     "end_time": "2020-02-15T14:17:35.821240Z",
     "start_time": "2020-02-15T14:17:35.814722Z"
    }
   },
   "outputs": [],
   "source": [
    "def get_vocab(X_raw, ngram_range=(1,3), token_pattern=r'', \n",
    "              min_df=0, keep_topN=0, \n",
    "              stop_words=[],char_ngrams=False):\n",
    "    \n",
    "    x_array = []\n",
    "    df_all = {}\n",
    "    n = len(X_raw)\n",
    "    for comment in tqdm(X_raw):\n",
    "        x = extract_ngrams(comment, ngram_range=ngram_range, token_pattern=token_pattern,\n",
    "                          stop_words=stop_words, char_ngrams=char_ngrams) \n",
    "        # get ngrams for each comment\n",
    "        x_array.extend(x)\n",
    "        \n",
    "        x_set = set(x)\n",
    "        for word in x_set:\n",
    "            df_all[word] = df_all.get(word, 0) + 1 \n",
    "            # Calculate how many documents contains ngrams\n",
    "            \n",
    "    df_min = {k:v for k,v in df_all.items() if v > min_df} \n",
    "    # Get the df_min dictionary that contains those ngram which appear more than min_df times\n",
    "            \n",
    "    ngram_counts_all = Counter(x_array)\n",
    "    ngram_counts_sorted = sorted(ngram_counts_all.items(),key=lambda item:item[1],reverse=True)\n",
    "    # Sort ngrams to help calculate topN\n",
    "    \n",
    "    if keep_topN == 0:\n",
    "        ngram_counts_top = list(dict(ngram_counts_sorted).keys())#return all\n",
    "    elif keep_topN < 1:\n",
    "        ngram_counts_top = list(dict(ngram_counts_sorted).keys())[:int(len(ngram_counts_sorted)*keep_topN)] \n",
    "        #return topN by percentages\n",
    "    else:\n",
    "        ngram_counts_top =  list(dict(ngram_counts_sorted).keys())[:keep_topN] \n",
    "        #return first keep_topN ngram\n",
    "\n",
    "    vocab = set(df_min.keys()).intersection(set(ngram_counts_top))\n",
    "    #select the intersection of min_df and keep_topN\n",
    "    df ={}\n",
    "    ngram_counts ={}\n",
    "    for word in vocab:\n",
    "        df[word] = df_all[word]\n",
    "        ngram_counts[word] = ngram_counts_all[word]\n",
    "    \n",
    "    \n",
    "    return vocab, df, ngram_counts"
   ]
  },
  {
   "cell_type": "markdown",
   "metadata": {},
   "source": [
    "Now you should use `get_vocab` to create your vocabulary and get document and raw frequencies of n-grams:"
   ]
  },
  {
   "cell_type": "code",
   "execution_count": 10,
   "metadata": {
    "ExecuteTime": {
     "end_time": "2020-02-15T14:17:39.319793Z",
     "start_time": "2020-02-15T14:17:36.836545Z"
    },
    "scrolled": true
   },
   "outputs": [
    {
     "name": "stderr",
     "output_type": "stream",
     "text": [
      "100%|█████████████████████████████████████████████████████████████████████████████| 1400/1400 [00:02<00:00, 649.88it/s]\n"
     ]
    }
   ],
   "source": [
    "sentiment_train_vocab, sentiment_train_df, sentiment_train_ngram_counts = get_vocab(sentiment_train_np[:,0], \n",
    "                                                                                    token_pattern=\"[a-z|\\']+\", \n",
    "                                                                                    stop_words=stop_words, min_df=4)"
   ]
  },
  {
   "cell_type": "markdown",
   "metadata": {},
   "source": [
    "Then, you need to create 2 dictionaries: (1) vocabulary id -> word; and  (2) word -> vocabulary id so you can use them for reference:"
   ]
  },
  {
   "cell_type": "code",
   "execution_count": 11,
   "metadata": {
    "ExecuteTime": {
     "end_time": "2020-02-15T14:17:39.326811Z",
     "start_time": "2020-02-15T14:17:39.322256Z"
    }
   },
   "outputs": [],
   "source": [
    "id2word = dict(enumerate(sentiment_train_vocab))\n",
    "word2id = dict(zip(sentiment_train_vocab, range(len(sentiment_train_vocab))))"
   ]
  },
  {
   "cell_type": "markdown",
   "metadata": {},
   "source": [
    "Now you should be able to extract n-grams for each text in the training, development and test sets:"
   ]
  },
  {
   "cell_type": "code",
   "execution_count": 12,
   "metadata": {},
   "outputs": [],
   "source": [
    "def whole_extracy_ngrams(documents, char_ngrams = False, token_pattern = r''):\n",
    "    result = {}\n",
    "    i = 0\n",
    "    for comment in tqdm(documents):\n",
    "        result[i] = extract_ngrams(comment, token_pattern=token_pattern, stop_words=stop_words, char_ngrams=char_ngrams)\n",
    "        i += 1\n",
    "    return result"
   ]
  },
  {
   "cell_type": "code",
   "execution_count": 13,
   "metadata": {},
   "outputs": [
    {
     "name": "stderr",
     "output_type": "stream",
     "text": [
      "100%|████████████████████████████████████████████████████████████████████████████| 1400/1400 [00:01<00:00, 1074.84it/s]\n",
      "100%|██████████████████████████████████████████████████████████████████████████████| 400/400 [00:00<00:00, 1165.90it/s]\n",
      "100%|██████████████████████████████████████████████████████████████████████████████| 200/200 [00:00<00:00, 1132.97it/s]\n"
     ]
    }
   ],
   "source": [
    "sentiment_train_extract_ngrams = whole_extracy_ngrams(sentiment_train_np[:,0], token_pattern=\"[a-z|\\']+\")\n",
    "sentiment_test_extrace_ngrams = whole_extracy_ngrams(sentiment_test_np[:,0], token_pattern=\"[a-z|\\']+\")\n",
    "sentiment_dev_extrace_ngrams = whole_extracy_ngrams(sentiment_dev_np[:,0], token_pattern=\"[a-z|\\']+\")"
   ]
  },
  {
   "cell_type": "markdown",
   "metadata": {},
   "source": [
    "## Vectorise documents "
   ]
  },
  {
   "cell_type": "markdown",
   "metadata": {},
   "source": [
    "Next, write a function `vectoriser` to obtain Bag-of-ngram representations for a list of documents. The function should take as input:\n",
    "- `X_ngram`: a list of texts (documents), where each text is represented as list of n-grams in the `vocab`\n",
    "- `vocab`: a set of n-grams to be used for representing the documents\n",
    "\n",
    "and return:\n",
    "- `X_vec`: an array with dimensionality Nx|vocab| where N is the number of documents and |vocab| is the size of the vocabulary. Each element of the array should represent the frequency of a given n-gram in a document.\n"
   ]
  },
  {
   "cell_type": "code",
   "execution_count": 14,
   "metadata": {
    "ExecuteTime": {
     "end_time": "2020-02-15T14:17:40.219201Z",
     "start_time": "2020-02-15T14:17:40.215129Z"
    }
   },
   "outputs": [],
   "source": [
    "def vectorise(X_ngram, vocab):\n",
    "    N = len(X_ngram)\n",
    "    size_vocab = len(vocab)\n",
    "    X_vec = np.zeros(shape=(N, size_vocab))\n",
    "    for index, n_grams in tqdm(X_ngram.items()):\n",
    "        frequency = Counter(n_grams)\n",
    "        j = 0\n",
    "        for word in vocab:\n",
    "            X_vec[index,j] = frequency.get(word,0)\n",
    "            j += 1\n",
    "    return X_vec"
   ]
  },
  {
   "cell_type": "markdown",
   "metadata": {},
   "source": [
    "Finally, use `vectorise` to obtain document vectors for each document in the train, development and test set. You should extract both count and tf.idf vectors respectively:"
   ]
  },
  {
   "cell_type": "markdown",
   "metadata": {},
   "source": [
    "#### Count vectors"
   ]
  },
  {
   "cell_type": "code",
   "execution_count": 15,
   "metadata": {
    "ExecuteTime": {
     "end_time": "2020-02-15T14:17:41.999574Z",
     "start_time": "2020-02-15T14:17:40.376534Z"
    },
    "scrolled": true
   },
   "outputs": [
    {
     "name": "stderr",
     "output_type": "stream",
     "text": [
      "100%|█████████████████████████████████████████████████████████████████████████████| 1400/1400 [00:10<00:00, 138.52it/s]\n",
      "100%|███████████████████████████████████████████████████████████████████████████████| 400/400 [00:03<00:00, 130.81it/s]\n",
      "100%|███████████████████████████████████████████████████████████████████████████████| 200/200 [00:01<00:00, 131.76it/s]\n"
     ]
    }
   ],
   "source": [
    "sentiment_train_tfmatrix = vectorise(sentiment_train_extract_ngrams, sentiment_train_vocab)\n",
    "sentiment_test_tfmatrix = vectorise(sentiment_test_extrace_ngrams, sentiment_train_vocab)\n",
    "sentiment_dev_tfmatrix = vectorise(sentiment_dev_extrace_ngrams, sentiment_train_vocab)"
   ]
  },
  {
   "cell_type": "markdown",
   "metadata": {},
   "source": [
    "#### TF.IDF vectors\n",
    "\n",
    "First compute `idfs` an array containing inverted document frequencies (Note: its elements should correspond to your `vocab`)"
   ]
  },
  {
   "cell_type": "code",
   "execution_count": 16,
   "metadata": {
    "ExecuteTime": {
     "end_time": "2020-02-15T14:17:42.022692Z",
     "start_time": "2020-02-15T14:17:42.012315Z"
    },
    "scrolled": false
   },
   "outputs": [],
   "source": [
    "sentiment_idf = []\n",
    "number_documents = len(sentiment_train_np)\n",
    "for word in sentiment_train_vocab:\n",
    "    df = sentiment_train_df.get(word)\n",
    "    sentiment_idf.append(np.log(number_documents/df))"
   ]
  },
  {
   "cell_type": "markdown",
   "metadata": {},
   "source": [
    "Then transform your count vectors to tf.idf vectors:"
   ]
  },
  {
   "cell_type": "code",
   "execution_count": 17,
   "metadata": {},
   "outputs": [],
   "source": [
    "tfidf_train_matrix = sentiment_train_tfmatrix * np.array(sentiment_idf)\n",
    "tfidf_dev_matrix = sentiment_dev_tfmatrix * np.array(sentiment_idf)\n",
    "tfidf_test_matrix = sentiment_test_tfmatrix * np.array(sentiment_idf)"
   ]
  },
  {
   "cell_type": "markdown",
   "metadata": {},
   "source": [
    "# Binary Logistic Regression\n",
    "\n",
    "After obtaining vector representations of the data, now you are ready to implement Binary Logistic Regression for classifying sentiment."
   ]
  },
  {
   "cell_type": "markdown",
   "metadata": {},
   "source": [
    "First, you need to implement the `sigmoid` function. It takes as input:\n",
    "\n",
    "- `z`: a real number or an array of real numbers \n",
    "\n",
    "and returns:\n",
    "\n",
    "- `sig`: the sigmoid of `z`"
   ]
  },
  {
   "cell_type": "code",
   "execution_count": 18,
   "metadata": {
    "ExecuteTime": {
     "end_time": "2020-02-15T14:17:44.160661Z",
     "start_time": "2020-02-15T14:17:44.157902Z"
    }
   },
   "outputs": [],
   "source": [
    "def sigmoid(z):\n",
    "    sig = 1 / (1 + np.exp(-z))\n",
    "    return sig"
   ]
  },
  {
   "cell_type": "markdown",
   "metadata": {},
   "source": [
    "Then, implement the `predict_proba` function to obtain prediction probabilities. It takes as input:\n",
    "\n",
    "- `X`: an array of inputs, i.e. documents represented by bag-of-ngram vectors ($N \\times |vocab|$)\n",
    "- `weights`: a 1-D array of the model's weights $(1, |vocab|)$\n",
    "\n",
    "and returns:\n",
    "\n",
    "- `preds_proba`: the prediction probabilities of X given the weights"
   ]
  },
  {
   "cell_type": "code",
   "execution_count": 19,
   "metadata": {
    "ExecuteTime": {
     "end_time": "2020-02-15T14:17:44.718566Z",
     "start_time": "2020-02-15T14:17:44.715017Z"
    }
   },
   "outputs": [],
   "source": [
    "def predict_proba(X, weights):\n",
    "    \n",
    "    preds_proba = sigmoid(np.dot(X, weights))\n",
    "    \n",
    "    return preds_proba"
   ]
  },
  {
   "cell_type": "markdown",
   "metadata": {},
   "source": [
    "Then, implement the `predict_class` function to obtain the most probable class for each vector in an array of input vectors. It takes as input:\n",
    "\n",
    "- `X`: an array of documents represented by bag-of-ngram vectors ($N \\times |vocab|$)\n",
    "- `weights`: a 1-D array of the model's weights $(1, |vocab|)$\n",
    "\n",
    "and returns:\n",
    "\n",
    "- `preds_class`: the predicted class for each x in X given the weights"
   ]
  },
  {
   "cell_type": "code",
   "execution_count": 20,
   "metadata": {
    "ExecuteTime": {
     "end_time": "2020-02-15T14:17:45.002125Z",
     "start_time": "2020-02-15T14:17:44.998668Z"
    }
   },
   "outputs": [],
   "source": [
    "def predict_class(X, weights):\n",
    "    \n",
    "    z = predict_proba(X, weights)\n",
    "    preds_class = np.where(z>0.5,1,0)\n",
    "    \n",
    "    return preds_class"
   ]
  },
  {
   "cell_type": "markdown",
   "metadata": {},
   "source": [
    "To learn the weights from data, we need to minimise the binary cross-entropy loss. Implement `binary_loss` that takes as input:\n",
    "\n",
    "- `X`: input vectors\n",
    "- `Y`: labels\n",
    "- `weights`: model weights\n",
    "- `alpha`: regularisation strength\n",
    "\n",
    "and return:\n",
    "\n",
    "- `l`: the loss score"
   ]
  },
  {
   "cell_type": "code",
   "execution_count": 21,
   "metadata": {
    "ExecuteTime": {
     "end_time": "2020-02-15T14:17:45.455533Z",
     "start_time": "2020-02-15T14:17:45.451475Z"
    }
   },
   "outputs": [],
   "source": [
    "def binary_loss(X, Y, weights, alpha=0.00001):\n",
    "    '''\n",
    "    Binary Cross-entropy Loss\n",
    "\n",
    "    X:(len(X),len(vocab))\n",
    "    Y: array len(Y)\n",
    "    weights: array len(X)\n",
    "    '''\n",
    "    preds_proba = predict_proba(X, weights)\n",
    "    preds_proba = np.clip(preds_proba,1e-9,1-1e-9)\n",
    "    l = -np.mean(Y*np.log(preds_proba)+(1-Y)*np.log(1-preds_proba)) + alpha * (weights.T @ weights)\n",
    "    #L2 regularisation\n",
    "\n",
    "    return l"
   ]
  },
  {
   "cell_type": "markdown",
   "metadata": {},
   "source": [
    "Now, you can implement Stochastic Gradient Descent to learn the weights of your sentiment classifier. The `SGD` function takes as input:\n",
    "\n",
    "- `X_tr`: array of training data (vectors)\n",
    "- `Y_tr`: labels of `X_tr`\n",
    "- `X_dev`: array of development (i.e. validation) data (vectors)\n",
    "- `Y_dev`: labels of `X_dev`\n",
    "- `lr`: learning rate\n",
    "- `alpha`: regularisation strength\n",
    "- `epochs`: number of full passes over the training data\n",
    "- `tolerance`: stop training if the difference between the current and previous validation loss is smaller than a threshold\n",
    "- `print_progress`: flag for printing the training progress (train/validation loss)\n",
    "\n",
    "\n",
    "and returns:\n",
    "\n",
    "- `weights`: the weights learned\n",
    "- `training_loss_history`: an array with the average losses of the whole training set after each epoch\n",
    "- `validation_loss_history`: an array with the average losses of the whole development set after each epoch"
   ]
  },
  {
   "cell_type": "code",
   "execution_count": 22,
   "metadata": {
    "ExecuteTime": {
     "end_time": "2020-02-15T14:17:45.968510Z",
     "start_time": "2020-02-15T14:17:45.958185Z"
    }
   },
   "outputs": [],
   "source": [
    "def SGD(X_tr, Y_tr, X_dev=[], Y_dev=[], lr=0.1, \n",
    "        alpha=1e-5, epochs=5, \n",
    "        tolerance=0.0001, print_progress=True):\n",
    "        X_tr = np.array(X_tr)\n",
    "        Y_tr = np.array(Y_tr)\n",
    "        X_dev = np.array(X_dev)\n",
    "        Y_dev = np.array(Y_dev)\n",
    "        m, n = X_tr.shape\n",
    "        weights = np.random.normal(0,0.1,n)\n",
    "        epochs_count = 0\n",
    "        training_loss_history = []\n",
    "        validation_loss_history = []\n",
    "        epochs_list = []\n",
    "        index = list(range(m))\n",
    "        validation_loss = np.inf\n",
    "        training_loss = np.inf\n",
    "        b = 0\n",
    "        \n",
    "        for epochs_count in tqdm(range(epochs)): # Multiple passes\n",
    "            np.random.shuffle(index) # Randomise the order of training data after each pass\n",
    "            for i in index:\n",
    "                hypothesis = predict_proba(X_tr[i], weights)\n",
    "                error = Y_tr[i] - hypothesis\n",
    "                grad = -np.array(np.dot(error,X_tr[i]).tolist()) + 2 * weights * alpha/len(weights) \n",
    "                #Gradient with L2 regularisation\n",
    "                #Minimise the Binary Cross-entropy loss function\n",
    "                weights = weights - lr * grad\n",
    "                \n",
    "            training_loss_new = binary_loss(X_tr, Y_tr, weights=weights, alpha=alpha) \n",
    "            # Training loss\n",
    "            training_loss_history.append(training_loss_new)\n",
    "\n",
    "            validation_loss_new = binary_loss(X_dev, Y_dev, weights=weights, alpha=alpha) \n",
    "            #Validation loss\n",
    "            validation_loss_history.append(validation_loss_new)\n",
    "            if print_progress==True: # Print the training and developemnt loss\n",
    "                print('Epoch:{}   training_loss:{}   validation_loss:{}'.format(epochs_count,training_loss_new,validation_loss_new))\n",
    "            if abs(validation_loss_new - validation_loss) < tolerance: \n",
    "                # Stop training if the difference smaller than a threshold more than b times\n",
    "                b += 1\n",
    "                if b > 0:\n",
    "                    break\n",
    "            else:\n",
    "                b = 0\n",
    "                validation_loss = validation_loss_new\n",
    "                training_loss = training_loss_new\n",
    "            epochs_list.append(epochs_count)\n",
    "        print(\"Stop Epoch: {}\".format(epochs_count))\n",
    "        return weights, training_loss_history, validation_loss_history"
   ]
  },
  {
   "cell_type": "markdown",
   "metadata": {},
   "source": [
    "## Train and Evaluate Logistic Regression with Count vectors\n",
    "\n",
    "First train the model using SGD:"
   ]
  },
  {
   "cell_type": "code",
   "execution_count": 23,
   "metadata": {
    "scrolled": false
   },
   "outputs": [
    {
     "name": "stderr",
     "output_type": "stream",
     "text": [
      " 27%|██████████████████████▏                                                            | 8/30 [00:17<00:47,  2.17s/it]"
     ]
    },
    {
     "name": "stdout",
     "output_type": "stream",
     "text": [
      "Stop Epoch: 8\n"
     ]
    },
    {
     "name": "stderr",
     "output_type": "stream",
     "text": [
      "\n"
     ]
    }
   ],
   "source": [
    "Bow_count, Bow_training_loss_history, Bow_validation_loss_history = SGD(sentiment_train_tfmatrix, sentiment_train_np[:,1], \n",
    "                                                                        sentiment_dev_tfmatrix, sentiment_dev_np[:,1],\n",
    "                                                                        lr=0.06,epochs=30,tolerance=0.001, print_progress=False)"
   ]
  },
  {
   "cell_type": "markdown",
   "metadata": {},
   "source": [
    "Now plot the training and validation history per epoch for the best hyperparameter combination. Does your model underfit, overfit or is it about right? Explain why."
   ]
  },
  {
   "cell_type": "markdown",
   "metadata": {
    "ExecuteTime": {
     "end_time": "2020-01-21T16:52:26.583150Z",
     "start_time": "2020-01-21T16:52:26.578754Z"
    }
   },
   "source": [
    "The model is about right. The figure showed that the training loss and validation loss has decreased in the first few epochs and becomes stable after several epochs which means the model did not underfit. At the end of training, the loss did not vibrate or increase which means the model isn't overfit."
   ]
  },
  {
   "cell_type": "code",
   "execution_count": 24,
   "metadata": {},
   "outputs": [
    {
     "data": {
      "text/plain": [
       "<matplotlib.legend.Legend at 0x288c8d4c438>"
      ]
     },
     "execution_count": 24,
     "metadata": {},
     "output_type": "execute_result"
    },
    {
     "data": {
      "image/png": "[encoded data removed]",
      "text/plain": [
       "<Figure size 432x288 with 1 Axes>"
      ]
     },
     "metadata": {
      "needs_background": "light"
     },
     "output_type": "display_data"
    }
   ],
   "source": [
    "plt.plot(Bow_training_loss_history, label = \"Training\")\n",
    "plt.plot(Bow_validation_loss_history, label = \"Validation\")\n",
    "plt.title(\"Loss-Epoch\")\n",
    "plt.xlabel(\"Epoch\")\n",
    "plt.ylabel(\"Loss\")\n",
    "plt.legend()"
   ]
  },
  {
   "cell_type": "markdown",
   "metadata": {},
   "source": [
    "#### Evaluation\n",
    "\n",
    "Compute accuracy, precision, recall and F1-scores:"
   ]
  },
  {
   "cell_type": "code",
   "execution_count": 25,
   "metadata": {},
   "outputs": [
    {
     "name": "stdout",
     "output_type": "stream",
     "text": [
      "Accuracy: 0.8175\n",
      "Precision: 0.7953488372093023\n",
      "Recall: 0.855\n",
      "F1-Score: 0.8240963855421686\n"
     ]
    }
   ],
   "source": [
    "X_te_count = np.array(sentiment_test_tfmatrix)\n",
    "Y_te = np.array(sentiment_test_np[:,1].tolist())\n",
    "preds_te_count = predict_class(X_te_count, Bow_count)\n",
    "\n",
    "print('Accuracy:', accuracy_score(Y_te,preds_te_count))\n",
    "print('Precision:', precision_score(Y_te,preds_te_count))\n",
    "print('Recall:', recall_score(Y_te,preds_te_count))\n",
    "print('F1-Score:', f1_score(Y_te,preds_te_count))"
   ]
  },
  {
   "cell_type": "markdown",
   "metadata": {},
   "source": [
    "Finally, print the top-10 words for the negative and positive class respectively."
   ]
  },
  {
   "cell_type": "code",
   "execution_count": 26,
   "metadata": {
    "ExecuteTime": {
     "end_time": "2020-02-15T14:17:51.613935Z",
     "start_time": "2020-02-15T14:17:51.610660Z"
    }
   },
   "outputs": [
    {
     "name": "stdout",
     "output_type": "stream",
     "text": [
      "('bad',)\n",
      "('unfortunately',)\n",
      "('worst',)\n",
      "('script',)\n",
      "('any',)\n",
      "('boring',)\n",
      "('plot',)\n",
      "('west',)\n",
      "('why',)\n",
      "('silly',)\n"
     ]
    }
   ],
   "source": [
    "top_neg = Bow_count.argsort()[:10]\n",
    "for i in top_neg:\n",
    "    print(id2word[i])"
   ]
  },
  {
   "cell_type": "code",
   "execution_count": 27,
   "metadata": {
    "ExecuteTime": {
     "end_time": "2020-02-15T14:17:51.624122Z",
     "start_time": "2020-02-15T14:17:51.615674Z"
    }
   },
   "outputs": [
    {
     "name": "stdout",
     "output_type": "stream",
     "text": [
      "('great',)\n",
      "('movies',)\n",
      "('without',)\n",
      "('works',)\n",
      "('cauldron',)\n",
      "('quite',)\n",
      "('perfectly',)\n",
      "('hilarious',)\n",
      "('see',)\n",
      "('life',)\n"
     ]
    }
   ],
   "source": [
    "top_pos = Bow_count.argsort()[::-1][:10]\n",
    "for i in top_pos:\n",
    "    print(id2word[i])"
   ]
  },
  {
   "cell_type": "markdown",
   "metadata": {},
   "source": [
    "If we were to apply the classifier we've learned into a different domain such laptop reviews or restaurant reviews, do you think these features would generalise well? Can you propose what features the classifier could pick up as important in the new domain?"
   ]
  },
  {
   "cell_type": "markdown",
   "metadata": {},
   "source": [
    "Actually, the classifier we've learned may not have good performance when it applied to a new domain. The classifier with the parameters was learned on the sentiment analysis dataset. The weights of the classifier should corresponding to the features which means when we apply the classfier to a different domain, the features of the new domain will same as the sentiment dataset. In fact, some words which have high frequcy in the sentiment dataset may not appear in the different domain's dataset and it will affect the results of the classifier.\n",
    "\n",
    "Those features with obvious emotion in the different domain could be picked up as important. If the classifier be used to do sentiment analysis in a different domain, the words with obvious emotion will not have too much difference with those words in sentiment train dataset which means the weights learned from the sentiment train dataset can also be applied to those fearures."
   ]
  },
  {
   "cell_type": "markdown",
   "metadata": {},
   "source": [
    "### Discuss how did you choose model hyperparameters (e.g. learning rate and regularisation strength)? What is the relation between training epochs and learning rate? How the regularisation strength affects performance?"
   ]
  },
  {
   "cell_type": "markdown",
   "metadata": {},
   "source": [
    "#### Example1: lr=5 ,alpha=1e-5"
   ]
  },
  {
   "cell_type": "code",
   "execution_count": 28,
   "metadata": {},
   "outputs": [
    {
     "name": "stderr",
     "output_type": "stream",
     "text": [
      "  0%|                                                                                           | 0/30 [00:00<?, ?it/s]D:\\PROGRAM\\Anaconda3\\lib\\site-packages\\ipykernel_launcher.py:2: RuntimeWarning: overflow encountered in exp\n",
      "  \n",
      "100%|██████████████████████████████████████████████████████████████████████████████████| 30/30 [00:55<00:00,  1.84s/it]"
     ]
    },
    {
     "name": "stdout",
     "output_type": "stream",
     "text": [
      "Stop Epoch: 29\n"
     ]
    },
    {
     "name": "stderr",
     "output_type": "stream",
     "text": [
      "\n"
     ]
    }
   ],
   "source": [
    "E1_count, E1_training_loss_history, E1_validation_loss_history = SGD(sentiment_train_tfmatrix, sentiment_train_np[:,1], sentiment_dev_tfmatrix, sentiment_dev_np[:,1],\n",
    "                                                                        lr=10,epochs=30,tolerance=0.001, print_progress=False)"
   ]
  },
  {
   "cell_type": "code",
   "execution_count": 29,
   "metadata": {
    "scrolled": false
   },
   "outputs": [
    {
     "name": "stdout",
     "output_type": "stream",
     "text": [
      "Accuracy: 0.8175\n",
      "Precision: 0.7981220657276995\n",
      "Recall: 0.85\n",
      "F1-Score: 0.8232445520581112\n"
     ]
    },
    {
     "name": "stderr",
     "output_type": "stream",
     "text": [
      "D:\\PROGRAM\\Anaconda3\\lib\\site-packages\\ipykernel_launcher.py:2: RuntimeWarning: overflow encountered in exp\n",
      "  \n"
     ]
    }
   ],
   "source": [
    "X_te_count = np.array(sentiment_test_tfmatrix)\n",
    "Y_te = np.array(sentiment_test_np[:,1].tolist())\n",
    "preds_te_count = predict_class(X_te_count, E1_count)\n",
    "\n",
    "print('Accuracy:', accuracy_score(Y_te,preds_te_count))\n",
    "print('Precision:', precision_score(Y_te,preds_te_count))\n",
    "print('Recall:', recall_score(Y_te,preds_te_count))\n",
    "print('F1-Score:', f1_score(Y_te,preds_te_count))"
   ]
  },
  {
   "cell_type": "markdown",
   "metadata": {},
   "source": [
    "#### Example2: lr=1e-5 , alpha=1e-5"
   ]
  },
  {
   "cell_type": "code",
   "execution_count": 30,
   "metadata": {
    "scrolled": true
   },
   "outputs": [
    {
     "name": "stderr",
     "output_type": "stream",
     "text": [
      "100%|██████████████████████████████████████████████████████████████████████████████████| 30/30 [00:55<00:00,  1.86s/it]"
     ]
    },
    {
     "name": "stdout",
     "output_type": "stream",
     "text": [
      "Stop Epoch: 29\n"
     ]
    },
    {
     "name": "stderr",
     "output_type": "stream",
     "text": [
      "\n"
     ]
    }
   ],
   "source": [
    "E2_count, E2_training_loss_history, E2_validation_loss_history = SGD(sentiment_train_tfmatrix, sentiment_train_np[:,1], sentiment_dev_tfmatrix, sentiment_dev_np[:,1],\n",
    "                                                                        lr=1e-5,epochs=30,tolerance=0.001, print_progress=False)"
   ]
  },
  {
   "cell_type": "code",
   "execution_count": 31,
   "metadata": {
    "scrolled": true
   },
   "outputs": [
    {
     "name": "stdout",
     "output_type": "stream",
     "text": [
      "Accuracy: 0.5425\n",
      "Precision: 0.5391705069124424\n",
      "Recall: 0.585\n",
      "F1-Score: 0.5611510791366906\n"
     ]
    }
   ],
   "source": [
    "X_te_count = np.array(sentiment_test_tfmatrix)\n",
    "Y_te = np.array(sentiment_test_np[:,1].tolist())\n",
    "preds_te_count = predict_class(X_te_count, E2_count)\n",
    "\n",
    "print('Accuracy:', accuracy_score(Y_te,preds_te_count))\n",
    "print('Precision:', precision_score(Y_te,preds_te_count))\n",
    "print('Recall:', recall_score(Y_te,preds_te_count))\n",
    "print('F1-Score:', f1_score(Y_te,preds_te_count))"
   ]
  },
  {
   "cell_type": "markdown",
   "metadata": {},
   "source": [
    "#### Example3: alpha=1e-9, lr=0.04"
   ]
  },
  {
   "cell_type": "code",
   "execution_count": 32,
   "metadata": {},
   "outputs": [
    {
     "name": "stderr",
     "output_type": "stream",
     "text": [
      " 27%|██████████████████████▏                                                            | 8/30 [00:16<00:45,  2.08s/it]"
     ]
    },
    {
     "name": "stdout",
     "output_type": "stream",
     "text": [
      "Stop Epoch: 8\n"
     ]
    },
    {
     "name": "stderr",
     "output_type": "stream",
     "text": [
      "\n"
     ]
    }
   ],
   "source": [
    "E3_count, E3_training_loss_history, E3_validation_loss_history = SGD(sentiment_train_tfmatrix, sentiment_train_np[:,1], \n",
    "                                                                     sentiment_dev_tfmatrix, sentiment_dev_np[:,1],\n",
    "                                                                    lr=0.06, alpha=1e-9,epochs=30,tolerance=0.001, print_progress=False)"
   ]
  },
  {
   "cell_type": "code",
   "execution_count": 33,
   "metadata": {},
   "outputs": [
    {
     "name": "stdout",
     "output_type": "stream",
     "text": [
      "Accuracy: 0.8425\n",
      "Precision: 0.8341463414634146\n",
      "Recall: 0.855\n",
      "F1-Score: 0.8444444444444444\n"
     ]
    }
   ],
   "source": [
    "X_te_count = np.array(sentiment_test_tfmatrix)\n",
    "Y_te = np.array(sentiment_test_np[:,1].tolist())\n",
    "preds_te_count = predict_class(X_te_count, E3_count)\n",
    "\n",
    "print('Accuracy:', accuracy_score(Y_te,preds_te_count))\n",
    "print('Precision:', precision_score(Y_te,preds_te_count))\n",
    "print('Recall:', recall_score(Y_te,preds_te_count))\n",
    "print('F1-Score:', f1_score(Y_te,preds_te_count))"
   ]
  },
  {
   "cell_type": "markdown",
   "metadata": {},
   "source": [
    "#### Example3: alpha=1, lr=0.04"
   ]
  },
  {
   "cell_type": "code",
   "execution_count": 34,
   "metadata": {},
   "outputs": [
    {
     "name": "stderr",
     "output_type": "stream",
     "text": [
      "100%|██████████████████████████████████████████████████████████████████████████████████| 30/30 [00:55<00:00,  1.85s/it]"
     ]
    },
    {
     "name": "stdout",
     "output_type": "stream",
     "text": [
      "Stop Epoch: 29\n"
     ]
    },
    {
     "name": "stderr",
     "output_type": "stream",
     "text": [
      "\n"
     ]
    }
   ],
   "source": [
    "E4_count, E4_training_loss_history, E4_validation_loss_history = SGD(sentiment_train_tfmatrix, sentiment_train_np[:,1], \n",
    "                                                                     sentiment_dev_tfmatrix, sentiment_dev_np[:,1],\n",
    "                                                                    lr=0.06, alpha=1,epochs=30,tolerance=0.001, print_progress=False)"
   ]
  },
  {
   "cell_type": "code",
   "execution_count": 35,
   "metadata": {},
   "outputs": [
    {
     "name": "stdout",
     "output_type": "stream",
     "text": [
      "Accuracy: 0.8225\n",
      "Precision: 0.8\n",
      "Recall: 0.86\n",
      "F1-Score: 0.8289156626506025\n"
     ]
    }
   ],
   "source": [
    "X_te_count = np.array(sentiment_test_tfmatrix)\n",
    "Y_te = np.array(sentiment_test_np[:,1].tolist())\n",
    "preds_te_count = predict_class(X_te_count, E4_count)\n",
    "\n",
    "print('Accuracy:', accuracy_score(Y_te,preds_te_count))\n",
    "print('Precision:', precision_score(Y_te,preds_te_count))\n",
    "print('Recall:', recall_score(Y_te,preds_te_count))\n",
    "print('F1-Score:', f1_score(Y_te,preds_te_count))"
   ]
  },
  {
   "cell_type": "markdown",
   "metadata": {},
   "source": [
    "In order to select the appropriate parameters, we need to use different sets of hyperparameters. To show the different results of different examples, parameters with huge differences will be used. Also, the difference in parameters within ten times of the appropriate has little effect on the results. We can notice that some example may achieve a higher F1-socre that we used, but they also need more epochs to finish training but only increase the F1-Score less than 0.01 which will waste our time.\n",
    "\n",
    "When the learning rate is too large or too small, the classifier will need more epochs to finish training. Also, when the learning rate is too large, SGD may difficult to get reach local optimum and will vibrate around the local optimum so that it will need more epochs. When the learning weight is too small, the gradiend will converge with a small convergence rate and it will also need more epochs to reach the local optimum.\n",
    "\n",
    "L2 regularisation aims to give a \"penaty\" to the loss. A small regularisation strength may cause underfit and a big regularisation stregnth may cause overfit."
   ]
  },
  {
   "cell_type": "markdown",
   "metadata": {},
   "source": [
    "| Example | Learing Rate  | Alpha | Epochs | F1-Score  |\n",
    "|:-:|:-:|:-:|:-:|:-:|\n",
    "| BOW-count  | 0.06  | 1e-5  | 8  | 0.824|\n",
    "| Example1  | 10  | 1e-5  | >30  | 0.823|\n",
    "| Example2  | 1e-5  |  1e-5 | >30 | 0.561|\n",
    "| Example3  | 0.06  |  1e-9 | >30 |0.844|\n",
    "| Example4  | 0.06  |  1 | >30   | 0.829|"
   ]
  },
  {
   "cell_type": "markdown",
   "metadata": {},
   "source": [
    "## Train and Evaluate Logistic Regression with TF.IDF vectors\n",
    "\n",
    "Follow the same steps as above (i.e. evaluating count n-gram representations).\n"
   ]
  },
  {
   "cell_type": "code",
   "execution_count": 59,
   "metadata": {},
   "outputs": [
    {
     "name": "stderr",
     "output_type": "stream",
     "text": [
      "  0%|                                                                                           | 0/30 [00:00<?, ?it/s]D:\\PROGRAM\\Anaconda3\\lib\\site-packages\\ipykernel_launcher.py:2: RuntimeWarning: overflow encountered in exp\n",
      "  \n",
      " 23%|███████████████████▎                                                               | 7/30 [00:15<00:50,  2.20s/it]"
     ]
    },
    {
     "name": "stdout",
     "output_type": "stream",
     "text": [
      "Stop Epoch: 7\n"
     ]
    },
    {
     "name": "stderr",
     "output_type": "stream",
     "text": [
      "\n"
     ]
    }
   ],
   "source": [
    "w_count, training_loss_history, validation_loss_history = SGD(tfidf_train_matrix,sentiment_train_np[:,1], tfidf_dev_matrix, \n",
    "                                                              sentiment_dev_np[:,1],lr=0.06,epochs=30,tolerance=0.001,\n",
    "                                                              print_progress=False)"
   ]
  },
  {
   "cell_type": "code",
   "execution_count": 60,
   "metadata": {},
   "outputs": [
    {
     "data": {
      "text/plain": [
       "<matplotlib.legend.Legend at 0x288f4e91550>"
      ]
     },
     "execution_count": 60,
     "metadata": {},
     "output_type": "execute_result"
    },
    {
     "data": {
      "image/png": "[encoded data removed]",
      "text/plain": [
       "<Figure size 432x288 with 1 Axes>"
      ]
     },
     "metadata": {
      "needs_background": "light"
     },
     "output_type": "display_data"
    }
   ],
   "source": [
    "plt.plot(training_loss_history, label = \"Training\")\n",
    "plt.plot(validation_loss_history, label = \"Validation\")\n",
    "plt.title(\"Loss-Epoch\")\n",
    "plt.xlabel(\"Epoch\")\n",
    "plt.ylabel(\"Loss\")\n",
    "plt.legend()"
   ]
  },
  {
   "cell_type": "code",
   "execution_count": 61,
   "metadata": {},
   "outputs": [
    {
     "name": "stdout",
     "output_type": "stream",
     "text": [
      "Accuracy: 0.805\n",
      "Precision: 0.7699115044247787\n",
      "Recall: 0.87\n",
      "F1-Score: 0.8169014084507041\n"
     ]
    }
   ],
   "source": [
    "X_te_count = np.array(tfidf_test_matrix)\n",
    "Y_te = np.array(sentiment_test_np[:,1].tolist())\n",
    "preds_te_count = predict_class(X_te_count, w_count)\n",
    "\n",
    "print('Accuracy:', accuracy_score(Y_te,preds_te_count))\n",
    "print('Precision:', precision_score(Y_te,preds_te_count))\n",
    "print('Recall:', recall_score(Y_te,preds_te_count))\n",
    "print('F1-Score:', f1_score(Y_te,preds_te_count))"
   ]
  },
  {
   "cell_type": "code",
   "execution_count": 62,
   "metadata": {},
   "outputs": [
    {
     "name": "stdout",
     "output_type": "stream",
     "text": [
      "('dune',)\n",
      "('hammond',)\n",
      "('unfortunately',)\n",
      "('bad',)\n",
      "('stahl',)\n",
      "('spawn',)\n",
      "('filmmakers',)\n",
      "('data',)\n",
      "('ridiculous',)\n",
      "('spice',)\n"
     ]
    }
   ],
   "source": [
    "top_neg = w_count.argsort()[:10]\n",
    "for i in top_neg:\n",
    "    print(id2word[i])"
   ]
  },
  {
   "cell_type": "code",
   "execution_count": 63,
   "metadata": {},
   "outputs": [
    {
     "name": "stdout",
     "output_type": "stream",
     "text": [
      "('exotica',)\n",
      "('shaw',)\n",
      "('toys',)\n",
      "('lebowski',)\n",
      "('trek',)\n",
      "('sweet',)\n",
      "('ellie',)\n",
      "('spacey',)\n",
      "('movement',)\n",
      "('raimi',)\n"
     ]
    }
   ],
   "source": [
    "top_pos = w_count.argsort()[::-1][:10]\n",
    "for i in top_pos:\n",
    "    print(id2word[i])"
   ]
  },
  {
   "cell_type": "markdown",
   "metadata": {},
   "source": [
    "### Now repeat the training and evaluation process for BOW-tfidf, BOCN-count, BOCN-tfidf, BOW+BOCN including hyperparameter tuning for each model...\n",
    "#### BOW-tfidf has showed above"
   ]
  },
  {
   "cell_type": "markdown",
   "metadata": {},
   "source": [
    "#### BOCN-count"
   ]
  },
  {
   "cell_type": "code",
   "execution_count": 41,
   "metadata": {},
   "outputs": [
    {
     "name": "stderr",
     "output_type": "stream",
     "text": [
      "100%|█████████████████████████████████████████████████████████████████████████████| 1400/1400 [00:05<00:00, 236.36it/s]\n"
     ]
    }
   ],
   "source": [
    "sentiment_trainbocn_vocab, sentiment_trainbocn_df, sentiment_trainbocn_counts = get_vocab(sentiment_train_np[:,0],\n",
    "                                                                                          token_pattern = \"[^0-9A-Za-z\\u4e00-\\u9fa5]\", \n",
    "                                                                                          stop_words=stop_words, min_df=5,\n",
    "                                                                                          char_ngrams=True)"
   ]
  },
  {
   "cell_type": "code",
   "execution_count": 42,
   "metadata": {
    "scrolled": true
   },
   "outputs": [
    {
     "name": "stderr",
     "output_type": "stream",
     "text": [
      "100%|█████████████████████████████████████████████████████████████████████████████| 1400/1400 [00:04<00:00, 319.25it/s]\n",
      "100%|███████████████████████████████████████████████████████████████████████████████| 400/400 [00:01<00:00, 329.56it/s]\n",
      "100%|███████████████████████████████████████████████████████████████████████████████| 200/200 [00:00<00:00, 318.31it/s]\n"
     ]
    }
   ],
   "source": [
    "sentiment_trainbocn_extract_ngrams = whole_extracy_ngrams(sentiment_train_np[:,0], char_ngrams=True, \n",
    "                                                          token_pattern = \"[^0-9A-Za-z\\u4e00-\\u9fa5]\")\n",
    "sentiment_testbocn_extrace_ngrams = whole_extracy_ngrams(sentiment_test_np[:,0], char_ngrams=True, \n",
    "                                                         token_pattern = \"[^0-9A-Za-z\\u4e00-\\u9fa5]\")\n",
    "sentiment_devbocn_extrace_ngrams = whole_extracy_ngrams(sentiment_dev_np[:,0], char_ngrams=True, \n",
    "                                                        token_pattern = \"[^0-9A-Za-z\\u4e00-\\u9fa5]\")"
   ]
  },
  {
   "cell_type": "code",
   "execution_count": 43,
   "metadata": {
    "scrolled": true
   },
   "outputs": [
    {
     "name": "stderr",
     "output_type": "stream",
     "text": [
      "100%|█████████████████████████████████████████████████████████████████████████████| 1400/1400 [00:04<00:00, 344.14it/s]\n",
      "100%|███████████████████████████████████████████████████████████████████████████████| 400/400 [00:01<00:00, 335.34it/s]\n",
      "100%|███████████████████████████████████████████████████████████████████████████████| 200/200 [00:00<00:00, 367.28it/s]\n"
     ]
    }
   ],
   "source": [
    "sentiment_trainbocn_tfmatrix = vectorise(sentiment_trainbocn_extract_ngrams, sentiment_trainbocn_vocab)\n",
    "sentiment_testbocn_tfmatrix = vectorise(sentiment_testbocn_extrace_ngrams, sentiment_trainbocn_vocab)\n",
    "sentiment_devbocn_tfmatrix = vectorise(sentiment_devbocn_extrace_ngrams, sentiment_trainbocn_vocab)"
   ]
  },
  {
   "cell_type": "code",
   "execution_count": 44,
   "metadata": {},
   "outputs": [
    {
     "name": "stderr",
     "output_type": "stream",
     "text": [
      "  0%|                                                                                           | 0/30 [00:00<?, ?it/s]D:\\PROGRAM\\Anaconda3\\lib\\site-packages\\ipykernel_launcher.py:2: RuntimeWarning: overflow encountered in exp\n",
      "  \n",
      "100%|██████████████████████████████████████████████████████████████████████████████████| 30/30 [00:21<00:00,  1.37it/s]"
     ]
    },
    {
     "name": "stdout",
     "output_type": "stream",
     "text": [
      "Stop Epoch: 29\n"
     ]
    },
    {
     "name": "stderr",
     "output_type": "stream",
     "text": [
      "\n"
     ]
    }
   ],
   "source": [
    "Bocn_count, Bocn_training_loss_history, Bocn_validation_loss_history = SGD(sentiment_trainbocn_tfmatrix, sentiment_train_np[:,1], \n",
    "                                                                        sentiment_devbocn_tfmatrix, sentiment_dev_np[:,1],\n",
    "                                                                        lr=0.06,epochs=30,tolerance=0.001, print_progress=False)"
   ]
  },
  {
   "cell_type": "code",
   "execution_count": 45,
   "metadata": {},
   "outputs": [
    {
     "name": "stdout",
     "output_type": "stream",
     "text": [
      "Accuracy: 0.78\n",
      "Precision: 0.78\n",
      "Recall: 0.78\n",
      "F1-Score: 0.78\n"
     ]
    },
    {
     "name": "stderr",
     "output_type": "stream",
     "text": [
      "D:\\PROGRAM\\Anaconda3\\lib\\site-packages\\ipykernel_launcher.py:2: RuntimeWarning: overflow encountered in exp\n",
      "  \n"
     ]
    }
   ],
   "source": [
    "X_te_count = np.array(sentiment_testbocn_tfmatrix)\n",
    "Y_te = np.array(sentiment_test_np[:,1].tolist())\n",
    "preds_te_count = predict_class(X_te_count, Bocn_count)\n",
    "\n",
    "print('Accuracy:', accuracy_score(Y_te,preds_te_count))\n",
    "print('Precision:', precision_score(Y_te,preds_te_count))\n",
    "print('Recall:', recall_score(Y_te,preds_te_count))\n",
    "print('F1-Score:', f1_score(Y_te,preds_te_count))"
   ]
  },
  {
   "cell_type": "markdown",
   "metadata": {},
   "source": [
    "#### Bocn-tfidf"
   ]
  },
  {
   "cell_type": "code",
   "execution_count": 46,
   "metadata": {},
   "outputs": [],
   "source": [
    "sentiment_bocnidf = []\n",
    "for word in sentiment_trainbocn_vocab:\n",
    "    df = sentiment_trainbocn_df.get(word)\n",
    "    sentiment_bocnidf.append(np.log(number_documents/df))"
   ]
  },
  {
   "cell_type": "code",
   "execution_count": 47,
   "metadata": {},
   "outputs": [],
   "source": [
    "bocntfidf_train_matrix = sentiment_trainbocn_tfmatrix * sentiment_bocnidf\n",
    "bocntfidf_dev_matrix = sentiment_devbocn_tfmatrix * sentiment_bocnidf\n",
    "bocntfidf_test_matrix = sentiment_testbocn_tfmatrix * sentiment_bocnidf"
   ]
  },
  {
   "cell_type": "code",
   "execution_count": 48,
   "metadata": {},
   "outputs": [
    {
     "name": "stderr",
     "output_type": "stream",
     "text": [
      "  0%|                                                                                           | 0/30 [00:00<?, ?it/s]D:\\PROGRAM\\Anaconda3\\lib\\site-packages\\ipykernel_launcher.py:2: RuntimeWarning: overflow encountered in exp\n",
      "  \n",
      " 33%|███████████████████████████▎                                                      | 10/30 [00:08<00:16,  1.23it/s]"
     ]
    },
    {
     "name": "stdout",
     "output_type": "stream",
     "text": [
      "Stop Epoch: 10\n"
     ]
    },
    {
     "name": "stderr",
     "output_type": "stream",
     "text": [
      "\n"
     ]
    }
   ],
   "source": [
    "Bocntfidf_count,Bocntfidf_training_loss_history,Bocntfidf_validation_loss_history = SGD(bocntfidf_train_matrix, sentiment_train_np[:,1], \n",
    "                                                                        bocntfidf_dev_matrix, sentiment_dev_np[:,1],\n",
    "                                                                        lr=0.06,epochs=30,tolerance=0.001, print_progress=False)"
   ]
  },
  {
   "cell_type": "code",
   "execution_count": 49,
   "metadata": {},
   "outputs": [
    {
     "name": "stdout",
     "output_type": "stream",
     "text": [
      "Accuracy: 0.7875\n",
      "Precision: 0.7860696517412935\n",
      "Recall: 0.79\n",
      "F1-Score: 0.7880299251870324\n"
     ]
    },
    {
     "name": "stderr",
     "output_type": "stream",
     "text": [
      "D:\\PROGRAM\\Anaconda3\\lib\\site-packages\\ipykernel_launcher.py:2: RuntimeWarning: overflow encountered in exp\n",
      "  \n"
     ]
    }
   ],
   "source": [
    "X_te_count = np.array(bocntfidf_test_matrix)\n",
    "Y_te = np.array(sentiment_test_np[:,1].tolist())\n",
    "preds_te_count = predict_class(X_te_count, Bocntfidf_count)\n",
    "\n",
    "print('Accuracy:', accuracy_score(Y_te,preds_te_count))\n",
    "print('Precision:', precision_score(Y_te,preds_te_count))\n",
    "print('Recall:', recall_score(Y_te,preds_te_count))\n",
    "print('F1-Score:', f1_score(Y_te,preds_te_count))"
   ]
  },
  {
   "cell_type": "markdown",
   "metadata": {},
   "source": [
    "#### BOW(tfidf)+BOCN(tfidf)"
   ]
  },
  {
   "cell_type": "code",
   "execution_count": 50,
   "metadata": {},
   "outputs": [],
   "source": [
    "bow_bocn_train = np.hstack((tfidf_train_matrix,bocntfidf_train_matrix))\n",
    "bow_bocn_dev = np.hstack((tfidf_dev_matrix, bocntfidf_dev_matrix))\n",
    "bow_bocn_test = np.hstack((tfidf_test_matrix, bocntfidf_test_matrix))"
   ]
  },
  {
   "cell_type": "code",
   "execution_count": 51,
   "metadata": {},
   "outputs": [
    {
     "name": "stderr",
     "output_type": "stream",
     "text": [
      "  0%|                                                                                           | 0/30 [00:00<?, ?it/s]D:\\PROGRAM\\Anaconda3\\lib\\site-packages\\ipykernel_launcher.py:2: RuntimeWarning: overflow encountered in exp\n",
      "  \n",
      " 20%|████████████████▌                                                                  | 6/30 [00:18<01:15,  3.16s/it]"
     ]
    },
    {
     "name": "stdout",
     "output_type": "stream",
     "text": [
      "Stop Epoch: 6\n"
     ]
    },
    {
     "name": "stderr",
     "output_type": "stream",
     "text": [
      "\n"
     ]
    }
   ],
   "source": [
    "bowbocn_count, bowbocn_training_loss_history, bowbocn_validation_loss_history = SGD(bow_bocn_train, sentiment_train_np[:,1], \n",
    "                                                                        bow_bocn_dev, sentiment_dev_np[:,1],\n",
    "                                                                        lr=0.06,epochs=30,tolerance=0.001, print_progress=False)"
   ]
  },
  {
   "cell_type": "code",
   "execution_count": 52,
   "metadata": {},
   "outputs": [
    {
     "name": "stdout",
     "output_type": "stream",
     "text": [
      "Accuracy: 0.8225\n",
      "Precision: 0.8056872037914692\n",
      "Recall: 0.85\n",
      "F1-Score: 0.8272506082725061\n"
     ]
    },
    {
     "name": "stderr",
     "output_type": "stream",
     "text": [
      "D:\\PROGRAM\\Anaconda3\\lib\\site-packages\\ipykernel_launcher.py:2: RuntimeWarning: overflow encountered in exp\n",
      "  \n"
     ]
    }
   ],
   "source": [
    "X_te_count = np.array(bow_bocn_test)\n",
    "Y_te = np.array(sentiment_test_np[:,1].tolist())\n",
    "preds_te_count = predict_class(X_te_count, bowbocn_count)\n",
    "\n",
    "print('Accuracy:', accuracy_score(Y_te,preds_te_count))\n",
    "print('Precision:', precision_score(Y_te,preds_te_count))\n",
    "print('Recall:', recall_score(Y_te,preds_te_count))\n",
    "print('F1-Score:', f1_score(Y_te,preds_te_count))"
   ]
  },
  {
   "cell_type": "markdown",
   "metadata": {},
   "source": [
    "\n",
    "\n",
    "## Full Results\n",
    "\n",
    "Add here your results:\n",
    "\n",
    "| LR | Precision  | Recall  | F1-Score  |\n",
    "|:-:|:-:|:-:|:-:|\n",
    "| BOW-count  | 0.795  | 0.855  | 0.824  |\n",
    "| BOW-tfidf  | 0.805  | 0.770 | 0.817  |\n",
    "| BOCN-count  | 0.78  | 0.78  | 0.78  |\n",
    "| BOCN-tfidf  | 0.786  | 0.79  | 0.788  |\n",
    "| BOW(tfidf)+BOCN(tfidf)  |0.806  | 0.85  | 0.827  |"
   ]
  },
  {
   "cell_type": "markdown",
   "metadata": {},
   "source": [
    "The best model is BOW(tfidf)+BOCN(tfidf), it combines BOW-tfidf and BOCN-tfidf which can have more features and representative the dataset better. Also, based on the equation: tfidf=TF*IDF , IDF can reduce the importance of words that appear more frequency in the document in the model which can help the classifier give higher weights to those words which can representitive the sentiment of sentence better.\n",
    "\n",
    "Also, we can notice that BOCN-count has the worst performance in the five models. It might because of the ngram range is (1,3) which means features will contain some single letters which will appear in all sentence with a high weights. "
   ]
  },
  {
   "cell_type": "markdown",
   "metadata": {},
   "source": [
    "# Task 2: Multi-class Logistic Regression \n",
    "\n",
    "Now you need to train a Multiclass Logistic Regression (MLR) Classifier by extending the Binary model you developed above. You will use the MLR model to perform topic classification on the AG news dataset consisting of three classes:"
   ]
  },
  {
   "cell_type": "markdown",
   "metadata": {},
   "source": [
    "- Class 1: World\n",
    "- Class 2: Sports\n",
    "- Class 3: Business"
   ]
  },
  {
   "cell_type": "markdown",
   "metadata": {},
   "source": [
    "You need to follow the same process as in Task 1 for data processing and feature extraction by reusing the functions you wrote."
   ]
  },
  {
   "cell_type": "code",
   "execution_count": 64,
   "metadata": {
    "ExecuteTime": {
     "end_time": "2020-02-15T14:18:03.212229Z",
     "start_time": "2020-02-15T14:18:03.185261Z"
    }
   },
   "outputs": [],
   "source": [
    "topic_train_df = pd.read_csv('./data_topic/train.csv',names = ['Sentence', 'Sentiment'])\n",
    "topic_test_df = pd.read_csv('./data_topic/test.csv',names = ['Sentence', 'Sentiment'])\n",
    "topic_dev_df = pd.read_csv('./data_topic/dev.csv',names = ['Sentence', 'Sentiment'])"
   ]
  },
  {
   "cell_type": "code",
   "execution_count": 65,
   "metadata": {},
   "outputs": [
    {
     "data": {
      "text/html": [
       "<div>\n",
       "<style scoped>\n",
       "    .dataframe tbody tr th:only-of-type {\n",
       "        vertical-align: middle;\n",
       "    }\n",
       "\n",
       "    .dataframe tbody tr th {\n",
       "        vertical-align: top;\n",
       "    }\n",
       "\n",
       "    .dataframe thead th {\n",
       "        text-align: right;\n",
       "    }\n",
       "</style>\n",
       "<table border=\"1\" class=\"dataframe\">\n",
       "  <thead>\n",
       "    <tr style=\"text-align: right;\">\n",
       "      <th></th>\n",
       "      <th>Sentence</th>\n",
       "      <th>Sentiment</th>\n",
       "    </tr>\n",
       "  </thead>\n",
       "  <tbody>\n",
       "    <tr>\n",
       "      <th>0</th>\n",
       "      <td>1</td>\n",
       "      <td>BAGHDAD, Iraq - An Islamic militant group that...</td>\n",
       "    </tr>\n",
       "    <tr>\n",
       "      <th>1</th>\n",
       "      <td>1</td>\n",
       "      <td>Parts of Los Angeles international airport are...</td>\n",
       "    </tr>\n",
       "    <tr>\n",
       "      <th>2</th>\n",
       "      <td>1</td>\n",
       "      <td>AFP - Facing a issue that once tripped up his ...</td>\n",
       "    </tr>\n",
       "    <tr>\n",
       "      <th>3</th>\n",
       "      <td>1</td>\n",
       "      <td>The leader of militant Lebanese group Hezbolla...</td>\n",
       "    </tr>\n",
       "    <tr>\n",
       "      <th>4</th>\n",
       "      <td>1</td>\n",
       "      <td>JAKARTA : ASEAN finance ministers ended a meet...</td>\n",
       "    </tr>\n",
       "  </tbody>\n",
       "</table>\n",
       "</div>"
      ],
      "text/plain": [
       "   Sentence                                          Sentiment\n",
       "0         1  BAGHDAD, Iraq - An Islamic militant group that...\n",
       "1         1  Parts of Los Angeles international airport are...\n",
       "2         1  AFP - Facing a issue that once tripped up his ...\n",
       "3         1  The leader of militant Lebanese group Hezbolla...\n",
       "4         1  JAKARTA : ASEAN finance ministers ended a meet..."
      ]
     },
     "execution_count": 65,
     "metadata": {},
     "output_type": "execute_result"
    }
   ],
   "source": [
    "topic_dev_df.head()"
   ]
  },
  {
   "cell_type": "code",
   "execution_count": 66,
   "metadata": {},
   "outputs": [],
   "source": [
    "topic_train_np = topic_train_df.values\n",
    "topic_test_np = topic_test_df.values\n",
    "topic_dev_np = topic_dev_df.values"
   ]
  },
  {
   "cell_type": "code",
   "execution_count": 67,
   "metadata": {},
   "outputs": [
    {
     "data": {
      "text/plain": [
       "(2400, 2)"
      ]
     },
     "execution_count": 67,
     "metadata": {},
     "output_type": "execute_result"
    }
   ],
   "source": [
    "topic_train_np.shape"
   ]
  },
  {
   "cell_type": "markdown",
   "metadata": {},
   "source": [
    "Now you need to change `SGD` to support multiclass datasets. First you need to develop a `softmax` function. It takes as input:\n",
    "\n",
    "- `z`: array of real numbers \n",
    "\n",
    "and returns:\n",
    "\n",
    "- `smax`: the softmax of `z`"
   ]
  },
  {
   "cell_type": "code",
   "execution_count": 68,
   "metadata": {
    "ExecuteTime": {
     "end_time": "2020-02-15T14:18:07.440998Z",
     "start_time": "2020-02-15T14:18:07.437915Z"
    }
   },
   "outputs": [],
   "source": [
    "def softmax(z):\n",
    "    smax = np.longfloat(np.exp(z - np.max(z)))\n",
    "    smax = smax/np.sum(smax).reshape(-1,1)\n",
    "    return smax"
   ]
  },
  {
   "cell_type": "markdown",
   "metadata": {},
   "source": [
    "Then modify `predict_proba` and `predict_class` functions for the multiclass case:"
   ]
  },
  {
   "cell_type": "code",
   "execution_count": 69,
   "metadata": {
    "ExecuteTime": {
     "end_time": "2020-02-15T14:18:07.445451Z",
     "start_time": "2020-02-15T14:18:07.442851Z"
    }
   },
   "outputs": [],
   "source": [
    "def predict_proba(X, weights):\n",
    "    \n",
    "    preds_proba = softmax(np.dot(X, weights.T))\n",
    "                          \n",
    "    return preds_proba"
   ]
  },
  {
   "cell_type": "code",
   "execution_count": 70,
   "metadata": {
    "ExecuteTime": {
     "end_time": "2020-02-15T14:18:07.449814Z",
     "start_time": "2020-02-15T14:18:07.447145Z"
    }
   },
   "outputs": [],
   "source": [
    "def predict_class(X, weights):\n",
    "    z = predict_proba(X, weights)\n",
    "    z_list = z.tolist()\n",
    "    preds_class = np.argmax(z_list, axis=1).reshape(-1,1) + np.ones(shape=(len(z_list),1))\n",
    "    return preds_class"
   ]
  },
  {
   "cell_type": "markdown",
   "metadata": {},
   "source": [
    "Now you need to compute the categorical cross entropy loss (extending the binary loss to support multiple classes)."
   ]
  },
  {
   "cell_type": "code",
   "execution_count": 71,
   "metadata": {
    "ExecuteTime": {
     "end_time": "2020-02-15T14:18:09.095415Z",
     "start_time": "2020-02-15T14:18:09.090680Z"
    }
   },
   "outputs": [],
   "source": [
    "def categorical_loss(X, Y, weights, num_classes=5, alpha=0.00001):\n",
    "    '''\n",
    "    X:(len(X),len(vocab))\n",
    "    Y: array len(Y)\n",
    "    weights: array len(X)\n",
    "    '''\n",
    "    preds_prob = np.clip(predict_proba(X, weights),1e-6, 1-1e-6)\n",
    "    l = np.sum(-np.log(np.max(preds_prob, axis=1))) + alpha * np.sum(weights * weights)/(num_classes * len(X))\n",
    "    # Categorical loss with L2 regularisation\n",
    "    return l"
   ]
  },
  {
   "cell_type": "markdown",
   "metadata": {
    "ExecuteTime": {
     "end_time": "2020-02-15T14:08:59.937442Z",
     "start_time": "2020-02-15T14:08:59.932221Z"
    }
   },
   "source": [
    "Finally you need to modify SGD to support the categorical cross entropy loss:"
   ]
  },
  {
   "cell_type": "code",
   "execution_count": 72,
   "metadata": {
    "ExecuteTime": {
     "end_time": "2020-02-15T14:18:10.176885Z",
     "start_time": "2020-02-15T14:18:10.165021Z"
    }
   },
   "outputs": [],
   "source": [
    "def SGD(X_tr, Y_tr, X_dev=[], Y_dev=[], num_classes=5, lr=0.01, alpha=0.00001, \n",
    "        epochs=5, tolerance=0.001, print_progress=True):\n",
    "        X_tr = np.array(X_tr)\n",
    "        Y_tr = np.array(Y_tr)\n",
    "        X_dev = np.array(X_dev)\n",
    "        Y_dev = np.array(Y_dev)\n",
    "        m, n = X_tr.shape\n",
    "        weights = np.random.randn(num_classes, n) # Initialize weights\n",
    "        epochs_count = 0\n",
    "        training_loss_history = []\n",
    "        validation_loss_history = []\n",
    "        epochs_list = []\n",
    "        index = list(range(m))\n",
    "        validation_loss = np.inf\n",
    "        training_loss = np.inf\n",
    "        b = 0\n",
    "        \n",
    "        for epochs_count in tqdm(range(epochs)): #Perform multiple passes (epochs) over the training data\n",
    "            np.random.shuffle(index) # Randomise the order of training data after each pass \n",
    "            for i in index:\n",
    "                hypothesis = predict_proba(X_tr[i], weights)\n",
    "                y = np.zeros((1,num_classes))\n",
    "                y[0,Y_tr[i]-1] = 1\n",
    "                grad = np.array((hypothesis-y).T * X_tr[i].reshape(-1,1).T) + weights * alpha/ (num_classes*n)\n",
    "                #Use L2 regularisation\n",
    "                weights = weights - lr * grad\n",
    "                #Minimise the Categorical Cross-entropy loss function \n",
    "                \n",
    "            training_loss_new = np.sum(categorical_loss(X_tr, Y_tr, weights, alpha=alpha, num_classes=num_classes))/ m # training loss\n",
    "            training_loss_history.append(training_loss_new)\n",
    "\n",
    "            validation_loss_new = np.sum(categorical_loss(X_dev, \n",
    "                                                          Y_dev, weights, alpha=alpha, num_classes=num_classes)) / X_dev.shape[0] \n",
    "            #Loss after\n",
    "            validation_loss_history.append(validation_loss_new)\n",
    "            if print_progress==True:\n",
    "                print('Epoch:{}   training_loss:{}   validation_loss:{}'.format(epochs_count,training_loss_new,validation_loss_new))\n",
    "            if abs(validation_loss_new - validation_loss) < tolerance: \n",
    "                #Stop training if the difference between the current and previous development loss is smaller than a threshold\n",
    "                b += 1\n",
    "                if b > 1: # b representitive how many times that the difference of loss is smaller than threshold\n",
    "                    break\n",
    "            else:\n",
    "                b = 0\n",
    "                validation_loss = validation_loss_new\n",
    "                training_loss = training_loss_new\n",
    "            epochs_list.append(epochs_count)\n",
    "        print(\"Stop Epoch: {}\".format(epochs_count))    \n",
    "        return weights, training_loss_history, validation_loss_history"
   ]
  },
  {
   "cell_type": "markdown",
   "metadata": {
    "ExecuteTime": {
     "end_time": "2020-02-15T14:10:15.772383Z",
     "start_time": "2020-02-15T14:10:15.767855Z"
    }
   },
   "source": [
    "Now you are ready to train and evaluate you MLR following the same steps as in Task 1 for the different vector representations"
   ]
  },
  {
   "cell_type": "code",
   "execution_count": 73,
   "metadata": {
    "ExecuteTime": {
     "end_time": "2020-02-15T14:18:55.324956Z",
     "start_time": "2020-02-15T14:18:11.720952Z"
    }
   },
   "outputs": [
    {
     "name": "stderr",
     "output_type": "stream",
     "text": [
      "100%|███████████████████████████████████████████████████████████████████████████| 2400/2400 [00:00<00:00, 13295.18it/s]\n"
     ]
    }
   ],
   "source": [
    "topic_train_vocab, topic_train_df, topic_train_counts = get_vocab(topic_train_np[:,1],token_pattern=\"[a-z|\\']+\",\n",
    "                                                                           stop_words=stop_words, min_df=5)"
   ]
  },
  {
   "cell_type": "code",
   "execution_count": 74,
   "metadata": {
    "scrolled": true
   },
   "outputs": [
    {
     "name": "stderr",
     "output_type": "stream",
     "text": [
      "100%|███████████████████████████████████████████████████████████████████████████| 2400/2400 [00:00<00:00, 20053.65it/s]\n",
      "100%|█████████████████████████████████████████████████████████████████████████████| 900/900 [00:00<00:00, 21486.23it/s]\n",
      "100%|█████████████████████████████████████████████████████████████████████████████| 150/150 [00:00<00:00, 21485.01it/s]\n"
     ]
    }
   ],
   "source": [
    "topic_train_extract_ngrams = whole_extracy_ngrams(topic_train_np[:,1], token_pattern=\"[a-z|\\']+\")\n",
    "topic_test_extract_ngrams = whole_extracy_ngrams(topic_test_np[:,1], token_pattern=\"[a-z|\\']+\")\n",
    "topic_dev_extract_ngrams = whole_extracy_ngrams(topic_dev_np[:,1], token_pattern=\"[a-z|\\']+\")"
   ]
  },
  {
   "cell_type": "code",
   "execution_count": 75,
   "metadata": {},
   "outputs": [
    {
     "name": "stderr",
     "output_type": "stream",
     "text": [
      "100%|████████████████████████████████████████████████████████████████████████████| 2400/2400 [00:01<00:00, 1555.54it/s]\n",
      "100%|██████████████████████████████████████████████████████████████████████████████| 900/900 [00:00<00:00, 1611.45it/s]\n",
      "100%|██████████████████████████████████████████████████████████████████████████████| 150/150 [00:00<00:00, 1600.02it/s]\n"
     ]
    }
   ],
   "source": [
    "topic_train_tfmatrix = vectorise(topic_train_extract_ngrams, topic_train_vocab)\n",
    "topic_test_tfmatrix = vectorise(topic_test_extract_ngrams, topic_train_vocab)\n",
    "topic_dev_tfmatrix = vectorise(topic_dev_extract_ngrams, topic_train_vocab)"
   ]
  },
  {
   "cell_type": "code",
   "execution_count": 109,
   "metadata": {},
   "outputs": [
    {
     "name": "stderr",
     "output_type": "stream",
     "text": [
      "100%|██████████████████████████████████████████████████████████████████████████████████| 30/30 [00:05<00:00,  5.95it/s]"
     ]
    },
    {
     "name": "stdout",
     "output_type": "stream",
     "text": [
      "Stop Epoch: 29\n"
     ]
    },
    {
     "name": "stderr",
     "output_type": "stream",
     "text": [
      "\n"
     ]
    }
   ],
   "source": [
    "Bow_count, Bow_training_loss_history, Bow_validation_loss_history = SGD(topic_train_tfmatrix, topic_train_np[:,0], topic_dev_tfmatrix, topic_dev_np[:,0],\n",
    "                                                                        num_classes=3,lr=0.06,epochs=30,tolerance=0.001, print_progress=False)"
   ]
  },
  {
   "cell_type": "markdown",
   "metadata": {},
   "source": [
    "Compute accuracy, precision, recall and F1-scores:"
   ]
  },
  {
   "cell_type": "code",
   "execution_count": 110,
   "metadata": {
    "ExecuteTime": {
     "end_time": "2020-02-15T14:20:54.864071Z",
     "start_time": "2020-02-15T14:20:54.850199Z"
    }
   },
   "outputs": [
    {
     "name": "stdout",
     "output_type": "stream",
     "text": [
      "Accuracy: 0.7811111111111111\n",
      "Precision: 0.7830223923945304\n",
      "Recall: 0.7811111111111111\n",
      "F1-Score: 0.7812287281881019\n"
     ]
    }
   ],
   "source": [
    "X_te_count = np.array(topic_test_tfmatrix)\n",
    "label = np.array(topic_test_np[:,0])\n",
    "predicted = predict_class(X_te_count, Bow_count)\n",
    "preds_te = list()\n",
    "Y_te = list()\n",
    "\n",
    "for i in range(len(label)):\n",
    "    Y_te.append(int(label[i]))\n",
    "    preds_te.append(int(predicted[i]))\n",
    "\n",
    "print('Accuracy:', accuracy_score(Y_te,preds_te))\n",
    "print('Precision:', precision_score(Y_te,preds_te,average='macro'))\n",
    "print('Recall:', recall_score(Y_te,preds_te,average='macro'))\n",
    "print('F1-Score:', f1_score(Y_te,preds_te,average='macro'))"
   ]
  },
  {
   "cell_type": "markdown",
   "metadata": {},
   "source": [
    "### Discuss how did you choose model hyperparameters (e.g. learning rate and regularisation strength)? What is the relation between training epochs and learning rate? How the regularisation strength affects performance?"
   ]
  },
  {
   "cell_type": "markdown",
   "metadata": {},
   "source": [
    "#### Example1: lr=5 ,alpha=1e-5"
   ]
  },
  {
   "cell_type": "code",
   "execution_count": 111,
   "metadata": {},
   "outputs": [
    {
     "name": "stderr",
     "output_type": "stream",
     "text": [
      "  7%|█████▌                                                                             | 2/30 [00:00<00:06,  4.37it/s]"
     ]
    },
    {
     "name": "stdout",
     "output_type": "stream",
     "text": [
      "Stop Epoch: 2\n"
     ]
    },
    {
     "name": "stderr",
     "output_type": "stream",
     "text": [
      "\n"
     ]
    }
   ],
   "source": [
    "E1_count, E1_training_loss_history, E1_validation_loss_history = SGD(topic_train_tfmatrix, topic_train_np[:,0], \n",
    "                                                                     topic_dev_tfmatrix, topic_dev_np[:,0],\n",
    "                                                                     num_classes=3,lr=5, alpha=1e-5,\n",
    "                                                                     epochs=30,tolerance=0.001, print_progress=False)"
   ]
  },
  {
   "cell_type": "code",
   "execution_count": 112,
   "metadata": {},
   "outputs": [
    {
     "name": "stdout",
     "output_type": "stream",
     "text": [
      "Accuracy: 0.3333333333333333\n",
      "Precision: 0.24575610039906803\n",
      "Recall: 0.3333333333333333\n",
      "F1-Score: 0.2026547227529373\n"
     ]
    }
   ],
   "source": [
    "X_te_count = np.array(topic_train_tfmatrix)\n",
    "label = np.array(topic_test_np[:,0])\n",
    "predicted = predict_class(X_te_count, E1_count)\n",
    "preds_te = list()\n",
    "Y_te = list()\n",
    "\n",
    "for i in range(len(label)):\n",
    "    Y_te.append(int(label[i]))\n",
    "    preds_te.append(int(predicted[i]))\n",
    "\n",
    "print('Accuracy:', accuracy_score(Y_te,preds_te))\n",
    "print('Precision:', precision_score(Y_te,preds_te,average='macro'))\n",
    "print('Recall:', recall_score(Y_te,preds_te,average='macro'))\n",
    "print('F1-Score:', f1_score(Y_te,preds_te,average='macro'))"
   ]
  },
  {
   "cell_type": "markdown",
   "metadata": {},
   "source": [
    "#### Example2: lr=1e-5 ,alpha=1e-5"
   ]
  },
  {
   "cell_type": "code",
   "execution_count": 113,
   "metadata": {},
   "outputs": [
    {
     "name": "stderr",
     "output_type": "stream",
     "text": [
      "100%|██████████████████████████████████████████████████████████████████████████████████| 30/30 [00:05<00:00,  5.85it/s]"
     ]
    },
    {
     "name": "stdout",
     "output_type": "stream",
     "text": [
      "Stop Epoch: 29\n"
     ]
    },
    {
     "name": "stderr",
     "output_type": "stream",
     "text": [
      "\n"
     ]
    }
   ],
   "source": [
    "E2_count, E2_training_loss_history, E2_validation_loss_history = SGD(topic_train_tfmatrix, topic_train_np[:,0], \n",
    "                                                                     topic_dev_tfmatrix, topic_dev_np[:,0],\n",
    "                                                                    num_classes=3,lr=1e-5,alpha=1e-5,epochs=30,\n",
    "                                                                     tolerance=0.001, print_progress=False)"
   ]
  },
  {
   "cell_type": "code",
   "execution_count": 114,
   "metadata": {},
   "outputs": [
    {
     "name": "stdout",
     "output_type": "stream",
     "text": [
      "Accuracy: 0.34\n",
      "Precision: 0.3385446022977901\n",
      "Recall: 0.34\n",
      "F1-Score: 0.338886941947756\n"
     ]
    }
   ],
   "source": [
    "X_te_count = np.array(topic_train_tfmatrix)\n",
    "label = np.array(topic_test_np[:,0])\n",
    "predicted = predict_class(X_te_count, E2_count)\n",
    "preds_te = list()\n",
    "Y_te = list()\n",
    "\n",
    "for i in range(len(label)):\n",
    "    Y_te.append(int(label[i]))\n",
    "    preds_te.append(int(predicted[i]))\n",
    "\n",
    "print('Accuracy:', accuracy_score(Y_te,preds_te))\n",
    "print('Precision:', precision_score(Y_te,preds_te,average='macro'))\n",
    "print('Recall:', recall_score(Y_te,preds_te,average='macro'))\n",
    "print('F1-Score:', f1_score(Y_te,preds_te,average='macro'))"
   ]
  },
  {
   "cell_type": "markdown",
   "metadata": {},
   "source": [
    "#### Example3: lr=0.04 ,alpha=1e-9"
   ]
  },
  {
   "cell_type": "code",
   "execution_count": 115,
   "metadata": {},
   "outputs": [
    {
     "name": "stderr",
     "output_type": "stream",
     "text": [
      "  7%|█████▌                                                                             | 2/30 [00:00<00:08,  3.23it/s]"
     ]
    },
    {
     "name": "stdout",
     "output_type": "stream",
     "text": [
      "Stop Epoch: 2\n"
     ]
    },
    {
     "name": "stderr",
     "output_type": "stream",
     "text": [
      "\n"
     ]
    }
   ],
   "source": [
    "E3_count, E3_training_loss_history, E3_validation_loss_history = SGD(topic_train_tfmatrix, topic_train_np[:,0], \n",
    "                                                                     topic_dev_tfmatrix, topic_dev_np[:,0],\n",
    "                                                                    lr=0.06, alpha=1e-9,epochs=30,tolerance=0.001, print_progress=False)"
   ]
  },
  {
   "cell_type": "code",
   "execution_count": 116,
   "metadata": {},
   "outputs": [
    {
     "name": "stdout",
     "output_type": "stream",
     "text": [
      "Accuracy: 0.33\n",
      "Precision: 0.18050706413952444\n",
      "Recall: 0.198\n",
      "F1-Score: 0.1377288796023673\n"
     ]
    },
    {
     "name": "stderr",
     "output_type": "stream",
     "text": [
      "D:\\PROGRAM\\Anaconda3\\lib\\site-packages\\sklearn\\metrics\\_classification.py:1221: UndefinedMetricWarning: Recall is ill-defined and being set to 0.0 in labels with no true samples. Use `zero_division` parameter to control this behavior.\n",
      "  _warn_prf(average, modifier, msg_start, len(result))\n"
     ]
    }
   ],
   "source": [
    "X_te_count = np.array(topic_train_tfmatrix)\n",
    "label = np.array(topic_test_np[:,0])\n",
    "predicted = predict_class(X_te_count, E3_count)\n",
    "preds_te = list()\n",
    "Y_te = list()\n",
    "\n",
    "for i in range(len(label)):\n",
    "    Y_te.append(int(label[i]))\n",
    "    preds_te.append(int(predicted[i]))\n",
    "\n",
    "print('Accuracy:', accuracy_score(Y_te,preds_te))\n",
    "print('Precision:', precision_score(Y_te,preds_te,average='macro'))\n",
    "print('Recall:', recall_score(Y_te,preds_te,average='macro'))\n",
    "print('F1-Score:', f1_score(Y_te,preds_te,average='macro'))"
   ]
  },
  {
   "cell_type": "markdown",
   "metadata": {},
   "source": [
    "#### Example4: lr=0.04 ,alpha=1"
   ]
  },
  {
   "cell_type": "code",
   "execution_count": 117,
   "metadata": {},
   "outputs": [
    {
     "name": "stderr",
     "output_type": "stream",
     "text": [
      "100%|██████████████████████████████████████████████████████████████████████████████████| 30/30 [00:06<00:00,  4.74it/s]"
     ]
    },
    {
     "name": "stdout",
     "output_type": "stream",
     "text": [
      "Stop Epoch: 29\n"
     ]
    },
    {
     "name": "stderr",
     "output_type": "stream",
     "text": [
      "\n"
     ]
    }
   ],
   "source": [
    "E4_count, E4_training_loss_history, E4_validation_loss_history = SGD(topic_train_tfmatrix, topic_train_np[:,0], topic_dev_tfmatrix, topic_dev_np[:,0],\n",
    "                                                                        lr=0.06, alpha=1,epochs=30,tolerance=0.001, print_progress=False)"
   ]
  },
  {
   "cell_type": "code",
   "execution_count": 118,
   "metadata": {},
   "outputs": [
    {
     "name": "stdout",
     "output_type": "stream",
     "text": [
      "Accuracy: 0.33111111111111113\n",
      "Precision: 0.12479061976549415\n",
      "Recall: 0.3311111111111111\n",
      "F1-Score: 0.1812652068126521\n"
     ]
    }
   ],
   "source": [
    "X_te_count = np.array(topic_train_tfmatrix)\n",
    "label = np.array(topic_test_np[:,0])\n",
    "predicted = predict_class(X_te_count, E4_count)\n",
    "preds_te = list()\n",
    "Y_te = list()\n",
    "\n",
    "for i in range(len(label)):\n",
    "    Y_te.append(int(label[i]))\n",
    "    preds_te.append(int(predicted[i]))\n",
    "\n",
    "print('Accuracy:', accuracy_score(Y_te,preds_te))\n",
    "print('Precision:', precision_score(Y_te,preds_te,average='macro'))\n",
    "print('Recall:', recall_score(Y_te,preds_te,average='macro'))\n",
    "print('F1-Score:', f1_score(Y_te,preds_te,average='macro'))"
   ]
  },
  {
   "cell_type": "markdown",
   "metadata": {},
   "source": [
    "Also, we notice that the way to select hyperparameters is same with task1 and the difference in parameters within ten times of the appropriate has little effect on the results. 4 examples has showed above and it is easily to find that those hyperparameters in examples can not increase the perofrmance of the model, it may need more time to finish training but can not improve the F1-score.\n",
    "\n",
    "The effect of regularisation strength and the relationship between learning rate and the number of epochs is same as task1.\n",
    "\n",
    "| Example | Learing Rate  | Alpha | Epochs | F1-Score  |\n",
    "|:-:|:-:|:-:|:-:|:-:|\n",
    "| BOW-count  | 0.06  | 1e-5  | >30  | 0.781|\n",
    "| Example1  | 5  | 1e-5  | 2  | 0.203|\n",
    "| Example2  | 1e-5  |  1e-5 | >30   | 0.339|\n",
    "| Example3  | 0.06  |  1e-9 | 2   | 0.137|\n",
    "| Example4  | 0.06  |  1 | >30   | 0.181|"
   ]
  },
  {
   "cell_type": "markdown",
   "metadata": {},
   "source": [
    "### Now repeat the training and evaluation process for BOW-tfidf, BOCN-count, BOCN-tfidf, BOW+BOCN including hyperparameter tuning..."
   ]
  },
  {
   "cell_type": "markdown",
   "metadata": {},
   "source": [
    " #### BOW-tfidf"
   ]
  },
  {
   "cell_type": "code",
   "execution_count": 86,
   "metadata": {},
   "outputs": [],
   "source": [
    "topic_idf = []\n",
    "number_documents = len(topic_train_np)\n",
    "for word in topic_train_vocab:\n",
    "    df = topic_train_df.get(word)\n",
    "    topic_idf.append(np.log(number_documents/df))"
   ]
  },
  {
   "cell_type": "code",
   "execution_count": 87,
   "metadata": {},
   "outputs": [],
   "source": [
    "tfidf_train_matrix = topic_train_tfmatrix * np.array(topic_idf)\n",
    "tfidf_dev_matrix = topic_dev_tfmatrix * np.array(topic_idf)\n",
    "tfidf_test_matrix = topic_test_tfmatrix * np.array(topic_idf)"
   ]
  },
  {
   "cell_type": "code",
   "execution_count": 121,
   "metadata": {},
   "outputs": [
    {
     "name": "stderr",
     "output_type": "stream",
     "text": [
      "  7%|█████▌                                                                             | 2/30 [00:00<00:07,  3.78it/s]"
     ]
    },
    {
     "name": "stdout",
     "output_type": "stream",
     "text": [
      "Stop Epoch: 2\n"
     ]
    },
    {
     "name": "stderr",
     "output_type": "stream",
     "text": [
      "\n"
     ]
    }
   ],
   "source": [
    "w_count, training_loss_history, validation_loss_history = SGD(tfidf_train_matrix,topic_train_np[:,0], tfidf_dev_matrix, \n",
    "                                                               topic_dev_np[:,0],num_classes=3,lr=0.06,alpha=1e-6,\n",
    "                                                              epochs=30,tolerance=0.001, print_progress=False)"
   ]
  },
  {
   "cell_type": "code",
   "execution_count": 122,
   "metadata": {},
   "outputs": [
    {
     "name": "stdout",
     "output_type": "stream",
     "text": [
      "Accuracy: 0.7766666666666666\n",
      "Precision: 0.7758086699405858\n",
      "Recall: 0.7766666666666667\n",
      "F1-Score: 0.7758064994920028\n"
     ]
    }
   ],
   "source": [
    "X_te_count = np.array(topic_test_tfmatrix)\n",
    "label = np.array(topic_test_np[:,0].tolist())\n",
    "predicted = predict_class(X_te_count, w_count)\n",
    "preds_te = list()\n",
    "Y_te = list()\n",
    "for i in range(len(label)):\n",
    "    Y_te.append(int(label[i]))\n",
    "    preds_te.append(int(predicted[i]))\n",
    "\n",
    "print('Accuracy:', accuracy_score(Y_te,preds_te))\n",
    "print('Precision:', precision_score(Y_te,preds_te,average='macro'))\n",
    "print('Recall:', recall_score(Y_te,preds_te,average='macro'))\n",
    "print('F1-Score:', f1_score(Y_te,preds_te,average='macro'))"
   ]
  },
  {
   "cell_type": "markdown",
   "metadata": {},
   "source": [
    " #### BOCN-count"
   ]
  },
  {
   "cell_type": "code",
   "execution_count": 90,
   "metadata": {},
   "outputs": [
    {
     "name": "stderr",
     "output_type": "stream",
     "text": [
      "100%|████████████████████████████████████████████████████████████████████████████| 2400/2400 [00:00<00:00, 3305.52it/s]\n"
     ]
    }
   ],
   "source": [
    "topic_trainbocn_vocab, topic_trainbocn_df, topic_trainbocn_counts = get_vocab(topic_train_np[:,1], \n",
    "                                                                              token_pattern = \"[^0-9A-Za-z\\u4e00-\\u9fa5]\", \n",
    "                                                                            stop_words=stop_words, min_df=5,char_ngrams=True)"
   ]
  },
  {
   "cell_type": "code",
   "execution_count": 91,
   "metadata": {},
   "outputs": [
    {
     "name": "stderr",
     "output_type": "stream",
     "text": [
      "100%|████████████████████████████████████████████████████████████████████████████| 2400/2400 [00:00<00:00, 5715.98it/s]\n",
      "100%|██████████████████████████████████████████████████████████████████████████████| 900/900 [00:00<00:00, 5502.50it/s]\n",
      "100%|██████████████████████████████████████████████████████████████████████████████| 150/150 [00:00<00:00, 2785.16it/s]\n"
     ]
    }
   ],
   "source": [
    "topic_trainbocn_extract_ngrams = whole_extracy_ngrams(topic_train_np[:,1], char_ngrams=True, \n",
    "                                                      token_pattern = \"[^0-9A-Za-z\\u4e00-\\u9fa5]\")\n",
    "topic_testbocn_extrace_ngrams = whole_extracy_ngrams(topic_test_np[:,1], char_ngrams=True, \n",
    "                                                     token_pattern = \"[^0-9A-Za-z\\u4e00-\\u9fa5]\")\n",
    "topic_devbocn_extrace_ngrams = whole_extracy_ngrams(topic_dev_np[:,1], char_ngrams=True, \n",
    "                                                    token_pattern = \"[^0-9A-Za-z\\u4e00-\\u9fa5]\")"
   ]
  },
  {
   "cell_type": "code",
   "execution_count": 92,
   "metadata": {},
   "outputs": [
    {
     "name": "stderr",
     "output_type": "stream",
     "text": [
      "100%|█████████████████████████████████████████████████████████████████████████████| 2400/2400 [00:05<00:00, 443.58it/s]\n",
      "100%|███████████████████████████████████████████████████████████████████████████████| 900/900 [00:02<00:00, 416.24it/s]\n",
      "100%|███████████████████████████████████████████████████████████████████████████████| 150/150 [00:00<00:00, 462.77it/s]\n"
     ]
    }
   ],
   "source": [
    "topic_trainbocn_tfmatrix = vectorise(topic_trainbocn_extract_ngrams, topic_trainbocn_vocab)\n",
    "topic_testbocn_tfmatrix = vectorise(topic_testbocn_extrace_ngrams, topic_trainbocn_vocab)\n",
    "topic_devbocn_tfmatrix = vectorise(topic_devbocn_extrace_ngrams, topic_trainbocn_vocab)"
   ]
  },
  {
   "cell_type": "code",
   "execution_count": 129,
   "metadata": {
    "scrolled": true
   },
   "outputs": [
    {
     "name": "stderr",
     "output_type": "stream",
     "text": [
      " 23%|███████████████████▎                                                               | 7/30 [00:03<00:10,  2.10it/s]"
     ]
    },
    {
     "name": "stdout",
     "output_type": "stream",
     "text": [
      "Stop Epoch: 7\n"
     ]
    },
    {
     "name": "stderr",
     "output_type": "stream",
     "text": [
      "\n"
     ]
    }
   ],
   "source": [
    "Bocn_count, Bocn_training_loss_history, Bocn_validation_loss_history = SGD(topic_trainbocn_tfmatrix, topic_train_np[:,0], \n",
    "                                                                        topic_devbocn_tfmatrix, topic_dev_np[:,0],\n",
    "                                                                        lr=0.04,epochs=30,tolerance=0.001, print_progress=False)"
   ]
  },
  {
   "cell_type": "code",
   "execution_count": 130,
   "metadata": {},
   "outputs": [
    {
     "name": "stdout",
     "output_type": "stream",
     "text": [
      "Accuracy: 0.8133333333333334\n",
      "Precision: 0.8127753616039274\n",
      "Recall: 0.8133333333333334\n",
      "F1-Score: 0.8128597159952116\n"
     ]
    }
   ],
   "source": [
    "X_te_count = np.array(topic_testbocn_tfmatrix)\n",
    "label = np.array(topic_test_np[:,0].tolist())\n",
    "predicted = predict_class(X_te_count, Bocn_count)\n",
    "preds_te = list()\n",
    "Y_te = list()\n",
    "for i in range(len(label)):\n",
    "    Y_te.append(int(label[i]))\n",
    "    preds_te.append(int(predicted[i]))\n",
    "\n",
    "print('Accuracy:', accuracy_score(Y_te,preds_te))\n",
    "print('Precision:', precision_score(Y_te,preds_te,average='macro'))\n",
    "print('Recall:', recall_score(Y_te,preds_te,average='macro'))\n",
    "print('F1-Score:', f1_score(Y_te,preds_te,average='macro'))"
   ]
  },
  {
   "cell_type": "markdown",
   "metadata": {},
   "source": [
    "#### BOCN-tfidf"
   ]
  },
  {
   "cell_type": "code",
   "execution_count": 95,
   "metadata": {},
   "outputs": [],
   "source": [
    "topic_bocnidf = []\n",
    "number_documents = len(topic_train_np)\n",
    "for word in topic_trainbocn_vocab:\n",
    "    df = topic_trainbocn_df.get(word)\n",
    "    topic_bocnidf.append(np.log(number_documents/df))"
   ]
  },
  {
   "cell_type": "code",
   "execution_count": 96,
   "metadata": {},
   "outputs": [],
   "source": [
    "bocntfidf_train_matrix = topic_trainbocn_tfmatrix * topic_bocnidf\n",
    "bocntfidf_dev_matrix = topic_devbocn_tfmatrix * topic_bocnidf\n",
    "bocntfidf_test_matrix = topic_testbocn_tfmatrix * topic_bocnidf"
   ]
  },
  {
   "cell_type": "code",
   "execution_count": 97,
   "metadata": {
    "scrolled": true
   },
   "outputs": [
    {
     "name": "stderr",
     "output_type": "stream",
     "text": [
      " 27%|██████████████████████▏                                                            | 8/30 [00:02<00:07,  2.83it/s]"
     ]
    },
    {
     "name": "stdout",
     "output_type": "stream",
     "text": [
      "Stop Epoch: 8\n"
     ]
    },
    {
     "name": "stderr",
     "output_type": "stream",
     "text": [
      "\n"
     ]
    }
   ],
   "source": [
    "Bocntfidf_count, Bocntfidf_training_loss_history, Bocntfidf_validation_loss_history = SGD(bocntfidf_train_matrix, topic_train_np[:,0], \n",
    "                                                                        bocntfidf_dev_matrix, topic_dev_np[:,0],\n",
    "                                                                        num_classes=3, lr=0.04,epochs=30,\n",
    "                                                                        tolerance=0.001, print_progress=False)"
   ]
  },
  {
   "cell_type": "code",
   "execution_count": 98,
   "metadata": {},
   "outputs": [
    {
     "name": "stdout",
     "output_type": "stream",
     "text": [
      "Accuracy: 0.7788888888888889\n",
      "Precision: 0.783246601494355\n",
      "Recall: 0.7788888888888889\n",
      "F1-Score: 0.7777364866071256\n"
     ]
    }
   ],
   "source": [
    "X_te_count = np.array(bocntfidf_test_matrix)\n",
    "label = np.array(topic_test_np[:,0].tolist())\n",
    "predicted = predict_class(X_te_count, Bocntfidf_count)\n",
    "preds_te = list()\n",
    "Y_te = list()\n",
    "for i in range(len(label)):\n",
    "    Y_te.append(int(label[i]))\n",
    "    preds_te.append(int(predicted[i]))\n",
    "\n",
    "print('Accuracy:', accuracy_score(Y_te,preds_te))\n",
    "print('Precision:', precision_score(Y_te,preds_te,average='macro'))\n",
    "print('Recall:', recall_score(Y_te,preds_te,average='macro'))\n",
    "print('F1-Score:', f1_score(Y_te,preds_te,average='macro'))"
   ]
  },
  {
   "cell_type": "markdown",
   "metadata": {},
   "source": [
    "#### BOW(tfidf)+BOCN(tfidf)"
   ]
  },
  {
   "cell_type": "code",
   "execution_count": 99,
   "metadata": {},
   "outputs": [],
   "source": [
    "bow_bocn_train = np.hstack((tfidf_train_matrix,bocntfidf_train_matrix))\n",
    "bow_bocn_dev = np.hstack((tfidf_dev_matrix, bocntfidf_dev_matrix))\n",
    "bow_bocn_test = np.hstack((tfidf_test_matrix, bocntfidf_test_matrix))"
   ]
  },
  {
   "cell_type": "code",
   "execution_count": 127,
   "metadata": {},
   "outputs": [
    {
     "name": "stderr",
     "output_type": "stream",
     "text": [
      " 20%|████████████████▌                                                                  | 6/30 [00:02<00:10,  2.31it/s]"
     ]
    },
    {
     "name": "stdout",
     "output_type": "stream",
     "text": [
      "Stop Epoch: 6\n"
     ]
    },
    {
     "name": "stderr",
     "output_type": "stream",
     "text": [
      "\n"
     ]
    }
   ],
   "source": [
    "bowbocn_count, bowbocn_training_loss_history, bowbocn_validation_loss_history = SGD(bow_bocn_train, topic_train_np[:,0], \n",
    "                                                                        bow_bocn_dev, topic_dev_np[:,0],\n",
    "                                                                        num_classes=3,lr=0.04,epochs=30,\n",
    "                                                                        tolerance=0.001, print_progress=False)"
   ]
  },
  {
   "cell_type": "code",
   "execution_count": 128,
   "metadata": {},
   "outputs": [
    {
     "name": "stdout",
     "output_type": "stream",
     "text": [
      "Accuracy: 0.8144444444444444\n",
      "Precision: 0.8150107367156267\n",
      "Recall: 0.8144444444444444\n",
      "F1-Score: 0.8138749837252869\n"
     ]
    }
   ],
   "source": [
    "X_te_count = np.array(bow_bocn_test)\n",
    "label = np.array(topic_test_np[:,0].tolist())\n",
    "predicted = predict_class(X_te_count, bowbocn_count)\n",
    "preds_te = list()\n",
    "Y_te = list()\n",
    "for i in range(len(label)):\n",
    "    Y_te.append(int(label[i]))\n",
    "    preds_te.append(int(predicted[i]))\n",
    "\n",
    "print('Accuracy:', accuracy_score(Y_te,preds_te))\n",
    "print('Precision:', precision_score(Y_te,preds_te,average='macro'))\n",
    "print('Recall:', recall_score(Y_te,preds_te,average='macro'))\n",
    "print('F1-Score:', f1_score(Y_te,preds_te,average='macro'))"
   ]
  },
  {
   "cell_type": "markdown",
   "metadata": {
    "ExecuteTime": {
     "end_time": "2020-02-15T14:16:42.567569Z",
     "start_time": "2020-02-15T14:16:42.562560Z"
    }
   },
   "source": [
    "## Full Results\n",
    "\n",
    "Add here your results:\n",
    "\n",
    "| LR | Precision  | Recall  | F1-Score  |\n",
    "|:-:|:-:|:-:|:-:|\n",
    "| BOW-count  | 0.783  | 0.781  | 0.781  |\n",
    "| BOW-tfidf  | 0.776  | 0.777  | 0.776  |\n",
    "| BOCN-count  | 0.813  | 0.813  | 0.813  |\n",
    "| BOCN-tfidf  | 0.783  | 0.779  | 0.778  |\n",
    "| BOW+BOCN  | 0.815  | 0.815  | 0.814  |\n",
    "\n",
    "Please discuss why your best performing model is better than the rest."
   ]
  },
  {
   "cell_type": "markdown",
   "metadata": {},
   "source": [
    "\n"
   ]
  },
  {
   "cell_type": "markdown",
   "metadata": {},
   "source": [
    "The best performing model is BOW+BOCN. It maight have sereval reasons:\n",
    "1) BOW(tfidf)+BOCN(tfidf) has more features than other 4 models which can representive the sentence better.\n",
    "\n",
    "2) Both of BOW and BOCN have use tfidf to give weights to each features which can achieve better performance than only use count. TFIDF = TF*IDF and IDF can reduce the importance of words that appear more frequency in the document in the model."
   ]
  }
 ],
 "metadata": {
  "kernelspec": {
   "display_name": "Python 3",
   "language": "python",
   "name": "python3"
  },
  "language_info": {
   "codemirror_mode": {
    "name": "ipython",
    "version": 3
   },
   "file_extension": ".py",
   "mimetype": "text/x-python",
   "name": "python",
   "nbconvert_exporter": "python",
   "pygments_lexer": "ipython3",
   "version": "3.7.0"
  }
 },
 "nbformat": 4,
 "nbformat_minor": 2
}
