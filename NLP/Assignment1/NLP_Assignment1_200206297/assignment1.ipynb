{
 "cells": [
  {
   "cell_type": "markdown",
   "metadata": {},
   "source": [
    "# [COM6513] Assignment 1: Text Classification with Logistic Regression\n",
    "\n",
    "### Instructor: Nikos Aletras\n",
    "\n",
    "\n",
    "The goal of this assignment is to develop and test two text classification systems: \n",
    "\n",
    "- **Task 1:** sentiment analysis, in particular to predict the sentiment of movie reviews, i.e. positive or negative (binary classification).\n",
    "- **Task 2:** topic classification, to predict whether a news article is about International issues, Sports or Business (multi-class classification).\n",
    "\n",
    "\n",
    "For that purpose, you will implement:\n",
    "\n",
    "\n",
    "- Text processing methods for extracting Bag-Of-Word features, using \n",
    "    - n-grams (BOW), i.e. unigrams, bigrams and trigrams to obtain vector representations of documents where n=1,2,3 respectively. Two vector weighting schemes should be tested: (1) raw frequencies (**3 marks**); (2) tf.idf (**1 mark**). \n",
    "    - character n-grams (BOCN). A character n-gram is a contiguous sequence of characters given a word, e.g. for n=2, 'coffee' is split into {'co', 'of', 'ff', 'fe', 'ee'}. Two vector weighting schemes should be tested: (1) raw frequencies (**3 marks**); (2) tf.idf (**1 mark**). **Tip: Note the large vocabulary size!** \n",
    "    - a combination of the two vector spaces (n-grams and character n-grams) choosing your best performing wighting respectively (i.e. raw or tfidf). (**3 marks**) **Tip: you should merge the two representations**\n",
    "\n",
    "\n",
    "\n",
    "- Binary Logistic Regression (LR) classifiers for Task 1 that will be able to accurately classify movie reviews trained with: \n",
    "    - (1) BOW-count (raw frequencies) \n",
    "    - (2) BOW-tfidf (tf.idf weighted)\n",
    "    - (3) BOCN-count\n",
    "    - (4) BOCN-tfidf\n",
    "    - (5) BOW+BOCN (best performing weighting; raw or tfidf)\n",
    "\n",
    "\n",
    "\n",
    "- Multiclass Logistic Regression classifiers for Task 2 that will be able to accurately classify news articles trained with:\n",
    "    - (1) BOW-count (raw frequencies) \n",
    "    - (2) BOW-tfidf (tf.idf weighted)\n",
    "    - (3) BOCN-count\n",
    "    - (4) BOCN-tfidf\n",
    "    - (5) BOW+BOCN (best performing weighting; raw or tfidf)\n",
    "\n",
    "\n",
    "\n",
    "- The Stochastic Gradient Descent (SGD) algorithm to estimate the parameters of your Logistic Regression models. Your SGD algorithm should:\n",
    "    - Minimise the Binary Cross-entropy loss function for Task 1 (**3 marks**)\n",
    "    - Minimise the Categorical Cross-entropy loss function for Task 2 (**3 marks**)\n",
    "    - Use L2 regularisation (**2 marks**)\n",
    "    - Perform multiple passes (epochs) over the training data (**1 mark**)\n",
    "    - Randomise the order of training data after each pass (**1 mark**)\n",
    "    - Stop training if the difference between the current and previous development loss is smaller than a threshold (**1 mark**)\n",
    "    - After each epoch print the training and development loss (**1 mark**)\n",
    "\n",
    "\n",
    "\n",
    "- Discuss how did you choose hyperparameters (e.g. learning rate and regularisation strength) for each LR model? You should use a table showing model performance using different set of hyperparameter values. (**5 marks; 2.5 for each task**). **Tip: Instead of using all possible combinations, you could perform a random sampling of combinations.**\n",
    "\n",
    "\n",
    "\n",
    "- After training each LR model, plot the learning process (i.e. training and validation loss in each epoch) using a line plot. Does your model underfit, overfit or is it about right? Explain why. (**2 marks**). \n",
    "\n",
    "\n",
    "\n",
    "- Identify and show the most important features (model interpretability) for each class (i.e. top-10 most positive and top-10 negative weights). Give the top 10 for each class and comment on whether they make sense (if they don't you might have a bug!).  If you were to apply the classifier into a different domain such laptop reviews or restaurant reviews, do you think these features would generalise well? Can you propose what features the classifier could pick up as important in the new domain? (**3 marks; 1.5 for each task**)\n",
    "\n",
    "\n",
    "\n",
    "- Provide well documented and commented code describing all of your choices. In general, you are free to make decisions about text processing (e.g. punctuation, numbers, vocabulary size) and hyperparameter values. We expect to see justifications and discussion for all of your choices (**5 marks**). \n",
    "\n",
    "\n",
    "\n",
    "- Provide efficient solutions by using Numpy arrays when possible. Executing the whole notebook with your code should not take more than 10 minutes on a any standard computer (e.g. Intel Core i5 CPU, 8 or 16GB RAM) excluding hyperparameter tuning runs. You can find tips in [Intro to Python for NLP](https://sheffieldnlp.github.io/com6513/assets/labs/a0_python_intro.pdf) (**2 marks**). \n",
    "\n",
    "\n",
    "\n",
    "\n",
    "\n",
    "\n",
    "\n",
    "\n",
    "### Data - Task 1 \n",
    "\n",
    "The data you will use for Task 1 are taken from here: [http://www.cs.cornell.edu/people/pabo/movie-review-data/](http://www.cs.cornell.edu/people/pabo/movie-review-data/) and you can find it in the `./data_sentiment` folder in CSV format:\n",
    "\n",
    "- `data_sentiment/train.csv`: contains 1,400 reviews, 700 positive (label: 1) and 700 negative (label: 0) to be used for training.\n",
    "- `data_sentiment/dev.csv`: contains 200 reviews, 100 positive and 100 negative to be used for hyperparameter selection and monitoring the training process.\n",
    "- `data_sentiment/test.csv`: contains 400 reviews, 200 positive and 200 negative to be used for testing.\n",
    "\n",
    "### Data - Task 2\n",
    "\n",
    "The data you will use for Task 2 is a subset of the [AG News Corpus](http://groups.di.unipi.it/~gulli/AG_corpus_of_news_articles.html) and you can find it in the `./data_topic` folder in CSV format:\n",
    "\n",
    "- `data_topic/train.csv`: contains 2,400 news, 800 for each class to be used for training.\n",
    "- `data_topic/dev.csv`: contains 150 news articles, 50 for each class to be used for hyperparameter selection and monitoring the training process.\n",
    "- `data_topic/test.csv`: contains 900 news articles, 300 for each class to be used for testing.\n",
    "\n",
    "\n",
    "### Submission Instructions\n",
    "\n",
    "You should submit a Jupyter Notebook file (assignment1.ipynb) and an exported PDF version (you can do it from Jupyter: `File->Download as->PDF via Latex` or you can print it as PDF using your browser).\n",
    "\n",
    "You are advised to follow the code structure given in this notebook by completing all given funtions. You can also write any auxilliary/helper functions (and arguments for the functions) that you might need but note that you can provide a full solution without any such functions. Similarly, you can just use only the packages imported below but you are free to use any functionality from the [Python Standard Library](https://docs.python.org/2/library/index.html), NumPy, SciPy (excluding built-in softmax funtcions) and Pandas. You are not allowed to use any third-party library such as Scikit-learn (apart from metric functions already provided), NLTK, Spacy, Keras etc.. You should mention if you've used Windows to write and test your code because we mostly use Unix based machines for marking (e.g. Ubuntu, MacOS). \n",
    "\n",
    "There is no single correct answer on what your accuracy should be, but correct implementations usually achieve F1-scores around 80\\% or higher. The quality of the analysis of the results is as important as the accuracy itself. \n",
    "\n",
    "This assignment will be marked out of 40. It is worth 40\\% of your final grade in the module.\n",
    "\n",
    "The deadline for this assignment is **23:59 on Fri, 25 Feb 2021** and it needs to be submitted via Blackboard. Standard departmental penalties for lateness will be applied. We use a range of strategies to **detect [unfair means](https://www.sheffield.ac.uk/ssid/unfair-means/index)**, including Turnitin which helps detect plagiarism. Use of unfair means would result in getting a failing grade.\n",
    "\n"
   ]
  },
  {
   "cell_type": "code",
   "execution_count": 88,
   "metadata": {
    "ExecuteTime": {
     "end_time": "2020-03-27T13:41:17.642162Z",
     "start_time": "2020-03-27T13:41:16.891940Z"
    }
   },
   "outputs": [],
   "source": [
    "import pandas as pd\n",
    "import numpy as np\n",
    "from collections import Counter\n",
    "import re\n",
    "import matplotlib.pyplot as plt\n",
    "from sklearn.metrics import accuracy_score, precision_score, recall_score, f1_score\n",
    "import random\n",
    "\n",
    "from tqdm import tqdm # To show the progress\n",
    "plt.style.use(\"ggplot\")\n",
    "# fixing random seed for reproducibility\n",
    "random.seed(123)\n",
    "np.random.seed(123)"
   ]
  },
  {
   "cell_type": "markdown",
   "metadata": {},
   "source": [
    "## Task 1: Binary classification"
   ]
  },
  {
   "cell_type": "markdown",
   "metadata": {},
   "source": [
    "## Load Raw texts and labels into arrays\n",
    "\n",
    "First, you need to load the training, development and test sets from their corresponding CSV files (tip: you can use Pandas dataframes)."
   ]
  },
  {
   "cell_type": "code",
   "execution_count": 2,
   "metadata": {
    "ExecuteTime": {
     "end_time": "2020-02-15T14:17:28.145788Z",
     "start_time": "2020-02-15T14:17:28.066100Z"
    }
   },
   "outputs": [],
   "source": [
    "sentiment_train_df = pd.read_csv('./data_sentiment/train.csv',\n",
    "                                 names = ['Sentence', 'Sentiment'])\n",
    "sentiment_dev_df = pd.read_csv('./data_sentiment/dev.csv', \n",
    "                               names = ['Sentence', 'Sentiment'])\n",
    "sentiment_test_df = pd.read_csv('./data_sentiment/test.csv', \n",
    "                                names = ['Sentence', 'Sentiment'])"
   ]
  },
  {
   "cell_type": "code",
   "execution_count": 3,
   "metadata": {},
   "outputs": [
    {
     "data": {
      "text/plain": [
       "(1400, 2)"
      ]
     },
     "execution_count": 3,
     "metadata": {},
     "output_type": "execute_result"
    }
   ],
   "source": [
    "sentiment_train_df.shape"
   ]
  },
  {
   "cell_type": "code",
   "execution_count": 4,
   "metadata": {},
   "outputs": [],
   "source": [
    "frames = [sentiment_train_df, sentiment_dev_df, sentiment_test_df]\n",
    "sentiment_whole_doc_pd = pd.concat(frames)"
   ]
  },
  {
   "cell_type": "markdown",
   "metadata": {},
   "source": [
    "If you use Pandas you can see a sample of the data."
   ]
  },
  {
   "cell_type": "code",
   "execution_count": 5,
   "metadata": {
    "ExecuteTime": {
     "end_time": "2020-02-15T14:17:28.900892Z",
     "start_time": "2020-02-15T14:17:28.891221Z"
    },
    "scrolled": true
   },
   "outputs": [
    {
     "data": {
      "text/html": [
       "<div>\n",
       "<style scoped>\n",
       "    .dataframe tbody tr th:only-of-type {\n",
       "        vertical-align: middle;\n",
       "    }\n",
       "\n",
       "    .dataframe tbody tr th {\n",
       "        vertical-align: top;\n",
       "    }\n",
       "\n",
       "    .dataframe thead th {\n",
       "        text-align: right;\n",
       "    }\n",
       "</style>\n",
       "<table border=\"1\" class=\"dataframe\">\n",
       "  <thead>\n",
       "    <tr style=\"text-align: right;\">\n",
       "      <th></th>\n",
       "      <th>Sentence</th>\n",
       "      <th>Sentiment</th>\n",
       "    </tr>\n",
       "  </thead>\n",
       "  <tbody>\n",
       "    <tr>\n",
       "      <th>0</th>\n",
       "      <td>note : some may consider portions of the follo...</td>\n",
       "      <td>1</td>\n",
       "    </tr>\n",
       "    <tr>\n",
       "      <th>1</th>\n",
       "      <td>note : some may consider portions of the follo...</td>\n",
       "      <td>1</td>\n",
       "    </tr>\n",
       "    <tr>\n",
       "      <th>2</th>\n",
       "      <td>every once in a while you see a film that is s...</td>\n",
       "      <td>1</td>\n",
       "    </tr>\n",
       "    <tr>\n",
       "      <th>3</th>\n",
       "      <td>when i was growing up in 1970s , boys in my sc...</td>\n",
       "      <td>1</td>\n",
       "    </tr>\n",
       "    <tr>\n",
       "      <th>4</th>\n",
       "      <td>the muppet movie is the first , and the best m...</td>\n",
       "      <td>1</td>\n",
       "    </tr>\n",
       "  </tbody>\n",
       "</table>\n",
       "</div>"
      ],
      "text/plain": [
       "                                            Sentence  Sentiment\n",
       "0  note : some may consider portions of the follo...          1\n",
       "1  note : some may consider portions of the follo...          1\n",
       "2  every once in a while you see a film that is s...          1\n",
       "3  when i was growing up in 1970s , boys in my sc...          1\n",
       "4  the muppet movie is the first , and the best m...          1"
      ]
     },
     "execution_count": 5,
     "metadata": {},
     "output_type": "execute_result"
    }
   ],
   "source": [
    "sentiment_train_df.head()"
   ]
  },
  {
   "cell_type": "markdown",
   "metadata": {},
   "source": [
    "The next step is to put the raw texts into Python lists and their corresponding labels into NumPy arrays:\n"
   ]
  },
  {
   "cell_type": "code",
   "execution_count": 6,
   "metadata": {
    "ExecuteTime": {
     "end_time": "2020-02-15T14:17:31.115577Z",
     "start_time": "2020-02-15T14:17:31.108038Z"
    }
   },
   "outputs": [],
   "source": [
    "sentiment_train_np = sentiment_train_df.values\n",
    "sentiment_test_np = sentiment_test_df.values\n",
    "sentiment_dev_np = sentiment_dev_df.values"
   ]
  },
  {
   "cell_type": "markdown",
   "metadata": {},
   "source": [
    "# Vector Representations of Text \n",
    "\n",
    "\n",
    "To train and test Logisitc Regression models, you first need to obtain vector representations for all documents given a vocabulary of features (unigrams, bigrams, trigrams).\n",
    "\n",
    "\n",
    "## Text Pre-Processing Pipeline\n",
    "\n",
    "To obtain a vocabulary of features, you should: \n",
    "- tokenise all texts into a list of unigrams (tip: using a regular expression) \n",
    "- remove stop words (using the one provided or one of your preference) \n",
    "- compute bigrams, trigrams given the remaining unigrams (or character ngrams from the unigrams)\n",
    "- remove ngrams appearing in less than K documents\n",
    "- use the remaining to create a vocabulary of unigrams, bigrams and trigrams (or character n-grams). You can keep top N if you encounter memory issues.\n"
   ]
  },
  {
   "cell_type": "code",
   "execution_count": 7,
   "metadata": {
    "ExecuteTime": {
     "end_time": "2020-02-15T14:17:31.860420Z",
     "start_time": "2020-02-15T14:17:31.855439Z"
    }
   },
   "outputs": [],
   "source": [
    "stop_words = ['a','in','on','at','and','or', \n",
    "              'to', 'the', 'of', 'an', 'by', \n",
    "              'as', 'is', 'was', 'were', 'been', 'be', \n",
    "              'are','for', 'this', 'that', 'these', 'those', 'you', 'i',\n",
    "             'it', 'he', 'she', 'we', 'they' 'will', 'have', 'has',\n",
    "              'do', 'did', 'can', 'could', 'who', 'which', 'what', \n",
    "             'his', 'her', 'they', 'them', 'from', 'with', 'its']"
   ]
  },
  {
   "cell_type": "markdown",
   "metadata": {},
   "source": [
    "### N-gram extraction from a document\n",
    "\n",
    "You first need to implement the `extract_ngrams` function. It takes as input:\n",
    "- `x_raw`: a string corresponding to the raw text of a document\n",
    "- `ngram_range`: a tuple of two integers denoting the type of ngrams you want to extract, e.g. (1,2) denotes extracting unigrams and bigrams.\n",
    "- `token_pattern`: a string to be used within a regular expression to extract all tokens. Note that data is already tokenised so you could opt for a simple white space tokenisation.\n",
    "- `stop_words`: a list of stop words\n",
    "- `vocab`: a given vocabulary. It should be used to extract specific features.\n",
    "- `char_ngrams`: boolean. If true the function extracts character n-grams\n",
    "\n",
    "and returns:\n",
    "\n",
    "- `x': a list of all extracted features.\n",
    "\n",
    "See the examples below to see how this function should work."
   ]
  },
  {
   "cell_type": "code",
   "execution_count": 8,
   "metadata": {
    "ExecuteTime": {
     "end_time": "2020-02-15T14:17:33.169090Z",
     "start_time": "2020-02-15T14:17:33.161268Z"
    }
   },
   "outputs": [],
   "source": [
    "def extract_ngrams(x_raw, ngram_range=(1,3), token_pattern=r'', \n",
    "                   stop_words=[], vocab=set(), char_ngrams=False):\n",
    "    # token_pattern=\"[a-z|\\']+\"  If char_ngrams=False\n",
    "    # token_pattern = \"[^0-9A-Za-z\\u4e00-\\u9fa5]\"  If char_ngrams=True\n",
    "    if char_ngrams == True:\n",
    "        c = \"\"\n",
    "        x = x_raw.split()\n",
    "        x = list(filter(lambda w:w not in stop_words, x)) # remove stopwords\n",
    "        x = c.join(x) \n",
    "        x = re.sub(token_pattern,'', x) # Keep letters\n",
    "    else:\n",
    "        x = re.compile(token_pattern).findall(x_raw) # only keep word in data\n",
    "        x = list(filter(lambda w:w not in stop_words, x)) # remove stopwords\n",
    "                \n",
    "    result = slide_word(x, ngram_range) # use slide_word to get ngrams\n",
    "    \n",
    "    if vocab:\n",
    "        result = list(filter(lambda d: len(set(d).intersection(vocab)) > 0, tuple(result))) \n",
    "        # get ngram which contains word in vocab\n",
    "\n",
    "    return result\n",
    "\n",
    "def slide_word(text, ngram_range):\n",
    "    result = list()\n",
    "    for n in range(ngram_range[0], ngram_range[1]+1):\n",
    "        for i in range(len(text)):\n",
    "            word = text[i:i + n]\n",
    "            if len(word) < n:\n",
    "                break\n",
    "            result.append(tuple(word))\n",
    "    return result"
   ]
  },
  {
   "cell_type": "markdown",
   "metadata": {},
   "source": [
    "Note that it is OK to represent n-grams using lists instead of tuples: e.g. ['great', ['great',\n",
    "'movie']]\n",
    "\n",
    "For extracting character n-grams the function should work as follows:"
   ]
  },
  {
   "cell_type": "code",
   "execution_count": 9,
   "metadata": {},
   "outputs": [
    {
     "data": {
      "text/plain": [
       "[('m', 'o'),\n",
       " ('o', 'v'),\n",
       " ('v', 'i'),\n",
       " ('i', 'e'),\n",
       " ('m', 'o', 'v'),\n",
       " ('o', 'v', 'i'),\n",
       " ('v', 'i', 'e'),\n",
       " ('m', 'o', 'v', 'i'),\n",
       " ('o', 'v', 'i', 'e')]"
      ]
     },
     "execution_count": 9,
     "metadata": {},
     "output_type": "execute_result"
    }
   ],
   "source": [
    "extract_ngrams(\"movie\", \n",
    "               ngram_range=(2,4),\n",
    "               token_pattern = \"[^0-9A-Za-z\\u4e00-\\u9fa5]\" ,\n",
    "               stop_words=[],\n",
    "               char_ngrams=True)"
   ]
  },
  {
   "cell_type": "markdown",
   "metadata": {},
   "source": [
    "### Create a vocabulary \n",
    "\n",
    "The `get_vocab` function will be used to (1) create a vocabulary of ngrams; (2) count the document frequencies of ngrams; (3) their raw frequency. It takes as input:\n",
    "- `X_raw`: a list of strings each corresponding to the raw text of a document\n",
    "- `ngram_range`: a tuple of two integers denoting the type of ngrams you want to extract, e.g. (1,2) denotes extracting unigrams and bigrams.\n",
    "- `token_pattern`: a string to be used within a regular expression to extract all tokens. Note that data is already tokenised so you could opt for a simple white space tokenisation.\n",
    "- `stop_words`: a list of stop words\n",
    "- `min_df`: keep ngrams with a minimum document frequency.\n",
    "- `keep_topN`: keep top-N more frequent ngrams.\n",
    "\n",
    "and returns:\n",
    "\n",
    "- `vocab`: a set of the n-grams that will be used as features.\n",
    "- `df`: a Counter (or dict) that contains ngrams as keys and their corresponding document frequency as values.\n",
    "- `ngram_counts`: counts of each ngram in vocab\n",
    "\n",
    "Hint: it should make use of the `extract_ngrams` function."
   ]
  },
  {
   "cell_type": "code",
   "execution_count": 10,
   "metadata": {
    "ExecuteTime": {
     "end_time": "2020-02-15T14:17:35.821240Z",
     "start_time": "2020-02-15T14:17:35.814722Z"
    }
   },
   "outputs": [],
   "source": [
    "def get_vocab(X_raw, ngram_range=(1,3), token_pattern=r'', \n",
    "              min_df=0, keep_topN=0, \n",
    "              stop_words=[],char_ngrams=False):\n",
    "    \n",
    "    x_array = []\n",
    "    df_all = {}\n",
    "    n = len(X_raw)\n",
    "    for comment in tqdm(X_raw):\n",
    "        x = extract_ngrams(comment, ngram_range=ngram_range, token_pattern=token_pattern,\n",
    "                          stop_words=stop_words, char_ngrams=char_ngrams) \n",
    "        # get ngrams for each comment\n",
    "        x_array.extend(x)\n",
    "        \n",
    "        x_set = set(x)\n",
    "        for word in x_set:\n",
    "            df_all[word] = df_all.get(word, 0) + 1 \n",
    "            # Calculate how many documents contains ngrams\n",
    "            \n",
    "    df_min = {k:v for k,v in df_all.items() if v > min_df} \n",
    "    # Get the df_min dictionary that contains those ngram which appear more than min_df times\n",
    "            \n",
    "    ngram_counts_all = Counter(x_array)\n",
    "    ngram_counts_sorted = sorted(ngram_counts_all.items(),key=lambda item:item[1],reverse=True)\n",
    "    # Sort ngrams to help calculate topN\n",
    "    \n",
    "    if keep_topN == 0:\n",
    "        ngram_counts_top = list(dict(ngram_counts_sorted).keys())#return all\n",
    "    elif keep_topN < 1:\n",
    "        ngram_counts_top = list(dict(ngram_counts_sorted).keys())[:int(len(ngram_counts_sorted)*keep_topN)] \n",
    "        #return topN by percentages\n",
    "    else:\n",
    "        ngram_counts_top =  list(dict(ngram_counts_sorted).keys())[:keep_topN] \n",
    "        #return first keep_topN ngram\n",
    "\n",
    "    vocab = set(df_min.keys()).intersection(set(ngram_counts_top))\n",
    "    #select the intersection of min_df and keep_topN\n",
    "    df ={}\n",
    "    ngram_counts ={}\n",
    "    for word in vocab:\n",
    "        df[word] = df_all[word]\n",
    "        ngram_counts[word] = ngram_counts_all[word]\n",
    "    \n",
    "    \n",
    "    return vocab, df, ngram_counts"
   ]
  },
  {
   "cell_type": "markdown",
   "metadata": {},
   "source": [
    "Now you should use `get_vocab` to create your vocabulary and get document and raw frequencies of n-grams:"
   ]
  },
  {
   "cell_type": "code",
   "execution_count": 11,
   "metadata": {
    "ExecuteTime": {
     "end_time": "2020-02-15T14:17:39.319793Z",
     "start_time": "2020-02-15T14:17:36.836545Z"
    },
    "scrolled": true
   },
   "outputs": [
    {
     "name": "stderr",
     "output_type": "stream",
     "text": [
      "100%|██████████| 1400/1400 [00:02<00:00, 681.76it/s]\n"
     ]
    }
   ],
   "source": [
    "sentiment_train_vocab, sentiment_train_df, sentiment_train_ngram_counts = get_vocab(sentiment_train_np[:,0], \n",
    "                                                                                    token_pattern=\"[a-z|\\']+\", \n",
    "                                                                                    stop_words=stop_words, min_df=4)"
   ]
  },
  {
   "cell_type": "markdown",
   "metadata": {},
   "source": [
    "Then, you need to create 2 dictionaries: (1) vocabulary id -> word; and  (2) word -> vocabulary id so you can use them for reference:"
   ]
  },
  {
   "cell_type": "code",
   "execution_count": 12,
   "metadata": {
    "ExecuteTime": {
     "end_time": "2020-02-15T14:17:39.326811Z",
     "start_time": "2020-02-15T14:17:39.322256Z"
    }
   },
   "outputs": [],
   "source": [
    "id2word = dict(enumerate(sentiment_train_vocab))\n",
    "word2id = dict(zip(sentiment_train_vocab, range(len(sentiment_train_vocab))))"
   ]
  },
  {
   "cell_type": "markdown",
   "metadata": {},
   "source": [
    "Now you should be able to extract n-grams for each text in the training, development and test sets:"
   ]
  },
  {
   "cell_type": "code",
   "execution_count": 13,
   "metadata": {},
   "outputs": [],
   "source": [
    "def whole_extracy_ngrams(documents, char_ngrams = False, token_pattern = r''):\n",
    "    result = {}\n",
    "    i = 0\n",
    "    for comment in tqdm(documents):\n",
    "        result[i] = extract_ngrams(comment, token_pattern=token_pattern, stop_words=stop_words, char_ngrams=char_ngrams)\n",
    "        i += 1\n",
    "    return result"
   ]
  },
  {
   "cell_type": "code",
   "execution_count": 14,
   "metadata": {},
   "outputs": [
    {
     "name": "stderr",
     "output_type": "stream",
     "text": [
      "100%|██████████| 1400/1400 [00:01<00:00, 1071.56it/s]\n",
      "100%|██████████| 400/400 [00:00<00:00, 1055.44it/s]\n",
      "100%|██████████| 200/200 [00:00<00:00, 1083.97it/s]\n"
     ]
    }
   ],
   "source": [
    "sentiment_train_extract_ngrams = whole_extracy_ngrams(sentiment_train_np[:,0], token_pattern=\"[a-z|\\']+\")\n",
    "sentiment_test_extrace_ngrams = whole_extracy_ngrams(sentiment_test_np[:,0], token_pattern=\"[a-z|\\']+\")\n",
    "sentiment_dev_extrace_ngrams = whole_extracy_ngrams(sentiment_dev_np[:,0], token_pattern=\"[a-z|\\']+\")"
   ]
  },
  {
   "cell_type": "markdown",
   "metadata": {},
   "source": [
    "## Vectorise documents "
   ]
  },
  {
   "cell_type": "markdown",
   "metadata": {},
   "source": [
    "Next, write a function `vectoriser` to obtain Bag-of-ngram representations for a list of documents. The function should take as input:\n",
    "- `X_ngram`: a list of texts (documents), where each text is represented as list of n-grams in the `vocab`\n",
    "- `vocab`: a set of n-grams to be used for representing the documents\n",
    "\n",
    "and return:\n",
    "- `X_vec`: an array with dimensionality Nx|vocab| where N is the number of documents and |vocab| is the size of the vocabulary. Each element of the array should represent the frequency of a given n-gram in a document.\n"
   ]
  },
  {
   "cell_type": "code",
   "execution_count": 15,
   "metadata": {
    "ExecuteTime": {
     "end_time": "2020-02-15T14:17:40.219201Z",
     "start_time": "2020-02-15T14:17:40.215129Z"
    }
   },
   "outputs": [],
   "source": [
    "def vectorise(X_ngram, vocab):\n",
    "    N = len(X_ngram)\n",
    "    size_vocab = len(vocab)\n",
    "    X_vec = np.zeros(shape=(N, size_vocab))\n",
    "    for index, n_grams in tqdm(X_ngram.items()):\n",
    "        frequency = Counter(n_grams)\n",
    "        j = 0\n",
    "        for word in vocab:\n",
    "            X_vec[index,j] = frequency.get(word,0)\n",
    "            j += 1\n",
    "    return X_vec"
   ]
  },
  {
   "cell_type": "markdown",
   "metadata": {},
   "source": [
    "Finally, use `vectorise` to obtain document vectors for each document in the train, development and test set. You should extract both count and tf.idf vectors respectively:"
   ]
  },
  {
   "cell_type": "markdown",
   "metadata": {},
   "source": [
    "#### Count vectors"
   ]
  },
  {
   "cell_type": "code",
   "execution_count": 16,
   "metadata": {
    "ExecuteTime": {
     "end_time": "2020-02-15T14:17:41.999574Z",
     "start_time": "2020-02-15T14:17:40.376534Z"
    },
    "scrolled": true
   },
   "outputs": [
    {
     "name": "stderr",
     "output_type": "stream",
     "text": [
      "100%|██████████| 1400/1400 [00:10<00:00, 131.09it/s]\n",
      "100%|██████████| 400/400 [00:03<00:00, 128.18it/s]\n",
      "100%|██████████| 200/200 [00:01<00:00, 141.82it/s]\n"
     ]
    }
   ],
   "source": [
    "sentiment_train_tfmatrix = vectorise(sentiment_train_extract_ngrams, sentiment_train_vocab)\n",
    "sentiment_test_tfmatrix = vectorise(sentiment_test_extrace_ngrams, sentiment_train_vocab)\n",
    "sentiment_dev_tfmatrix = vectorise(sentiment_dev_extrace_ngrams, sentiment_train_vocab)"
   ]
  },
  {
   "cell_type": "markdown",
   "metadata": {},
   "source": [
    "#### TF.IDF vectors\n",
    "\n",
    "First compute `idfs` an array containing inverted document frequencies (Note: its elements should correspond to your `vocab`)"
   ]
  },
  {
   "cell_type": "code",
   "execution_count": 17,
   "metadata": {
    "ExecuteTime": {
     "end_time": "2020-02-15T14:17:42.022692Z",
     "start_time": "2020-02-15T14:17:42.012315Z"
    },
    "scrolled": false
   },
   "outputs": [],
   "source": [
    "sentiment_idf = []\n",
    "number_documents = len(sentiment_train_np)\n",
    "for word in sentiment_train_vocab:\n",
    "    df = sentiment_train_df.get(word)\n",
    "    sentiment_idf.append(np.log(number_documents/df))"
   ]
  },
  {
   "cell_type": "markdown",
   "metadata": {},
   "source": [
    "Then transform your count vectors to tf.idf vectors:"
   ]
  },
  {
   "cell_type": "code",
   "execution_count": 18,
   "metadata": {},
   "outputs": [],
   "source": [
    "tfidf_train_matrix = sentiment_train_tfmatrix * np.array(sentiment_idf)\n",
    "tfidf_dev_matrix = sentiment_dev_tfmatrix * np.array(sentiment_idf)\n",
    "tfidf_test_matrix = sentiment_test_tfmatrix * np.array(sentiment_idf)"
   ]
  },
  {
   "cell_type": "markdown",
   "metadata": {},
   "source": [
    "# Binary Logistic Regression\n",
    "\n",
    "After obtaining vector representations of the data, now you are ready to implement Binary Logistic Regression for classifying sentiment."
   ]
  },
  {
   "cell_type": "markdown",
   "metadata": {},
   "source": [
    "First, you need to implement the `sigmoid` function. It takes as input:\n",
    "\n",
    "- `z`: a real number or an array of real numbers \n",
    "\n",
    "and returns:\n",
    "\n",
    "- `sig`: the sigmoid of `z`"
   ]
  },
  {
   "cell_type": "code",
   "execution_count": 19,
   "metadata": {
    "ExecuteTime": {
     "end_time": "2020-02-15T14:17:44.160661Z",
     "start_time": "2020-02-15T14:17:44.157902Z"
    }
   },
   "outputs": [],
   "source": [
    "def sigmoid(z):\n",
    "    sig = 1 / (1 + np.exp(-z))\n",
    "    return sig"
   ]
  },
  {
   "cell_type": "markdown",
   "metadata": {},
   "source": [
    "Then, implement the `predict_proba` function to obtain prediction probabilities. It takes as input:\n",
    "\n",
    "- `X`: an array of inputs, i.e. documents represented by bag-of-ngram vectors ($N \\times |vocab|$)\n",
    "- `weights`: a 1-D array of the model's weights $(1, |vocab|)$\n",
    "\n",
    "and returns:\n",
    "\n",
    "- `preds_proba`: the prediction probabilities of X given the weights"
   ]
  },
  {
   "cell_type": "code",
   "execution_count": 20,
   "metadata": {
    "ExecuteTime": {
     "end_time": "2020-02-15T14:17:44.718566Z",
     "start_time": "2020-02-15T14:17:44.715017Z"
    }
   },
   "outputs": [],
   "source": [
    "def predict_proba(X, weights):\n",
    "    \n",
    "    preds_proba = sigmoid(np.dot(X, weights))\n",
    "    \n",
    "    return preds_proba"
   ]
  },
  {
   "cell_type": "markdown",
   "metadata": {},
   "source": [
    "Then, implement the `predict_class` function to obtain the most probable class for each vector in an array of input vectors. It takes as input:\n",
    "\n",
    "- `X`: an array of documents represented by bag-of-ngram vectors ($N \\times |vocab|$)\n",
    "- `weights`: a 1-D array of the model's weights $(1, |vocab|)$\n",
    "\n",
    "and returns:\n",
    "\n",
    "- `preds_class`: the predicted class for each x in X given the weights"
   ]
  },
  {
   "cell_type": "code",
   "execution_count": 21,
   "metadata": {
    "ExecuteTime": {
     "end_time": "2020-02-15T14:17:45.002125Z",
     "start_time": "2020-02-15T14:17:44.998668Z"
    }
   },
   "outputs": [],
   "source": [
    "def predict_class(X, weights):\n",
    "    \n",
    "    z = predict_proba(X, weights)\n",
    "    preds_class = np.where(z>0.5,1,0)\n",
    "    \n",
    "    return preds_class"
   ]
  },
  {
   "cell_type": "markdown",
   "metadata": {},
   "source": [
    "To learn the weights from data, we need to minimise the binary cross-entropy loss. Implement `binary_loss` that takes as input:\n",
    "\n",
    "- `X`: input vectors\n",
    "- `Y`: labels\n",
    "- `weights`: model weights\n",
    "- `alpha`: regularisation strength\n",
    "\n",
    "and return:\n",
    "\n",
    "- `l`: the loss score"
   ]
  },
  {
   "cell_type": "code",
   "execution_count": 22,
   "metadata": {
    "ExecuteTime": {
     "end_time": "2020-02-15T14:17:45.455533Z",
     "start_time": "2020-02-15T14:17:45.451475Z"
    }
   },
   "outputs": [],
   "source": [
    "def binary_loss(X, Y, weights, alpha=0.00001):\n",
    "    '''\n",
    "    Binary Cross-entropy Loss\n",
    "\n",
    "    X:(len(X),len(vocab))\n",
    "    Y: array len(Y)\n",
    "    weights: array len(X)\n",
    "    '''\n",
    "    preds_proba = predict_proba(X, weights)\n",
    "    preds_proba = np.clip(preds_proba,1e-9,1-1e-9)\n",
    "    \n",
    "    l = -np.mean(Y*np.log(preds_proba)+(1-Y)*np.log(1-preds_proba)) + alpha * (weights.T @ weights)\n",
    "\n",
    "    #L2 regularisation\n",
    "\n",
    "    return l"
   ]
  },
  {
   "cell_type": "markdown",
   "metadata": {},
   "source": [
    "Now, you can implement Stochastic Gradient Descent to learn the weights of your sentiment classifier. The `SGD` function takes as input:\n",
    "\n",
    "- `X_tr`: array of training data (vectors)\n",
    "- `Y_tr`: labels of `X_tr`\n",
    "- `X_dev`: array of development (i.e. validation) data (vectors)\n",
    "- `Y_dev`: labels of `X_dev`\n",
    "- `lr`: learning rate\n",
    "- `alpha`: regularisation strength\n",
    "- `epochs`: number of full passes over the training data\n",
    "- `tolerance`: stop training if the difference between the current and previous validation loss is smaller than a threshold\n",
    "- `print_progress`: flag for printing the training progress (train/validation loss)\n",
    "\n",
    "\n",
    "and returns:\n",
    "\n",
    "- `weights`: the weights learned\n",
    "- `training_loss_history`: an array with the average losses of the whole training set after each epoch\n",
    "- `validation_loss_history`: an array with the average losses of the whole development set after each epoch"
   ]
  },
  {
   "cell_type": "code",
   "execution_count": 170,
   "metadata": {},
   "outputs": [],
   "source": [
    "def SGD(X_tr, Y_tr, X_dev=[], Y_dev=[], lr=0.1, \n",
    "        alpha=1e-5, epochs=5, \n",
    "        tolerance=0.0001, print_progress=True):\n",
    "    \n",
    "        m, n = X_tr.shape\n",
    "        weights = np.random.normal(0,0.1,n)\n",
    "        training_loss_history = []\n",
    "        validation_loss_history = []\n",
    "        epochs_list = []\n",
    "        index = list(range(m))\n",
    "        \n",
    "        for epochs_count in range(epochs): # Multiple passes\n",
    "            np.random.shuffle(index) # Randomise the order of training data after each pass\n",
    "            for i in index:\n",
    "                hypothesis = predict_proba(X_tr[i], weights)\n",
    "                error = Y_tr[i] - hypothesis\n",
    "                grad = -np.array(np.dot(error,X_tr[i]).tolist()) + weights * alpha/len(weights) \n",
    "                #Gradient with L2 regularisation\n",
    "                #Minimise the Binary Cross-entropy loss function\n",
    "                weights = weights - lr * grad\n",
    "                \n",
    "            training_loss = binary_loss(X_tr, Y_tr, weights=weights, alpha=alpha)\n",
    "            # Training loss\n",
    "            training_loss_history.append(training_loss)\n",
    "\n",
    "            validation_loss = binary_loss(X_dev, Y_dev, weights=weights, alpha=alpha)\n",
    "            #Validation loss\n",
    "            validation_loss_history.append(validation_loss)\n",
    "            if print_progress==True: # Print the training and developemnt loss\n",
    "                print('Epoch:{}   training_loss:{}   validation_loss:{}'.format(epochs_count,training_loss,validation_loss))\n",
    "                \n",
    "            if len(validation_loss_history) > 1: \n",
    "                if abs(validation_loss_history[-1] - validation_loss_history[-2]) < tolerance:\n",
    "                    break\n",
    "                    \n",
    "            epochs_list.append(epochs_count)\n",
    "        print(\"Stop Epoch: {}\".format(epochs_count))\n",
    "        return weights, training_loss_history, validation_loss_history"
   ]
  },
  {
   "cell_type": "markdown",
   "metadata": {},
   "source": [
    "## Train and Evaluate Logistic Regression with Count vectors\n",
    "\n",
    "First train the model using SGD:"
   ]
  },
  {
   "cell_type": "code",
   "execution_count": 171,
   "metadata": {
    "scrolled": false
   },
   "outputs": [
    {
     "name": "stdout",
     "output_type": "stream",
     "text": [
      "Stop Epoch: 8\n"
     ]
    }
   ],
   "source": [
    "Bow_count, Bow_training_loss_history, Bow_validation_loss_history = SGD(sentiment_train_tfmatrix, sentiment_train_np[:,1], \n",
    "                                                                        sentiment_dev_tfmatrix, sentiment_dev_np[:,1],\n",
    "                                                                        lr=0.06,epochs=30,tolerance=0.001, print_progress=False)"
   ]
  },
  {
   "cell_type": "markdown",
   "metadata": {},
   "source": [
    "Now plot the training and validation history per epoch for the best hyperparameter combination. Does your model underfit, overfit or is it about right? Explain why."
   ]
  },
  {
   "cell_type": "markdown",
   "metadata": {
    "ExecuteTime": {
     "end_time": "2020-01-21T16:52:26.583150Z",
     "start_time": "2020-01-21T16:52:26.578754Z"
    }
   },
   "source": [
    "The model is about right. The figure showed that the training loss and validation loss has decreased in the first few epochs and becomes stable after several epochs which means the model did not underfit. At the end of training, the loss did not vibrate or increase which means the model isn't overfit."
   ]
  },
  {
   "cell_type": "code",
   "execution_count": 172,
   "metadata": {},
   "outputs": [
    {
     "data": {
      "text/plain": [
       "<matplotlib.legend.Legend at 0x19e48723ef0>"
      ]
     },
     "execution_count": 172,
     "metadata": {},
     "output_type": "execute_result"
    },
    {
     "data": {
      "image/png": "[encoded data removed]",
      "text/plain": [
       "<Figure size 432x288 with 1 Axes>"
      ]
     },
     "metadata": {},
     "output_type": "display_data"
    }
   ],
   "source": [
    "plt.plot(Bow_training_loss_history, label = \"Training\")\n",
    "plt.plot(Bow_validation_loss_history, label = \"Validation\")\n",
    "plt.title(\"Loss-Epoch\")\n",
    "plt.xlabel(\"Epoch\")\n",
    "plt.ylabel(\"Loss\")\n",
    "plt.legend()"
   ]
  },
  {
   "cell_type": "markdown",
   "metadata": {},
   "source": [
    "#### Evaluation\n",
    "\n",
    "Compute accuracy, precision, recall and F1-scores:"
   ]
  },
  {
   "cell_type": "code",
   "execution_count": 173,
   "metadata": {},
   "outputs": [
    {
     "name": "stdout",
     "output_type": "stream",
     "text": [
      "Accuracy: 0.83\n",
      "Precision: 0.8203883495145631\n",
      "Recall: 0.845\n",
      "F1-Score: 0.8325123152709358\n"
     ]
    }
   ],
   "source": [
    "X_te_count = np.array(sentiment_test_tfmatrix)\n",
    "Y_te = np.array(sentiment_test_np[:,1].tolist())\n",
    "preds_te_count = predict_class(X_te_count, Bow_count)\n",
    "\n",
    "print('Accuracy:', accuracy_score(Y_te,preds_te_count))\n",
    "print('Precision:', precision_score(Y_te,preds_te_count))\n",
    "print('Recall:', recall_score(Y_te,preds_te_count))\n",
    "print('F1-Score:', f1_score(Y_te,preds_te_count))"
   ]
  },
  {
   "cell_type": "markdown",
   "metadata": {},
   "source": [
    "Finally, print the top-10 words for the negative and positive class respectively."
   ]
  },
  {
   "cell_type": "markdown",
   "metadata": {},
   "source": [
    "Most words in the top-10 words can express emotion and other words may relate to the sentiment train dataset's domain."
   ]
  },
  {
   "cell_type": "code",
   "execution_count": 27,
   "metadata": {
    "ExecuteTime": {
     "end_time": "2020-02-15T14:17:51.613935Z",
     "start_time": "2020-02-15T14:17:51.610660Z"
    }
   },
   "outputs": [
    {
     "name": "stdout",
     "output_type": "stream",
     "text": [
      "('bad',)\n",
      "('any',)\n",
      "('unfortunately',)\n",
      "('why',)\n",
      "('boring',)\n",
      "('better',)\n",
      "('nothing',)\n",
      "('plot',)\n",
      "('worst',)\n",
      "('supposed',)\n"
     ]
    }
   ],
   "source": [
    "top_neg = Bow_count.argsort()[:10]\n",
    "for i in top_neg:\n",
    "    print(id2word[i])"
   ]
  },
  {
   "cell_type": "code",
   "execution_count": 28,
   "metadata": {
    "ExecuteTime": {
     "end_time": "2020-02-15T14:17:51.624122Z",
     "start_time": "2020-02-15T14:17:51.615674Z"
    },
    "scrolled": true
   },
   "outputs": [
    {
     "name": "stdout",
     "output_type": "stream",
     "text": [
      "('great',)\n",
      "('seen',)\n",
      "('black',)\n",
      "('cauldron',)\n",
      "('quite',)\n",
      "('fun',)\n",
      "('change',)\n",
      "('also',)\n",
      "('many',)\n",
      "('well',)\n"
     ]
    }
   ],
   "source": [
    "top_pos = Bow_count.argsort()[::-1][:10]\n",
    "for i in top_pos:\n",
    "    print(id2word[i])"
   ]
  },
  {
   "cell_type": "markdown",
   "metadata": {},
   "source": [
    "If we were to apply the classifier we've learned into a different domain such laptop reviews or restaurant reviews, do you think these features would generalise well? Can you propose what features the classifier could pick up as important in the new domain?"
   ]
  },
  {
   "cell_type": "markdown",
   "metadata": {},
   "source": [
    "Actually, the classifier we've learned may not have good performance when it applied to a new domain. The classifier with the parameters was learned on the sentiment analysis dataset. The weights of the classifier should corresponding to the features which means when we apply the classfier to a different domain, the features of the new domain will same as the sentiment dataset. In fact, some words which have high frequcy in the sentiment dataset may not appear in the different domain's dataset and it will affect the results of the classifier.\n",
    "\n",
    "Those features with obvious emotion in the different domain could be picked up as important. If the classifier be used to do sentiment analysis in a different domain, the words with obvious emotion will not have too much difference with those words in sentiment train dataset which means the weights learned from the sentiment train dataset can also be applied to those fearures."
   ]
  },
  {
   "cell_type": "markdown",
   "metadata": {},
   "source": [
    "### Discuss how did you choose model hyperparameters (e.g. learning rate and regularisation strength)? What is the relation between training epochs and learning rate? How the regularisation strength affects performance?"
   ]
  },
  {
   "cell_type": "markdown",
   "metadata": {},
   "source": [
    "| Example | Learing Rate  | Alpha | Epochs | F1-Score  |\n",
    "|:-:|:-:|:-:|:-:|:-:|\n",
    "| BOW-count  | 0.06  | 1e-5  | 4  | 0.833|\n",
    "| Example1  | 0.1  | 1e-9  | 7  | 0.822|\n",
    "| Example2  | 0.1  |  1e-5 | 8   | 0.831|\n",
    "| Example3  | 0.04  |  1e-5 | 6   | 0.827|\n",
    "| Example4  | 0.04  |  1e-9 | 9   | 0.824|"
   ]
  },
  {
   "cell_type": "markdown",
   "metadata": {},
   "source": [
    "In order to select the appropriate parameters, we need to use different sets of hyperparameters. To show the different results of different examples, parameters with huge differences will be used. Also, the difference in parameters within ten times of the appropriate has little effect on the results. We can notice that some example may achieve a higher F1-socre that we used, but they also need more epochs to finish training but only increase the F1-Score less than 0.01 which will waste our time.\n",
    "\n",
    "When the learning rate is too large or too small, the classifier will need more epochs to finish training. Also, when the learning rate is too large, SGD may difficult to get reach local optimum and will vibrate around the local optimum so that it will need more epochs. When the learning weight is too small, the gradiend will converge with a small convergence rate and it will also need more epochs to reach the local optimum.\n",
    "\n",
    "L2 regularisation aims to give a \"penaty\" to the loss. A small regularisation strength may cause underfit and a big regularisation stregnth may cause overfit."
   ]
  },
  {
   "cell_type": "markdown",
   "metadata": {},
   "source": [
    "## Train and Evaluate Logistic Regression with TF.IDF vectors\n",
    "\n",
    "Follow the same steps as above (i.e. evaluating count n-gram representations).\n"
   ]
  },
  {
   "cell_type": "code",
   "execution_count": 174,
   "metadata": {},
   "outputs": [
    {
     "name": "stderr",
     "output_type": "stream",
     "text": [
      "D:\\PROGRAM\\Anaconda3\\lib\\site-packages\\ipykernel_launcher.py:2: RuntimeWarning: overflow encountered in exp\n",
      "  \n"
     ]
    },
    {
     "name": "stdout",
     "output_type": "stream",
     "text": [
      "Stop Epoch: 5\n"
     ]
    }
   ],
   "source": [
    "w_count, training_loss_history, validation_loss_history = SGD(tfidf_train_matrix,sentiment_train_np[:,1], tfidf_dev_matrix, \n",
    "                                                              sentiment_dev_np[:,1],lr=0.06,epochs=30,tolerance=0.001,\n",
    "                                                              print_progress=False)"
   ]
  },
  {
   "cell_type": "code",
   "execution_count": 175,
   "metadata": {},
   "outputs": [
    {
     "data": {
      "text/plain": [
       "<matplotlib.legend.Legend at 0x19e4814a400>"
      ]
     },
     "execution_count": 175,
     "metadata": {},
     "output_type": "execute_result"
    },
    {
     "data": {
      "image/png": "[encoded data removed]",
      "text/plain": [
       "<Figure size 432x288 with 1 Axes>"
      ]
     },
     "metadata": {},
     "output_type": "display_data"
    }
   ],
   "source": [
    "plt.plot(training_loss_history, label = \"Training\")\n",
    "plt.plot(validation_loss_history, label = \"Validation\")\n",
    "plt.title(\"Loss-Epoch\")\n",
    "plt.xlabel(\"Epoch\")\n",
    "plt.ylabel(\"Loss\")\n",
    "plt.legend()"
   ]
  },
  {
   "cell_type": "markdown",
   "metadata": {},
   "source": [
    "The model is about right because the figure for training loss and validation loss is decreasing smoothly and did nor increase."
   ]
  },
  {
   "cell_type": "code",
   "execution_count": 176,
   "metadata": {},
   "outputs": [
    {
     "name": "stdout",
     "output_type": "stream",
     "text": [
      "Accuracy: 0.8225\n",
      "Precision: 0.8056872037914692\n",
      "Recall: 0.85\n",
      "F1-Score: 0.8272506082725061\n"
     ]
    }
   ],
   "source": [
    "X_te_count = np.array(tfidf_test_matrix)\n",
    "Y_te = np.array(sentiment_test_np[:,1].tolist())\n",
    "preds_te_count = predict_class(X_te_count, w_count)\n",
    "\n",
    "print('Accuracy:', accuracy_score(Y_te,preds_te_count))\n",
    "print('Precision:', precision_score(Y_te,preds_te_count))\n",
    "print('Recall:', recall_score(Y_te,preds_te_count))\n",
    "print('F1-Score:', f1_score(Y_te,preds_te_count))"
   ]
  },
  {
   "cell_type": "markdown",
   "metadata": {},
   "source": [
    "The words below showed that most words can express emotions except words such as 'data', 'cameron' which may related to the special domian."
   ]
  },
  {
   "cell_type": "code",
   "execution_count": 177,
   "metadata": {},
   "outputs": [
    {
     "name": "stdout",
     "output_type": "stream",
     "text": [
      "('worst',)\n",
      "('dune',)\n",
      "('bad',)\n",
      "('harry',)\n",
      "('unfortunately',)\n",
      "('data',)\n",
      "('ridiculous',)\n",
      "('series',)\n",
      "('why',)\n",
      "('boring',)\n"
     ]
    }
   ],
   "source": [
    "top_neg = w_count.argsort()[:10]\n",
    "for i in top_neg:\n",
    "    print(id2word[i])"
   ]
  },
  {
   "cell_type": "code",
   "execution_count": 178,
   "metadata": {},
   "outputs": [
    {
     "name": "stdout",
     "output_type": "stream",
     "text": [
      "('ghost',)\n",
      "('exotica',)\n",
      "('adventure',)\n",
      "('poker',)\n",
      "('cameron',)\n",
      "('spoon',)\n",
      "('robocop',)\n",
      "('shaw',)\n",
      "('damon',)\n",
      "('world',)\n"
     ]
    }
   ],
   "source": [
    "top_pos = w_count.argsort()[::-1][:10]\n",
    "for i in top_pos:\n",
    "    print(id2word[i])"
   ]
  },
  {
   "cell_type": "markdown",
   "metadata": {},
   "source": [
    "To choose the best parameters, we used different sets of parameters to test and got the results below."
   ]
  },
  {
   "cell_type": "markdown",
   "metadata": {},
   "source": [
    "| Example | Learing Rate  | Alpha | Epochs | F1-Score  |\n",
    "|:-:|:-:|:-:|:-:|:-:|\n",
    "| BOW-count  | 0.06  | 1e-5  | 5  | 0.827|\n",
    "| Example1  | 0.04  | 1e-9  | 7  | 0.825|\n",
    "| Example2  | 0.1  |  1e-9 | 5  | 0.806|\n",
    "| Example3  | 0.06  |  1e-9 | 6   | 0.821|\n",
    "| Example4  | 0.04  |  1e-5 | 5  | 0.818|"
   ]
  },
  {
   "cell_type": "markdown",
   "metadata": {},
   "source": [
    "### Now repeat the training and evaluation process for BOW-tfidf, BOCN-count, BOCN-tfidf, BOW+BOCN including hyperparameter tuning for each model...\n",
    "#### BOW-tfidf has showed above"
   ]
  },
  {
   "cell_type": "markdown",
   "metadata": {},
   "source": [
    "#### BOCN-count"
   ]
  },
  {
   "cell_type": "code",
   "execution_count": 236,
   "metadata": {},
   "outputs": [
    {
     "name": "stderr",
     "output_type": "stream",
     "text": [
      "100%|██████████| 1400/1400 [00:05<00:00, 233.65it/s]\n"
     ]
    }
   ],
   "source": [
    "sentiment_trainbocn_vocab, sentiment_trainbocn_df, sentiment_trainbocn_counts = get_vocab(sentiment_train_np[:,0],\n",
    "                                                                                          token_pattern = \"[^0-9A-Za-z\\u4e00-\\u9fa5]\", \n",
    "                                                                                          stop_words=stop_words, min_df=5,\n",
    "                                                                                          char_ngrams=True)"
   ]
  },
  {
   "cell_type": "code",
   "execution_count": 237,
   "metadata": {},
   "outputs": [],
   "source": [
    "id2voc = dict(enumerate(sentiment_trainbocn_vocab))\n",
    "voc2id = dict(zip(sentiment_trainbocn_vocab, range(len(sentiment_trainbocn_vocab))))"
   ]
  },
  {
   "cell_type": "code",
   "execution_count": 197,
   "metadata": {
    "scrolled": true
   },
   "outputs": [
    {
     "name": "stderr",
     "output_type": "stream",
     "text": [
      "100%|██████████| 1400/1400 [00:04<00:00, 318.45it/s]\n",
      "100%|██████████| 400/400 [00:01<00:00, 316.80it/s]\n",
      "100%|██████████| 200/200 [00:00<00:00, 320.86it/s]\n"
     ]
    }
   ],
   "source": [
    "sentiment_trainbocn_extract_ngrams = whole_extracy_ngrams(sentiment_train_np[:,0], char_ngrams=True, \n",
    "                                                          token_pattern = \"[^0-9A-Za-z\\u4e00-\\u9fa5]\")\n",
    "sentiment_testbocn_extrace_ngrams = whole_extracy_ngrams(sentiment_test_np[:,0], char_ngrams=True, \n",
    "                                                         token_pattern = \"[^0-9A-Za-z\\u4e00-\\u9fa5]\")\n",
    "sentiment_devbocn_extrace_ngrams = whole_extracy_ngrams(sentiment_dev_np[:,0], char_ngrams=True, \n",
    "                                                        token_pattern = \"[^0-9A-Za-z\\u4e00-\\u9fa5]\")"
   ]
  },
  {
   "cell_type": "code",
   "execution_count": 198,
   "metadata": {
    "scrolled": true
   },
   "outputs": [
    {
     "name": "stderr",
     "output_type": "stream",
     "text": [
      "100%|██████████| 1400/1400 [00:04<00:00, 330.76it/s]\n",
      "100%|██████████| 400/400 [00:01<00:00, 360.67it/s]\n",
      "100%|██████████| 200/200 [00:00<00:00, 335.90it/s]\n"
     ]
    }
   ],
   "source": [
    "sentiment_trainbocn_tfmatrix = vectorise(sentiment_trainbocn_extract_ngrams, sentiment_trainbocn_vocab)\n",
    "sentiment_testbocn_tfmatrix = vectorise(sentiment_testbocn_extrace_ngrams, sentiment_trainbocn_vocab)\n",
    "sentiment_devbocn_tfmatrix = vectorise(sentiment_devbocn_extrace_ngrams, sentiment_trainbocn_vocab)"
   ]
  },
  {
   "cell_type": "code",
   "execution_count": 277,
   "metadata": {},
   "outputs": [
    {
     "name": "stderr",
     "output_type": "stream",
     "text": [
      "D:\\PROGRAM\\Anaconda3\\lib\\site-packages\\ipykernel_launcher.py:2: RuntimeWarning: overflow encountered in exp\n",
      "  \n"
     ]
    },
    {
     "name": "stdout",
     "output_type": "stream",
     "text": [
      "Stop Epoch: 29\n"
     ]
    }
   ],
   "source": [
    "Bocn_count, Bocn_training_loss_history, Bocn_validation_loss_history = SGD(sentiment_trainbocn_tfmatrix, sentiment_train_np[:,1], \n",
    "                                                                        sentiment_devbocn_tfmatrix, sentiment_dev_np[:,1],\n",
    "                                                                        lr=0.1,epochs=30,tolerance=0.001, print_progress=False)"
   ]
  },
  {
   "cell_type": "code",
   "execution_count": 278,
   "metadata": {},
   "outputs": [
    {
     "data": {
      "text/plain": [
       "<matplotlib.legend.Legend at 0x19e433c9828>"
      ]
     },
     "execution_count": 278,
     "metadata": {},
     "output_type": "execute_result"
    },
    {
     "data": {
      "image/png": "[encoded data removed]",
      "text/plain": [
       "<Figure size 432x288 with 1 Axes>"
      ]
     },
     "metadata": {},
     "output_type": "display_data"
    }
   ],
   "source": [
    "plt.plot(Bocn_training_loss_history, label = \"Training\")\n",
    "plt.plot(Bocn_validation_loss_history, label = \"Validation\")\n",
    "plt.title(\"Loss-Epoch\")\n",
    "plt.xlabel(\"Epoch\")\n",
    "plt.ylabel(\"Loss\")\n",
    "plt.legend()"
   ]
  },
  {
   "cell_type": "markdown",
   "metadata": {},
   "source": [
    "We used 5 sets of parameters and got the best parameters for the model. But from the loss-epoch figure, it is clearly to see that the model with lr=0.1, alpha=1e-5 may have some problems. We tried to change the parameters but sadly find that the results did not changed also every time the model can achieve a high F1-score.\n",
    "\n",
    "1) The model might have reached the optima point during the first epoch but when the first epoch finished, the model has left the optimal point. Then the model can not find an optimal point then the loss becomes bigger and bigger.\n",
    "\n",
    "2) The learning rate maight too big for the later epochs which means the model has skipped the optimal points. Adam or some other optimization methods may solve the problem."
   ]
  },
  {
   "cell_type": "code",
   "execution_count": 279,
   "metadata": {},
   "outputs": [
    {
     "name": "stdout",
     "output_type": "stream",
     "text": [
      "('a', 'd')\n",
      "('b', 'a', 'd')\n",
      "('b', 'a')\n",
      "('h', 'e')\n",
      "('s', 'a')\n",
      "('l', 'o')\n",
      "('e', 'r', 'e')\n",
      "('u', 'n')\n",
      "('g', 'i')\n",
      "('o', 'r', 's')\n"
     ]
    }
   ],
   "source": [
    "top_neg = Bocn_count.argsort()[:10]\n",
    "for i in top_neg:\n",
    "    print(id2voc[i])"
   ]
  },
  {
   "cell_type": "code",
   "execution_count": 280,
   "metadata": {},
   "outputs": [
    {
     "name": "stdout",
     "output_type": "stream",
     "text": [
      "('a', 'l')\n",
      "('g', 'r')\n",
      "('e', 'l')\n",
      "('u', 'r')\n",
      "('e', 'a', 't')\n",
      "('t', 'r')\n",
      "('l', 's', 'o')\n",
      "('g', 'r', 'e')\n",
      "('e', 'r', 'f')\n",
      "('r', 'f')\n"
     ]
    }
   ],
   "source": [
    "top_pos = Bocn_count.argsort()[::-1][:10]\n",
    "for i in top_pos:\n",
    "    print(id2voc[i])"
   ]
  },
  {
   "cell_type": "markdown",
   "metadata": {},
   "source": [
    "It is difficult to know the meaning of those vocabulary above when we use BOCN."
   ]
  },
  {
   "cell_type": "code",
   "execution_count": 281,
   "metadata": {},
   "outputs": [
    {
     "name": "stdout",
     "output_type": "stream",
     "text": [
      "Accuracy: 0.775\n",
      "Precision: 0.7894736842105263\n",
      "Recall: 0.75\n",
      "F1-Score: 0.7692307692307692\n"
     ]
    },
    {
     "name": "stderr",
     "output_type": "stream",
     "text": [
      "D:\\PROGRAM\\Anaconda3\\lib\\site-packages\\ipykernel_launcher.py:2: RuntimeWarning: overflow encountered in exp\n",
      "  \n"
     ]
    }
   ],
   "source": [
    "X_te_count = np.array(sentiment_testbocn_tfmatrix)\n",
    "Y_te = np.array(sentiment_test_np[:,1].tolist())\n",
    "preds_te_count = predict_class(X_te_count, Bocn_count)\n",
    "\n",
    "print('Accuracy:', accuracy_score(Y_te,preds_te_count))\n",
    "print('Precision:', precision_score(Y_te,preds_te_count))\n",
    "print('Recall:', recall_score(Y_te,preds_te_count))\n",
    "print('F1-Score:', f1_score(Y_te,preds_te_count))"
   ]
  },
  {
   "cell_type": "markdown",
   "metadata": {},
   "source": [
    "Five different sets of parameters have been used to find the best one."
   ]
  },
  {
   "cell_type": "markdown",
   "metadata": {},
   "source": [
    "| Example | Learing Rate  | Alpha | Epochs | F1-Score  |\n",
    "|:-:|:-:|:-:|:-:|:-:|\n",
    "| BOW-count  | 0.1  | 1e-5  | 29  | 0.769|\n",
    "| Example1  | 0.1  | 1e-9  | >30  | 0.688|\n",
    "| Example2  | 0.04  |  1e-9 | >30   | 0.10|\n",
    "| Example3  | 0.06  |  1e-9 | 19   | 0.75|\n",
    "| Example4  | 0.06  |  1e-5 | 21   | 0.713|"
   ]
  },
  {
   "cell_type": "markdown",
   "metadata": {},
   "source": [
    "#### Bocn-tfidf"
   ]
  },
  {
   "cell_type": "code",
   "execution_count": 238,
   "metadata": {},
   "outputs": [],
   "source": [
    "sentiment_bocnidf = []\n",
    "for word in sentiment_trainbocn_vocab:\n",
    "    df = sentiment_trainbocn_df.get(word)\n",
    "    sentiment_bocnidf.append(np.log(number_documents/df))"
   ]
  },
  {
   "cell_type": "code",
   "execution_count": 239,
   "metadata": {},
   "outputs": [],
   "source": [
    "bocntfidf_train_matrix = sentiment_trainbocn_tfmatrix * sentiment_bocnidf\n",
    "bocntfidf_dev_matrix = sentiment_devbocn_tfmatrix * sentiment_bocnidf\n",
    "bocntfidf_test_matrix = sentiment_testbocn_tfmatrix * sentiment_bocnidf"
   ]
  },
  {
   "cell_type": "code",
   "execution_count": 240,
   "metadata": {},
   "outputs": [
    {
     "name": "stderr",
     "output_type": "stream",
     "text": [
      "D:\\PROGRAM\\Anaconda3\\lib\\site-packages\\ipykernel_launcher.py:2: RuntimeWarning: overflow encountered in exp\n",
      "  \n"
     ]
    },
    {
     "name": "stdout",
     "output_type": "stream",
     "text": [
      "Stop Epoch: 12\n"
     ]
    }
   ],
   "source": [
    "Bocntfidf_count,Bocntfidf_training_loss_history,Bocntfidf_validation_loss_history = SGD(bocntfidf_train_matrix, sentiment_train_np[:,1], \n",
    "                                                                        bocntfidf_dev_matrix, sentiment_dev_np[:,1],\n",
    "                                                                        lr=0.06,epochs=30,tolerance=0.001, print_progress=False)"
   ]
  },
  {
   "cell_type": "code",
   "execution_count": 241,
   "metadata": {},
   "outputs": [
    {
     "data": {
      "text/plain": [
       "<matplotlib.legend.Legend at 0x19ee2144dd8>"
      ]
     },
     "execution_count": 241,
     "metadata": {},
     "output_type": "execute_result"
    },
    {
     "data": {
      "image/png": "[encoded data removed]",
      "text/plain": [
       "<Figure size 432x288 with 1 Axes>"
      ]
     },
     "metadata": {},
     "output_type": "display_data"
    }
   ],
   "source": [
    "plt.plot(Bocntfidf_training_loss_history, label = \"Training\")\n",
    "plt.plot(Bocntfidf_validation_loss_history, label = \"Validation\")\n",
    "plt.title(\"Loss-Epoch\")\n",
    "plt.xlabel(\"Epoch\")\n",
    "plt.ylabel(\"Loss\")\n",
    "plt.legend()"
   ]
  },
  {
   "cell_type": "markdown",
   "metadata": {},
   "source": [
    "The model is about right because the loss of training is decreasing and close to 0. And the last epochs, the loss curve become smoothness."
   ]
  },
  {
   "cell_type": "code",
   "execution_count": 242,
   "metadata": {},
   "outputs": [
    {
     "name": "stdout",
     "output_type": "stream",
     "text": [
      "('b', 's', 'p')\n",
      "('b', 'a', 'd')\n",
      "('w', 'e', 'b')\n",
      "('e', 'b', 'b')\n",
      "('a', 'm', 'm')\n",
      "('w', 'h', 'y')\n",
      "('w', 'a', 's')\n",
      "('n', 'a', 'k')\n",
      "('j', 'i')\n",
      "('w', 'f', 'u')\n"
     ]
    }
   ],
   "source": [
    "top_neg = Bocntfidf_count.argsort()[:10]\n",
    "for i in top_neg:\n",
    "    print(id2voc[i])"
   ]
  },
  {
   "cell_type": "code",
   "execution_count": 244,
   "metadata": {},
   "outputs": [
    {
     "name": "stdout",
     "output_type": "stream",
     "text": [
      "('r', 'f', 'u')\n",
      "('s', 'c', 'u')\n",
      "('j', 'a', 'y')\n",
      "('w', 'f', 'i')\n",
      "('r', 'f', 'e')\n",
      "('j', 'o', 'b')\n",
      "('n', 't', 'y')\n",
      "('i', 'l', 'a')\n",
      "('a', 'g', 'r')\n",
      "('b', 'o', 'c')\n"
     ]
    }
   ],
   "source": [
    "top_pos = Bocntfidf_count.argsort()[::-1][:10]\n",
    "for i in top_pos:\n",
    "    print(id2voc[i])"
   ]
  },
  {
   "cell_type": "markdown",
   "metadata": {},
   "source": [
    "It is difficult to find the meaning of those vocabularies above when we use BOCN."
   ]
  },
  {
   "cell_type": "code",
   "execution_count": 245,
   "metadata": {},
   "outputs": [
    {
     "name": "stdout",
     "output_type": "stream",
     "text": [
      "Accuracy: 0.785\n",
      "Precision: 0.7478260869565218\n",
      "Recall: 0.86\n",
      "F1-Score: 0.7999999999999999\n"
     ]
    },
    {
     "name": "stderr",
     "output_type": "stream",
     "text": [
      "D:\\PROGRAM\\Anaconda3\\lib\\site-packages\\ipykernel_launcher.py:2: RuntimeWarning: overflow encountered in exp\n",
      "  \n"
     ]
    }
   ],
   "source": [
    "X_te_count = np.array(bocntfidf_test_matrix)\n",
    "Y_te = np.array(sentiment_test_np[:,1].tolist())\n",
    "preds_te_count = predict_class(X_te_count, Bocntfidf_count)\n",
    "\n",
    "print('Accuracy:', accuracy_score(Y_te,preds_te_count))\n",
    "print('Precision:', precision_score(Y_te,preds_te_count))\n",
    "print('Recall:', recall_score(Y_te,preds_te_count))\n",
    "print('F1-Score:', f1_score(Y_te,preds_te_count))"
   ]
  },
  {
   "cell_type": "markdown",
   "metadata": {},
   "source": [
    "| Example | Learing Rate  | Alpha | Epochs | F1-Score  |\n",
    "|:-:|:-:|:-:|:-:|:-:|\n",
    "| BOW-count  | 0.06  | 1e-5  | 4  | 0.800|\n",
    "| Example1  | 0.06  | 1e-9  | 3  | 0.787|\n",
    "| Example2  | 0.04  |  1e-9 | 5   |0.790|\n",
    "| Example3  | 0.1  |  1e-9 | 2   | 0.742|\n",
    "| Example4  | 0.1  |  1e-5 | >30   | 0.74|"
   ]
  },
  {
   "cell_type": "markdown",
   "metadata": {},
   "source": [
    "#### BOW(tfidf)+BOCN(tfidf)"
   ]
  },
  {
   "cell_type": "code",
   "execution_count": 246,
   "metadata": {},
   "outputs": [],
   "source": [
    "bow_bocn_train = np.hstack((tfidf_train_matrix,bocntfidf_train_matrix))\n",
    "bow_bocn_dev = np.hstack((tfidf_dev_matrix, bocntfidf_dev_matrix))\n",
    "bow_bocn_test = np.hstack((tfidf_test_matrix, bocntfidf_test_matrix))"
   ]
  },
  {
   "cell_type": "code",
   "execution_count": 264,
   "metadata": {},
   "outputs": [
    {
     "name": "stderr",
     "output_type": "stream",
     "text": [
      "D:\\PROGRAM\\Anaconda3\\lib\\site-packages\\ipykernel_launcher.py:2: RuntimeWarning: overflow encountered in exp\n",
      "  \n"
     ]
    },
    {
     "name": "stdout",
     "output_type": "stream",
     "text": [
      "Stop Epoch: 6\n"
     ]
    }
   ],
   "source": [
    "bowbocn_count, bowbocn_training_loss_history, bowbocn_validation_loss_history = SGD(bow_bocn_train, sentiment_train_np[:,1], \n",
    "                                                                        bow_bocn_dev, sentiment_dev_np[:,1],\n",
    "                                                                        lr=0.06,epochs=30,tolerance=0.001, print_progress=False)"
   ]
  },
  {
   "cell_type": "code",
   "execution_count": 265,
   "metadata": {},
   "outputs": [
    {
     "data": {
      "text/plain": [
       "<matplotlib.legend.Legend at 0x19e73312400>"
      ]
     },
     "execution_count": 265,
     "metadata": {},
     "output_type": "execute_result"
    },
    {
     "data": {
      "image/png": "[encoded data removed]",
      "text/plain": [
       "<Figure size 432x288 with 1 Axes>"
      ]
     },
     "metadata": {},
     "output_type": "display_data"
    }
   ],
   "source": [
    "plt.plot(bowbocn_training_loss_history, label = \"Training\")\n",
    "plt.plot(bowbocn_validation_loss_history, label = \"Validation\")\n",
    "plt.title(\"Loss-Epoch\")\n",
    "plt.xlabel(\"Epoch\")\n",
    "plt.ylabel(\"Loss\")\n",
    "plt.legend()"
   ]
  },
  {
   "cell_type": "markdown",
   "metadata": {},
   "source": [
    "The model is about right althogh during the 4th epoch the loss has increased. At the end of training we can find that the loss is decreased and close to 0 which means the model is about right."
   ]
  },
  {
   "cell_type": "code",
   "execution_count": 266,
   "metadata": {},
   "outputs": [
    {
     "name": "stdout",
     "output_type": "stream",
     "text": [
      "Accuracy: 0.835\n",
      "Precision: 0.8221153846153846\n",
      "Recall: 0.855\n",
      "F1-Score: 0.838235294117647\n"
     ]
    },
    {
     "name": "stderr",
     "output_type": "stream",
     "text": [
      "D:\\PROGRAM\\Anaconda3\\lib\\site-packages\\ipykernel_launcher.py:2: RuntimeWarning: overflow encountered in exp\n",
      "  \n"
     ]
    }
   ],
   "source": [
    "X_te_count = np.array(bow_bocn_test)\n",
    "Y_te = np.array(sentiment_test_np[:,1].tolist())\n",
    "preds_te_count = predict_class(X_te_count, bowbocn_count)\n",
    "\n",
    "print('Accuracy:', accuracy_score(Y_te,preds_te_count))\n",
    "print('Precision:', precision_score(Y_te,preds_te_count))\n",
    "print('Recall:', recall_score(Y_te,preds_te_count))\n",
    "print('F1-Score:', f1_score(Y_te,preds_te_count))"
   ]
  },
  {
   "cell_type": "markdown",
   "metadata": {},
   "source": [
    "| Example | Learing Rate  | Alpha | Epochs | F1-Score  |\n",
    "|:-:|:-:|:-:|:-:|:-:|\n",
    "| BOW-BOCN  | 0.1  | 1e-9  | 2  | 0.839|\n",
    "| Example1  | 0.1  | 1e-5  | 4  | 0.837|\n",
    "| Example2  | 0.06  |  1e-5 | 1  | 0.793|\n",
    "| Example3  | 0.06  |  1e-9 | 2   | 0.796|\n",
    "| Example4  | 0.04  |  1e-9 | 2   | 0.819|"
   ]
  },
  {
   "cell_type": "markdown",
   "metadata": {},
   "source": [
    "\n",
    "\n",
    "## Full Results\n",
    "\n",
    "Add here your results:\n",
    "\n",
    "| LR | Precision  | Recall  | F1-Score  |\n",
    "|:-:|:-:|:-:|:-:|\n",
    "| BOW-count  | 0.820  | 0.845  | 0.832  |\n",
    "| BOW-tfidf  | 0.805  | 0.85 | 0.827  |\n",
    "| BOCN-count  | 0.790  | 0.75  | 0.770 |\n",
    "| BOCN-tfidf  | 0.748  | 0.86  | 0.800  |\n",
    "| BOW(tfidf)+BOCN(tfidf)  |0.822  | 0.855  | 0.838  |"
   ]
  },
  {
   "cell_type": "markdown",
   "metadata": {},
   "source": [
    "The best model is BOW(tfidf)+BOCN(tfidf), it combines BOW-tfidf and BOCN-tfidf which can have more features and representative the dataset better. Also, based on the equation: tfidf=TF*IDF , IDF can reduce the importance of words that appear more frequency in the document in the model which can help the classifier give higher weights to those words which can representitive the sentiment of sentence better.\n",
    "\n",
    "Also, we can notice that BOCN-count has the worst performance in the five models. It might because of the ngram range is (1,3) which means features will contain some single letters which will appear in all sentence with a high weights. "
   ]
  },
  {
   "cell_type": "markdown",
   "metadata": {},
   "source": [
    "# Task 2: Multi-class Logistic Regression \n",
    "\n",
    "Now you need to train a Multiclass Logistic Regression (MLR) Classifier by extending the Binary model you developed above. You will use the MLR model to perform topic classification on the AG news dataset consisting of three classes:"
   ]
  },
  {
   "cell_type": "markdown",
   "metadata": {},
   "source": [
    "- Class 1: World\n",
    "- Class 2: Sports\n",
    "- Class 3: Business"
   ]
  },
  {
   "cell_type": "markdown",
   "metadata": {},
   "source": [
    "You need to follow the same process as in Task 1 for data processing and feature extraction by reusing the functions you wrote."
   ]
  },
  {
   "cell_type": "code",
   "execution_count": 282,
   "metadata": {
    "ExecuteTime": {
     "end_time": "2020-02-15T14:18:03.212229Z",
     "start_time": "2020-02-15T14:18:03.185261Z"
    }
   },
   "outputs": [],
   "source": [
    "topic_train_df = pd.read_csv('./data_topic/train.csv',names = ['Sentence', 'Sentiment'])\n",
    "topic_test_df = pd.read_csv('./data_topic/test.csv',names = ['Sentence', 'Sentiment'])\n",
    "topic_dev_df = pd.read_csv('./data_topic/dev.csv',names = ['Sentence', 'Sentiment'])"
   ]
  },
  {
   "cell_type": "code",
   "execution_count": 283,
   "metadata": {},
   "outputs": [
    {
     "data": {
      "text/html": [
       "<div>\n",
       "<style scoped>\n",
       "    .dataframe tbody tr th:only-of-type {\n",
       "        vertical-align: middle;\n",
       "    }\n",
       "\n",
       "    .dataframe tbody tr th {\n",
       "        vertical-align: top;\n",
       "    }\n",
       "\n",
       "    .dataframe thead th {\n",
       "        text-align: right;\n",
       "    }\n",
       "</style>\n",
       "<table border=\"1\" class=\"dataframe\">\n",
       "  <thead>\n",
       "    <tr style=\"text-align: right;\">\n",
       "      <th></th>\n",
       "      <th>Sentence</th>\n",
       "      <th>Sentiment</th>\n",
       "    </tr>\n",
       "  </thead>\n",
       "  <tbody>\n",
       "    <tr>\n",
       "      <th>0</th>\n",
       "      <td>1</td>\n",
       "      <td>BAGHDAD, Iraq - An Islamic militant group that...</td>\n",
       "    </tr>\n",
       "    <tr>\n",
       "      <th>1</th>\n",
       "      <td>1</td>\n",
       "      <td>Parts of Los Angeles international airport are...</td>\n",
       "    </tr>\n",
       "    <tr>\n",
       "      <th>2</th>\n",
       "      <td>1</td>\n",
       "      <td>AFP - Facing a issue that once tripped up his ...</td>\n",
       "    </tr>\n",
       "    <tr>\n",
       "      <th>3</th>\n",
       "      <td>1</td>\n",
       "      <td>The leader of militant Lebanese group Hezbolla...</td>\n",
       "    </tr>\n",
       "    <tr>\n",
       "      <th>4</th>\n",
       "      <td>1</td>\n",
       "      <td>JAKARTA : ASEAN finance ministers ended a meet...</td>\n",
       "    </tr>\n",
       "  </tbody>\n",
       "</table>\n",
       "</div>"
      ],
      "text/plain": [
       "   Sentence                                          Sentiment\n",
       "0         1  BAGHDAD, Iraq - An Islamic militant group that...\n",
       "1         1  Parts of Los Angeles international airport are...\n",
       "2         1  AFP - Facing a issue that once tripped up his ...\n",
       "3         1  The leader of militant Lebanese group Hezbolla...\n",
       "4         1  JAKARTA : ASEAN finance ministers ended a meet..."
      ]
     },
     "execution_count": 283,
     "metadata": {},
     "output_type": "execute_result"
    }
   ],
   "source": [
    "topic_dev_df.head()"
   ]
  },
  {
   "cell_type": "code",
   "execution_count": 284,
   "metadata": {},
   "outputs": [],
   "source": [
    "topic_train_np = topic_train_df.values\n",
    "topic_test_np = topic_test_df.values\n",
    "topic_dev_np = topic_dev_df.values"
   ]
  },
  {
   "cell_type": "code",
   "execution_count": 285,
   "metadata": {},
   "outputs": [
    {
     "data": {
      "text/plain": [
       "(2400, 2)"
      ]
     },
     "execution_count": 285,
     "metadata": {},
     "output_type": "execute_result"
    }
   ],
   "source": [
    "topic_train_np.shape"
   ]
  },
  {
   "cell_type": "markdown",
   "metadata": {},
   "source": [
    "Now you need to change `SGD` to support multiclass datasets. First you need to develop a `softmax` function. It takes as input:\n",
    "\n",
    "- `z`: array of real numbers \n",
    "\n",
    "and returns:\n",
    "\n",
    "- `smax`: the softmax of `z`"
   ]
  },
  {
   "cell_type": "code",
   "execution_count": 286,
   "metadata": {
    "ExecuteTime": {
     "end_time": "2020-02-15T14:18:07.440998Z",
     "start_time": "2020-02-15T14:18:07.437915Z"
    }
   },
   "outputs": [],
   "source": [
    "def softmax(z):\n",
    "    smax = np.longfloat(np.exp(z - np.max(z)))\n",
    "    smax = smax/np.sum(smax).reshape(-1,1)\n",
    "    return smax"
   ]
  },
  {
   "cell_type": "markdown",
   "metadata": {},
   "source": [
    "Then modify `predict_proba` and `predict_class` functions for the multiclass case:"
   ]
  },
  {
   "cell_type": "code",
   "execution_count": 287,
   "metadata": {
    "ExecuteTime": {
     "end_time": "2020-02-15T14:18:07.445451Z",
     "start_time": "2020-02-15T14:18:07.442851Z"
    }
   },
   "outputs": [],
   "source": [
    "def predict_proba(X, weights):\n",
    "    \n",
    "    preds_proba = softmax(np.dot(X, weights.T))\n",
    "                          \n",
    "    return preds_proba"
   ]
  },
  {
   "cell_type": "code",
   "execution_count": 364,
   "metadata": {
    "ExecuteTime": {
     "end_time": "2020-02-15T14:18:07.449814Z",
     "start_time": "2020-02-15T14:18:07.447145Z"
    }
   },
   "outputs": [],
   "source": [
    "def predict_class(X, weights):\n",
    "    z = predict_proba(X, weights)\n",
    "    z_list = z.tolist()\n",
    "    preds_class = np.argmax(z_list, axis=1) + 1\n",
    "    return preds_class"
   ]
  },
  {
   "cell_type": "markdown",
   "metadata": {},
   "source": [
    "Now you need to compute the categorical cross entropy loss (extending the binary loss to support multiple classes)."
   ]
  },
  {
   "cell_type": "code",
   "execution_count": 529,
   "metadata": {
    "ExecuteTime": {
     "end_time": "2020-02-15T14:18:09.095415Z",
     "start_time": "2020-02-15T14:18:09.090680Z"
    }
   },
   "outputs": [],
   "source": [
    "def categorical_loss(X, Y, weights, num_classes=5, alpha=0.00001):\n",
    "    '''\n",
    "    X:(len(X),len(vocab))\n",
    "    Y: array len(Y)\n",
    "    weights: array len(X)\n",
    "    '''\n",
    "    preds_prob = np.clip(predict_proba(X, weights),1e-11, 1-1e-11)\n",
    "    l = np.sum(-np.log(np.max(preds_prob, axis=0)), axis=0) + alpha * np.sum(weights * weights)/(2 * weights.shape[0] * weights.shape[1])\n",
    "    \n",
    "    # Categorical loss with L2 regularisation,\n",
    "    return l"
   ]
  },
  {
   "cell_type": "markdown",
   "metadata": {
    "ExecuteTime": {
     "end_time": "2020-02-15T14:08:59.937442Z",
     "start_time": "2020-02-15T14:08:59.932221Z"
    }
   },
   "source": [
    "Finally you need to modify SGD to support the categorical cross entropy loss:"
   ]
  },
  {
   "cell_type": "code",
   "execution_count": 592,
   "metadata": {},
   "outputs": [],
   "source": [
    "def SGD(X_tr, Y_tr, X_dev=[], Y_dev=[], num_classes=5, lr=0.01, alpha=0.00001, \n",
    "        epochs=5, tolerance=0.001, print_progress=True):\n",
    "\n",
    "        m, n = X_tr.shape\n",
    "        weights = np.random.randn(num_classes, n) # Initialize weights\n",
    "        training_loss_history = []\n",
    "        validation_loss_history = []\n",
    "        epochs_list = []\n",
    "        index = list(range(m))\n",
    "        \n",
    "        for epochs_count in range(epochs): #Perform multiple passes (epochs) over the training data\n",
    "            np.random.shuffle(index) # Randomise the order of training data after each pass \n",
    "            for i in index:\n",
    "                hypothesis = predict_proba(X_tr[i], weights)\n",
    "                hypothesis[:,Y_tr[i]-1] = hypothesis[:,Y_tr[i]-1]-1\n",
    "                grad = np.array(hypothesis.T * X_tr[i].reshape(-1,1).T) + weights * alpha/ (num_classes*n)\n",
    "                #Use L2 regularisation\n",
    "                weights = weights - lr * grad\n",
    "                #Minimise the Categorical Cross-entropy loss function \n",
    "                \n",
    "            training_loss = np.sum(categorical_loss(X_tr, Y_tr, weights, alpha=alpha, num_classes=num_classes))/ m # training loss\n",
    "            training_loss_history.append(training_loss)\n",
    "\n",
    "            validation_loss = np.sum(categorical_loss(X_dev,Y_dev, weights, alpha=alpha, num_classes=num_classes)) / X_dev.shape[0] \n",
    "            #Loss after\n",
    "            validation_loss_history.append(validation_loss)\n",
    "            if print_progress==True:\n",
    "                print('Epoch:{}   training_loss:{}   validation_loss:{}'.format(epochs_count,training_loss_new,validation_loss_new))\n",
    "                \n",
    "            if len(validation_loss_history) > 1: \n",
    "                if abs(validation_loss_history[-1] - validation_loss_history[-2]) < tolerance:\n",
    "                    break\n",
    "            epochs_list.append(epochs_count)\n",
    "        print(\"Stop Epoch: {}\".format(epochs_count))    \n",
    "        return weights, training_loss_history, validation_loss_history"
   ]
  },
  {
   "cell_type": "markdown",
   "metadata": {
    "ExecuteTime": {
     "end_time": "2020-02-15T14:10:15.772383Z",
     "start_time": "2020-02-15T14:10:15.767855Z"
    }
   },
   "source": [
    "Now you are ready to train and evaluate you MLR following the same steps as in Task 1 for the different vector representations"
   ]
  },
  {
   "cell_type": "code",
   "execution_count": 582,
   "metadata": {
    "ExecuteTime": {
     "end_time": "2020-02-15T14:18:55.324956Z",
     "start_time": "2020-02-15T14:18:11.720952Z"
    }
   },
   "outputs": [
    {
     "name": "stderr",
     "output_type": "stream",
     "text": [
      "100%|██████████| 2400/2400 [00:00<00:00, 11681.63it/s]\n"
     ]
    }
   ],
   "source": [
    "topic_train_vocab, topic_train_df, topic_train_counts = get_vocab(topic_train_np[:,1],token_pattern=\"[a-z|\\']+\",\n",
    "                                                                           stop_words=stop_words, min_df=5)"
   ]
  },
  {
   "cell_type": "code",
   "execution_count": 583,
   "metadata": {},
   "outputs": [],
   "source": [
    "topic_id2word = dict(enumerate(topic_train_vocab))\n",
    "topic_word2id = dict(zip(topic_train_vocab, range(len(topic_train_vocab))))"
   ]
  },
  {
   "cell_type": "code",
   "execution_count": 584,
   "metadata": {
    "scrolled": true
   },
   "outputs": [
    {
     "name": "stderr",
     "output_type": "stream",
     "text": [
      "100%|██████████| 2400/2400 [00:00<00:00, 19098.44it/s]\n",
      "100%|██████████| 900/900 [00:00<00:00, 18800.01it/s]\n",
      "100%|██████████| 150/150 [00:00<00:00, 18800.11it/s]\n"
     ]
    }
   ],
   "source": [
    "topic_train_extract_ngrams = whole_extracy_ngrams(topic_train_np[:,1], token_pattern=\"[a-z|\\']+\")\n",
    "topic_test_extract_ngrams = whole_extracy_ngrams(topic_test_np[:,1], token_pattern=\"[a-z|\\']+\")\n",
    "topic_dev_extract_ngrams = whole_extracy_ngrams(topic_dev_np[:,1], token_pattern=\"[a-z|\\']+\")"
   ]
  },
  {
   "cell_type": "code",
   "execution_count": 585,
   "metadata": {},
   "outputs": [
    {
     "name": "stderr",
     "output_type": "stream",
     "text": [
      "100%|██████████| 2400/2400 [00:01<00:00, 1546.51it/s]\n",
      "100%|██████████| 900/900 [00:00<00:00, 1532.90it/s]\n",
      "100%|██████████| 150/150 [00:00<00:00, 1367.28it/s]\n"
     ]
    }
   ],
   "source": [
    "topic_train_tfmatrix = vectorise(topic_train_extract_ngrams, topic_train_vocab)\n",
    "topic_test_tfmatrix = vectorise(topic_test_extract_ngrams, topic_train_vocab)\n",
    "topic_dev_tfmatrix = vectorise(topic_dev_extract_ngrams, topic_train_vocab)"
   ]
  },
  {
   "cell_type": "code",
   "execution_count": 599,
   "metadata": {},
   "outputs": [
    {
     "name": "stdout",
     "output_type": "stream",
     "text": [
      "Stop Epoch: 16\n"
     ]
    }
   ],
   "source": [
    "Bow_count, Bow_training_loss_history, Bow_validation_loss_history = SGD(topic_train_tfmatrix, topic_train_np[:,0], topic_dev_tfmatrix, topic_dev_np[:,0],\n",
    "                                                                        num_classes=3,lr=0.1,epochs=30,tolerance=0.001, print_progress=False)"
   ]
  },
  {
   "cell_type": "code",
   "execution_count": 600,
   "metadata": {},
   "outputs": [
    {
     "name": "stdout",
     "output_type": "stream",
     "text": [
      "('consecutive',)\n",
      "('teams',)\n",
      "('investigation',)\n",
      "('apital',)\n",
      "(\"country's\", 'oil', 'exports')\n",
      "('euters', 'ecurities')\n",
      "('havez', 'office')\n",
      "('medals', 'thens')\n",
      "('dollar',)\n",
      "('playing',)\n"
     ]
    }
   ],
   "source": [
    "top_first = Bow_count[0].argsort()[:10]\n",
    "for i in top_first:\n",
    "    print(topic_id2word[i])"
   ]
  },
  {
   "cell_type": "code",
   "execution_count": 601,
   "metadata": {},
   "outputs": [
    {
     "name": "stdout",
     "output_type": "stream",
     "text": [
      "('uote', 'rofile')\n",
      "('holy', 'shrine')\n",
      "('stock', 'market')\n",
      "('dollar',)\n",
      "('replaced',)\n",
      "('immediately',)\n",
      "('extra',)\n",
      "('hoping',)\n",
      "('nc',)\n",
      "('ortel',)\n"
     ]
    }
   ],
   "source": [
    "top_second = Bow_count[1].argsort()[:10]\n",
    "for i in top_second:\n",
    "    print(topic_id2word[i])"
   ]
  },
  {
   "cell_type": "code",
   "execution_count": 602,
   "metadata": {},
   "outputs": [
    {
     "name": "stdout",
     "output_type": "stream",
     "text": [
      "('tewart',)\n",
      "('reece', 'ichael', 'helps')\n",
      "('round',)\n",
      "('hite',)\n",
      "('obe',)\n",
      "('futures',)\n",
      "('closely',)\n",
      "('opposition',)\n",
      "('put',)\n",
      "('country',)\n"
     ]
    }
   ],
   "source": [
    "top_third = Bow_count[2].argsort()[:10]\n",
    "for i in top_third:\n",
    "    print(topic_id2word[i])"
   ]
  },
  {
   "cell_type": "markdown",
   "metadata": {},
   "source": [
    "The words above are focus on speacial domain which means it is different to apply to other domain."
   ]
  },
  {
   "cell_type": "code",
   "execution_count": 603,
   "metadata": {},
   "outputs": [
    {
     "data": {
      "text/plain": [
       "<matplotlib.legend.Legend at 0x19e43ca1908>"
      ]
     },
     "execution_count": 603,
     "metadata": {},
     "output_type": "execute_result"
    },
    {
     "data": {
      "image/png": "[encoded data removed]",
      "text/plain": [
       "<Figure size 432x288 with 1 Axes>"
      ]
     },
     "metadata": {},
     "output_type": "display_data"
    }
   ],
   "source": [
    "plt.plot(Bow_training_loss_history, label = \"Training\")\n",
    "plt.plot(Bow_validation_loss_history, label = \"Validation\")\n",
    "plt.title(\"Loss-Epoch\")\n",
    "plt.xlabel(\"Epoch\")\n",
    "plt.ylabel(\"Loss\")\n",
    "plt.legend()"
   ]
  },
  {
   "cell_type": "markdown",
   "metadata": {},
   "source": [
    "The model is about right. Although the curve of training loss looks like a line, it maight because in the first epoch, the model has reach the optimal point which can achieve a very small loss. Then the it looks like a line."
   ]
  },
  {
   "cell_type": "markdown",
   "metadata": {},
   "source": [
    "Compute accuracy, precision, recall and F1-scores:"
   ]
  },
  {
   "cell_type": "code",
   "execution_count": 604,
   "metadata": {
    "ExecuteTime": {
     "end_time": "2020-02-15T14:20:54.864071Z",
     "start_time": "2020-02-15T14:20:54.850199Z"
    }
   },
   "outputs": [
    {
     "name": "stdout",
     "output_type": "stream",
     "text": [
      "Accuracy: 0.8022222222222222\n",
      "Precision: 0.8062752264569267\n",
      "Recall: 0.8022222222222223\n",
      "F1-Score: 0.802703018208769\n"
     ]
    }
   ],
   "source": [
    "X_te_count = np.array(topic_test_tfmatrix)\n",
    "label = np.array(topic_test_np[:,0])\n",
    "predicted = predict_class(X_te_count, Bow_count)\n",
    "preds_te = list()\n",
    "Y_te = list()\n",
    "\n",
    "for i in range(len(label)):\n",
    "    Y_te.append(int(label[i]))\n",
    "    preds_te.append(int(predicted[i]))\n",
    "\n",
    "print('Accuracy:', accuracy_score(Y_te,preds_te))\n",
    "print('Precision:', precision_score(Y_te,preds_te,average='macro'))\n",
    "print('Recall:', recall_score(Y_te,preds_te,average='macro'))\n",
    "print('F1-Score:', f1_score(Y_te,preds_te,average='macro'))"
   ]
  },
  {
   "cell_type": "markdown",
   "metadata": {},
   "source": [
    "Also, we notice that the way to select hyperparameters is same with task1 and the difference in parameters within ten times of the appropriate has little effect on the results. 4 examples has showed above and it is easily to find that those hyperparameters in examples can not increase the perofrmance of the model, it may need more time to finish training but can not improve the F1-score.\n",
    "\n",
    "The effect of regularisation strength and the relationship between learning rate and the number of epochs is same as task1.\n",
    "\n",
    "| Example | Learing Rate  | Alpha | Epochs | F1-Score  |\n",
    "|:-:|:-:|:-:|:-:|:-:|\n",
    "| BOW-count  | 0.1  | 1e-5  | 16  | 0.803|\n",
    "| Example1  | 0.1  | 1e-7  | 11  | 0.767|\n",
    "| Example2  | 0.04  |  1e-5 | 5   | 0.706|\n",
    "| Example3  | 0.06  |  1e-5 | 10   |0.758|\n",
    "| Example4  | 0.06  |  1e-7 | 6   | 0.736|"
   ]
  },
  {
   "cell_type": "markdown",
   "metadata": {},
   "source": [
    "### Now repeat the training and evaluation process for BOW-tfidf, BOCN-count, BOCN-tfidf, BOW+BOCN including hyperparameter tuning..."
   ]
  },
  {
   "cell_type": "markdown",
   "metadata": {},
   "source": [
    " #### BOW-tfidf"
   ]
  },
  {
   "cell_type": "code",
   "execution_count": 385,
   "metadata": {},
   "outputs": [],
   "source": [
    "topic_idf = []\n",
    "number_documents = len(topic_train_np)\n",
    "for word in topic_train_vocab:\n",
    "    df = topic_train_df.get(word)\n",
    "    topic_idf.append(np.log(number_documents/df))"
   ]
  },
  {
   "cell_type": "code",
   "execution_count": 386,
   "metadata": {},
   "outputs": [],
   "source": [
    "tfidf_train_matrix = topic_train_tfmatrix * np.array(topic_idf)\n",
    "tfidf_dev_matrix = topic_dev_tfmatrix * np.array(topic_idf)\n",
    "tfidf_test_matrix = topic_test_tfmatrix * np.array(topic_idf)"
   ]
  },
  {
   "cell_type": "code",
   "execution_count": 459,
   "metadata": {},
   "outputs": [
    {
     "name": "stdout",
     "output_type": "stream",
     "text": [
      "Stop Epoch: 1\n"
     ]
    }
   ],
   "source": [
    "w_count, training_loss_history, validation_loss_history = SGD(tfidf_train_matrix,topic_train_np[:,0], tfidf_dev_matrix, \n",
    "                                                               topic_dev_np[:,0],num_classes=3,lr=0.1,alpha=1e-6,\n",
    "                                                              epochs=30,tolerance=0.001, print_progress=False)"
   ]
  },
  {
   "cell_type": "code",
   "execution_count": 538,
   "metadata": {},
   "outputs": [
    {
     "name": "stdout",
     "output_type": "stream",
     "text": [
      "('fund',)\n",
      "('season',)\n",
      "('exports',)\n",
      "('more',)\n",
      "('t',)\n",
      "('irways',)\n",
      "('reece', 's')\n",
      "('stopped',)\n",
      "('challenge',)\n",
      "('executive',)\n"
     ]
    }
   ],
   "source": [
    "top_bowtfidf_first = w_count[0].argsort()[:10]\n",
    "for i in top_bowtfidf_first:\n",
    "    print(topic_id2word[i])"
   ]
  },
  {
   "cell_type": "code",
   "execution_count": 539,
   "metadata": {},
   "outputs": [
    {
     "name": "stdout",
     "output_type": "stream",
     "text": [
      "('said',)\n",
      "('resident',)\n",
      "('proposal',)\n",
      "('after', 'flash')\n",
      "('double',)\n",
      "('such',)\n",
      "('gt',)\n",
      "('arfur', 'region')\n",
      "('government',)\n",
      "('quickinfo', 'fullquote')\n"
     ]
    }
   ],
   "source": [
    "top_bowtfidf_second = w_count[1].argsort()[:10]\n",
    "for i in top_bowtfidf_second:\n",
    "    print(topic_id2word[i])"
   ]
  },
  {
   "cell_type": "code",
   "execution_count": 540,
   "metadata": {},
   "outputs": [
    {
     "name": "stdout",
     "output_type": "stream",
     "text": [
      "('gold',)\n",
      "('ope', 'ohn', 'aul')\n",
      "('race',)\n",
      "('seen',)\n",
      "('beat',)\n",
      "('ovember',)\n",
      "('movement',)\n",
      "('basketball',)\n",
      "('law',)\n",
      "('thens',)\n"
     ]
    }
   ],
   "source": [
    "top_bowtfidf_third = w_count[2].argsort()[:10]\n",
    "for i in top_bowtfidf_third:\n",
    "    print(topic_id2word[i])"
   ]
  },
  {
   "cell_type": "markdown",
   "metadata": {},
   "source": [
    "The words above are focus on speacial domain which means it is different to apply to other domain."
   ]
  },
  {
   "cell_type": "code",
   "execution_count": 520,
   "metadata": {},
   "outputs": [
    {
     "data": {
      "text/plain": [
       "<matplotlib.legend.Legend at 0x19e44e204e0>"
      ]
     },
     "execution_count": 520,
     "metadata": {},
     "output_type": "execute_result"
    },
    {
     "data": {
      "image/png": "[encoded data removed]",
      "text/plain": [
       "<Figure size 432x288 with 1 Axes>"
      ]
     },
     "metadata": {},
     "output_type": "display_data"
    }
   ],
   "source": [
    "plt.plot(training_loss_history, label = \"Training\")\n",
    "plt.plot(validation_loss_history, label = \"Validation\")\n",
    "plt.title(\"Loss-Epoch\")\n",
    "plt.xlabel(\"Epoch\")\n",
    "plt.ylabel(\"Loss\")\n",
    "plt.legend()"
   ]
  },
  {
   "cell_type": "markdown",
   "metadata": {},
   "source": [
    "Because the model only trained 2 epochs, the loss of training and validation will becomes lines.But we can find the model can achieve a high F1-score and the loss did not increase which men"
   ]
  },
  {
   "cell_type": "code",
   "execution_count": 461,
   "metadata": {},
   "outputs": [
    {
     "name": "stdout",
     "output_type": "stream",
     "text": [
      "Accuracy: 0.7933333333333333\n",
      "Precision: 0.7970458466029724\n",
      "Recall: 0.7933333333333333\n",
      "F1-Score: 0.7927693396701904\n"
     ]
    }
   ],
   "source": [
    "X_te_count = np.array(tfidf_test_matrix)\n",
    "label = np.array(topic_test_np[:,0].tolist())\n",
    "predicted = predict_class(X_te_count, w_count)\n",
    "preds_te = list()\n",
    "Y_te = list()\n",
    "for i in range(len(label)):\n",
    "    Y_te.append(int(label[i]))\n",
    "    preds_te.append(int(predicted[i]))\n",
    "\n",
    "print('Accuracy:', accuracy_score(Y_te,preds_te))\n",
    "print('Precision:', precision_score(Y_te,preds_te,average='macro'))\n",
    "print('Recall:', recall_score(Y_te,preds_te,average='macro'))\n",
    "print('F1-Score:', f1_score(Y_te,preds_te,average='macro'))"
   ]
  },
  {
   "cell_type": "markdown",
   "metadata": {},
   "source": [
    "| Example | Learing Rate  | Alpha | Epochs | F1-Score  |\n",
    "|:-:|:-:|:-:|:-:|:-:|\n",
    "| BOW-count  | 0.1  | 1e-5  | 6  | 0.793|\n",
    "| Example1  | 0.1  | 1e-7  | 7  | 0.775|\n",
    "| Example2  | 0.04  |  1e-5 | 1   | 0.736|\n",
    "| Example3  | 0.06  |  1e-5 | 1   |0.765|\n",
    "| Example4  | 0.06  |  1e-7 | 2   | 0.770|"
   ]
  },
  {
   "cell_type": "markdown",
   "metadata": {},
   "source": [
    " #### BOCN-count"
   ]
  },
  {
   "cell_type": "code",
   "execution_count": 390,
   "metadata": {},
   "outputs": [
    {
     "name": "stderr",
     "output_type": "stream",
     "text": [
      "100%|██████████| 2400/2400 [00:00<00:00, 3182.48it/s]\n"
     ]
    }
   ],
   "source": [
    "topic_trainbocn_vocab, topic_trainbocn_df, topic_trainbocn_counts = get_vocab(topic_train_np[:,1], \n",
    "                                                                              token_pattern = \"[^0-9A-Za-z\\u4e00-\\u9fa5]\", \n",
    "                                                                            stop_words=stop_words, min_df=5,char_ngrams=True)"
   ]
  },
  {
   "cell_type": "code",
   "execution_count": 542,
   "metadata": {},
   "outputs": [],
   "source": [
    "topicBocn_id2word = dict(enumerate(topic_trainbocn_vocab))\n",
    "topicBocn_word2id = dict(zip(topic_train_vocab, range(len(topic_trainbocn_vocab))))"
   ]
  },
  {
   "cell_type": "code",
   "execution_count": 391,
   "metadata": {},
   "outputs": [
    {
     "name": "stderr",
     "output_type": "stream",
     "text": [
      "100%|██████████| 2400/2400 [00:00<00:00, 5474.90it/s]\n",
      "100%|██████████| 900/900 [00:00<00:00, 4811.00it/s]\n",
      "100%|██████████| 150/150 [00:00<00:00, 4297.03it/s]\n"
     ]
    }
   ],
   "source": [
    "topic_trainbocn_extract_ngrams = whole_extracy_ngrams(topic_train_np[:,1], char_ngrams=True, \n",
    "                                                      token_pattern = \"[^0-9A-Za-z\\u4e00-\\u9fa5]\")\n",
    "topic_testbocn_extrace_ngrams = whole_extracy_ngrams(topic_test_np[:,1], char_ngrams=True, \n",
    "                                                     token_pattern = \"[^0-9A-Za-z\\u4e00-\\u9fa5]\")\n",
    "topic_devbocn_extrace_ngrams = whole_extracy_ngrams(topic_dev_np[:,1], char_ngrams=True, \n",
    "                                                    token_pattern = \"[^0-9A-Za-z\\u4e00-\\u9fa5]\")"
   ]
  },
  {
   "cell_type": "code",
   "execution_count": 392,
   "metadata": {},
   "outputs": [
    {
     "name": "stderr",
     "output_type": "stream",
     "text": [
      "100%|██████████| 2400/2400 [00:06<00:00, 399.58it/s]\n",
      "100%|██████████| 900/900 [00:02<00:00, 402.00it/s]\n",
      "100%|██████████| 150/150 [00:00<00:00, 293.18it/s]\n"
     ]
    }
   ],
   "source": [
    "topic_trainbocn_tfmatrix = vectorise(topic_trainbocn_extract_ngrams, topic_trainbocn_vocab)\n",
    "topic_testbocn_tfmatrix = vectorise(topic_testbocn_extrace_ngrams, topic_trainbocn_vocab)\n",
    "topic_devbocn_tfmatrix = vectorise(topic_devbocn_extrace_ngrams, topic_trainbocn_vocab)"
   ]
  },
  {
   "cell_type": "code",
   "execution_count": 517,
   "metadata": {
    "scrolled": false
   },
   "outputs": [
    {
     "name": "stdout",
     "output_type": "stream",
     "text": [
      "Stop Epoch: 1\n"
     ]
    }
   ],
   "source": [
    "Bocn_count, Bocn_training_loss_history, Bocn_validation_loss_history = SGD(topic_trainbocn_tfmatrix, topic_train_np[:,0], \n",
    "                                                                        topic_devbocn_tfmatrix, topic_dev_np[:,0],num_classes=3,\n",
    "                                                                        lr=0.06, alpha=1e-7,epochs=30,tolerance=0.001, print_progress=False)"
   ]
  },
  {
   "cell_type": "code",
   "execution_count": 544,
   "metadata": {},
   "outputs": [
    {
     "name": "stdout",
     "output_type": "stream",
     "text": [
      "('a', 'm')\n",
      "('A',)\n",
      "('s', 'p')\n",
      "('a', 'm', 'e')\n",
      "('i', 's')\n",
      "('p', 'i')\n",
      "('l', 'd')\n",
      "('O', 'l', 'y')\n",
      "('x', 'r')\n",
      "('P',)\n"
     ]
    }
   ],
   "source": [
    "top_bocn_first = Bocn_count[0].argsort()[:10]\n",
    "for i in top_bocn_first:\n",
    "    print(topicBocn_id2word[i])"
   ]
  },
  {
   "cell_type": "code",
   "execution_count": 545,
   "metadata": {},
   "outputs": [
    {
     "name": "stdout",
     "output_type": "stream",
     "text": [
      "('l', 'i', 't')\n",
      "('s', 'a', 'i')\n",
      "('I',)\n",
      "('a', 'd', 'i')\n",
      "('r', 'a', 'q')\n",
      "('I', 'N', 'G')\n",
      "('d', 'a')\n",
      "('N', 'D', 'O')\n",
      "('n', 'e', 'a')\n",
      "('e', 'n', 'e')\n"
     ]
    }
   ],
   "source": [
    "top_bocn_second = Bocn_count[1].argsort()[:10]\n",
    "for i in top_bocn_second:\n",
    "    print(topicBocn_id2word[i])"
   ]
  },
  {
   "cell_type": "code",
   "execution_count": 546,
   "metadata": {},
   "outputs": [
    {
     "name": "stdout",
     "output_type": "stream",
     "text": [
      "('a', 'm')\n",
      "('A',)\n",
      "('s', 'p')\n",
      "('a', 'm', 'e')\n",
      "('i', 's')\n",
      "('p', 'i')\n",
      "('l', 'd')\n",
      "('O', 'l', 'y')\n",
      "('x', 'r')\n",
      "('P',)\n"
     ]
    }
   ],
   "source": [
    "top_bocn_third = Bocn_count[2].argsort()[:10]\n",
    "for i in top_bocn_third:\n",
    "    print(topicBocn_id2word[i])"
   ]
  },
  {
   "cell_type": "markdown",
   "metadata": {},
   "source": [
    "When we use BOCN, it is difficult to know what those features means."
   ]
  },
  {
   "cell_type": "code",
   "execution_count": 518,
   "metadata": {},
   "outputs": [
    {
     "data": {
      "text/plain": [
       "<matplotlib.legend.Legend at 0x19e446fd470>"
      ]
     },
     "execution_count": 518,
     "metadata": {},
     "output_type": "execute_result"
    },
    {
     "data": {
      "image/png": "[encoded data removed]",
      "text/plain": [
       "<Figure size 432x288 with 1 Axes>"
      ]
     },
     "metadata": {},
     "output_type": "display_data"
    }
   ],
   "source": [
    "plt.plot(Bocn_training_loss_history, label = \"Training\")\n",
    "plt.plot(Bocn_validation_loss_history, label = \"Validation\")\n",
    "plt.title(\"Loss-Epoch\")\n",
    "plt.xlabel(\"Epoch\")\n",
    "plt.ylabel(\"Loss\")\n",
    "plt.legend()"
   ]
  },
  {
   "cell_type": "markdown",
   "metadata": {},
   "source": [
    "The figure is almost same as last model which means it has reach the optimal point in 2 epochs and we will get 2 lines. Base on the F1-score is 0.792 and we can get the conclusion that the model is about right."
   ]
  },
  {
   "cell_type": "code",
   "execution_count": 519,
   "metadata": {},
   "outputs": [
    {
     "name": "stdout",
     "output_type": "stream",
     "text": [
      "Accuracy: 0.7922222222222223\n",
      "Precision: 0.793938194960797\n",
      "Recall: 0.7922222222222222\n",
      "F1-Score: 0.7920339913053782\n"
     ]
    }
   ],
   "source": [
    "X_te_count = np.array(topic_testbocn_tfmatrix)\n",
    "label = np.array(topic_test_np[:,0].tolist())\n",
    "predicted = predict_class(X_te_count, Bocn_count)\n",
    "preds_te = list()\n",
    "Y_te = list()\n",
    "for i in range(len(label)):\n",
    "    Y_te.append(int(label[i]))\n",
    "    preds_te.append(int(predicted[i]))\n",
    "\n",
    "print('Accuracy:', accuracy_score(Y_te,preds_te))\n",
    "print('Precision:', precision_score(Y_te,preds_te,average='macro'))\n",
    "print('Recall:', recall_score(Y_te,preds_te,average='macro'))\n",
    "print('F1-Score:', f1_score(Y_te,preds_te,average='macro'))"
   ]
  },
  {
   "cell_type": "markdown",
   "metadata": {},
   "source": [
    "| Example | Learing Rate  | Alpha | Epochs | F1-Score  |\n",
    "|:-:|:-:|:-:|:-:|:-:|\n",
    "| BOW-count  | 0.06  | 1e-7  | 4  | 0.792|\n",
    "| Example1  | 0.1  | 1e-7  | 1  | 0.542\n",
    "| Example2  | 0.06  |  1e-5 | 1   | 0.746|\n",
    "| Example3  | 0.04  |  1e-7 | 1   |0.664|\n",
    "| Example4  | 0.06  |  1e-7 | 2   |0.677|"
   ]
  },
  {
   "cell_type": "markdown",
   "metadata": {},
   "source": [
    "#### BOCN-tfidf"
   ]
  },
  {
   "cell_type": "code",
   "execution_count": 396,
   "metadata": {},
   "outputs": [],
   "source": [
    "topic_bocnidf = []\n",
    "number_documents = len(topic_train_np)\n",
    "for word in topic_trainbocn_vocab:\n",
    "    df = topic_trainbocn_df.get(word)\n",
    "    topic_bocnidf.append(np.log(number_documents/df))"
   ]
  },
  {
   "cell_type": "code",
   "execution_count": 397,
   "metadata": {},
   "outputs": [],
   "source": [
    "bocntfidf_train_matrix = topic_trainbocn_tfmatrix * topic_bocnidf\n",
    "bocntfidf_dev_matrix = topic_devbocn_tfmatrix * topic_bocnidf\n",
    "bocntfidf_test_matrix = topic_testbocn_tfmatrix * topic_bocnidf"
   ]
  },
  {
   "cell_type": "code",
   "execution_count": 618,
   "metadata": {
    "scrolled": true
   },
   "outputs": [
    {
     "name": "stdout",
     "output_type": "stream",
     "text": [
      "Stop Epoch: 3\n"
     ]
    }
   ],
   "source": [
    "Bocntfidf_count, Bocntfidf_training_loss_history, Bocntfidf_validation_loss_history = SGD(bocntfidf_train_matrix, topic_train_np[:,0], \n",
    "                                                                        bocntfidf_dev_matrix, topic_dev_np[:,0],\n",
    "                                                                        num_classes=3, lr=0.04,epochs=30,\n",
    "                                                                        tolerance=0.001, print_progress=False)"
   ]
  },
  {
   "cell_type": "code",
   "execution_count": 619,
   "metadata": {},
   "outputs": [
    {
     "name": "stdout",
     "output_type": "stream",
     "text": [
      "('R', 'B')\n",
      "('f', 'u', 'n')\n",
      "('V', 'i', 'c')\n",
      "('s', 'o', 'n')\n",
      "('r', 'b', 'i')\n",
      "('f', 'h')\n",
      "('e', 'a', 'm')\n",
      "('n', 'a', 'b')\n",
      "('y', 'W', 'e')\n",
      "('g', 'o', 'a')\n"
     ]
    }
   ],
   "source": [
    "top_bocntfidf_first = Bocntfidf_count[0].argsort()[:10]\n",
    "for i in top_bocntfidf_first:\n",
    "    print(topicBocn_id2word[i])"
   ]
  },
  {
   "cell_type": "code",
   "execution_count": 620,
   "metadata": {},
   "outputs": [
    {
     "name": "stdout",
     "output_type": "stream",
     "text": [
      "('o', 'c', 'k')\n",
      "('w', 'e', 'd')\n",
      "('d', 'd', 'e')\n",
      "('g', 'c', 'r')\n",
      "('e', 's', 'i')\n",
      "('i', 'L', 'a')\n",
      "('r', 'a', 'q')\n",
      "('g', 'l', 'o')\n",
      "('l', 'l', 'q')\n",
      "('e', 'f', 'u')\n"
     ]
    }
   ],
   "source": [
    "top_bocntfidf_second = Bocntfidf_count[1].argsort()[:10]\n",
    "for i in top_bocntfidf_second:\n",
    "    print(topicBocn_id2word[i])"
   ]
  },
  {
   "cell_type": "code",
   "execution_count": 621,
   "metadata": {},
   "outputs": [
    {
     "name": "stdout",
     "output_type": "stream",
     "text": [
      "('n', 'R')\n",
      "('o', 'u', 's')\n",
      "('o', 'p', 'r')\n",
      "('A', 'P', 'J')\n",
      "('e', 'd', 'B')\n",
      "('r', 'i', 's')\n",
      "('r', 'W', 'o')\n",
      "('C', 'h', 'e')\n",
      "('z', 'e', 'm')\n",
      "('h', 'u', 'm')\n"
     ]
    }
   ],
   "source": [
    "top_bocntfidf_third = Bocntfidf_count[2].argsort()[:10]\n",
    "for i in top_bocntfidf_third:\n",
    "    print(topicBocn_id2word[i])"
   ]
  },
  {
   "cell_type": "markdown",
   "metadata": {},
   "source": [
    "When we use BOCN it is difficult to know the meaning of those vocabulary."
   ]
  },
  {
   "cell_type": "code",
   "execution_count": 622,
   "metadata": {},
   "outputs": [
    {
     "data": {
      "text/plain": [
       "<matplotlib.legend.Legend at 0x19e43de62b0>"
      ]
     },
     "execution_count": 622,
     "metadata": {},
     "output_type": "execute_result"
    },
    {
     "data": {
      "image/png": "[encoded data removed]",
      "text/plain": [
       "<Figure size 432x288 with 1 Axes>"
      ]
     },
     "metadata": {},
     "output_type": "display_data"
    }
   ],
   "source": [
    "plt.plot(Bocntfidf_training_loss_history, label = \"Training\")\n",
    "plt.plot(Bocntfidf_validation_loss_history, label = \"Validation\")\n",
    "plt.title(\"Loss-Epoch\")\n",
    "plt.xlabel(\"Epoch\")\n",
    "plt.ylabel(\"Loss\")\n",
    "plt.legend()"
   ]
  },
  {
   "cell_type": "markdown",
   "metadata": {},
   "source": [
    "The figure means the maight close to the optimal point in the first epoch and in the other epochs the difference of loss will be very small, that's why the curve of training loss looks like a line. We can obtain the conclusion that the model is about right."
   ]
  },
  {
   "cell_type": "code",
   "execution_count": 623,
   "metadata": {},
   "outputs": [
    {
     "name": "stdout",
     "output_type": "stream",
     "text": [
      "Accuracy: 0.7955555555555556\n",
      "Precision: 0.7979475578385791\n",
      "Recall: 0.7955555555555556\n",
      "F1-Score: 0.7963336100745285\n"
     ]
    }
   ],
   "source": [
    "X_te_count = np.array(bocntfidf_test_matrix)\n",
    "label = np.array(topic_test_np[:,0].tolist())\n",
    "predicted = predict_class(X_te_count, Bocntfidf_count)\n",
    "preds_te = list()\n",
    "Y_te = list()\n",
    "for i in range(len(label)):\n",
    "    Y_te.append(int(label[i]))\n",
    "    preds_te.append(int(predicted[i]))\n",
    "\n",
    "print('Accuracy:', accuracy_score(Y_te,preds_te))\n",
    "print('Precision:', precision_score(Y_te,preds_te,average='macro'))\n",
    "print('Recall:', recall_score(Y_te,preds_te,average='macro'))\n",
    "print('F1-Score:', f1_score(Y_te,preds_te,average='macro'))"
   ]
  },
  {
   "cell_type": "markdown",
   "metadata": {},
   "source": [
    "| Example | Learing Rate  | Alpha | Epochs | F1-Score  |\n",
    "|:-:|:-:|:-:|:-:|:-:|\n",
    "| BOW-count  | 0.1  | 1e-5  | 1  | 0.796|\n",
    "| Example1  | 0.1  | 1e-7  | 1  | 0.790|\n",
    "| Example2  | 0.06  |  1e-5 | 1   | 0.792|\n",
    "| Example3  | 0.04  |  1e-7 | 24   |0.763|\n",
    "| Example4  | 0.06  |  1e-7 | 10   |0.792|"
   ]
  },
  {
   "cell_type": "markdown",
   "metadata": {},
   "source": [
    "#### BOW(tfidf)+BOCN(tfidf)"
   ]
  },
  {
   "cell_type": "code",
   "execution_count": 485,
   "metadata": {},
   "outputs": [],
   "source": [
    "bow_bocn_train = np.hstack((tfidf_train_matrix,bocntfidf_train_matrix))\n",
    "bow_bocn_dev = np.hstack((tfidf_dev_matrix, bocntfidf_dev_matrix))\n",
    "bow_bocn_test = np.hstack((tfidf_test_matrix, bocntfidf_test_matrix))"
   ]
  },
  {
   "cell_type": "code",
   "execution_count": 504,
   "metadata": {},
   "outputs": [
    {
     "name": "stdout",
     "output_type": "stream",
     "text": [
      "Stop Epoch: 1\n"
     ]
    }
   ],
   "source": [
    "bowbocn_count, bowbocn_training_loss_history, bowbocn_validation_loss_history = SGD(bow_bocn_train, topic_train_np[:,0], \n",
    "                                                                        bow_bocn_dev, topic_dev_np[:,0],\n",
    "                                                                        num_classes=3,lr=0.06,epochs=30,\n",
    "                                                                        tolerance=0.001, print_progress=False)"
   ]
  },
  {
   "cell_type": "code",
   "execution_count": 506,
   "metadata": {},
   "outputs": [
    {
     "data": {
      "text/plain": [
       "<matplotlib.legend.Legend at 0x19e440be080>"
      ]
     },
     "execution_count": 506,
     "metadata": {},
     "output_type": "execute_result"
    },
    {
     "data": {
      "image/png": "[encoded data removed]",
      "text/plain": [
       "<Figure size 432x288 with 1 Axes>"
      ]
     },
     "metadata": {},
     "output_type": "display_data"
    }
   ],
   "source": [
    "plt.plot(bowbocn_training_loss_history, label = \"Training\")\n",
    "plt.plot(bowbocn_validation_loss_history, label = \"Validation\")\n",
    "plt.title(\"Loss-Epoch\")\n",
    "plt.xlabel(\"Epoch\")\n",
    "plt.ylabel(\"Loss\")\n",
    "plt.legend()"
   ]
  },
  {
   "cell_type": "markdown",
   "metadata": {},
   "source": [
    "Beacuse the model only trained 2 epochs so the line of the loss will become lines but the F1-socre can achieve 0.804 then we can obtain the conclusion that the model is about right."
   ]
  },
  {
   "cell_type": "code",
   "execution_count": 505,
   "metadata": {},
   "outputs": [
    {
     "name": "stdout",
     "output_type": "stream",
     "text": [
      "Accuracy: 0.8044444444444444\n",
      "Precision: 0.8065129979800639\n",
      "Recall: 0.8044444444444445\n",
      "F1-Score: 0.8042379898540304\n"
     ]
    }
   ],
   "source": [
    "X_te_count = np.array(bow_bocn_test)\n",
    "label = np.array(topic_test_np[:,0].tolist())\n",
    "predicted = predict_class(X_te_count, bowbocn_count)\n",
    "preds_te = list()\n",
    "Y_te = list()\n",
    "for i in range(len(label)):\n",
    "    Y_te.append(int(label[i]))\n",
    "    preds_te.append(int(predicted[i]))\n",
    "\n",
    "print('Accuracy:', accuracy_score(Y_te,preds_te))\n",
    "print('Precision:', precision_score(Y_te,preds_te,average='macro'))\n",
    "print('Recall:', recall_score(Y_te,preds_te,average='macro'))\n",
    "print('F1-Score:', f1_score(Y_te,preds_te,average='macro'))"
   ]
  },
  {
   "cell_type": "markdown",
   "metadata": {},
   "source": [
    "| Example | Learing Rate  | Alpha | Epochs | F1-Score  |\n",
    "|:-:|:-:|:-:|:-:|:-:|\n",
    "| BOW-BOCN  | 0.06 | 1e-5  | 1  | 0.804|\n",
    "| Example1  | 0.06  | 1e-7  | 4  | 0.803|\n",
    "| Example2  | 0.04  |  1e-5 | 1   | 0.792|\n",
    "| Example3  | 0.01  |  1e-5 | 1   |0.219|\n",
    "| Example4  | 0.01  |  1e-7 | 2   |0.797|"
   ]
  },
  {
   "cell_type": "markdown",
   "metadata": {
    "ExecuteTime": {
     "end_time": "2020-02-15T14:16:42.567569Z",
     "start_time": "2020-02-15T14:16:42.562560Z"
    }
   },
   "source": [
    "## Full Results\n",
    "\n",
    "Add here your results:\n",
    "\n",
    "| LR | Precision  | Recall  | F1-Score  |\n",
    "|:-:|:-:|:-:|:-:|\n",
    "| BOW-count  | 0.764  | 0.761  | 0.761  |\n",
    "| BOW-tfidf  | 0.797  | 0.793  | 0.792  |\n",
    "| BOCN-count  | 0.796  | 0.785  | 0.784  |\n",
    "| BOCN-tfidf  | 0.783  | 0.779  | 0.796  |\n",
    "| BOW+BOCN  | 0.806  | 0.804  | 0.804  |\n",
    "\n",
    "Please discuss why your best performing model is better than the rest."
   ]
  },
  {
   "cell_type": "markdown",
   "metadata": {},
   "source": [
    "\n"
   ]
  },
  {
   "cell_type": "markdown",
   "metadata": {},
   "source": [
    "The best performing model is BOW+BOCN. It maight have sereval reasons:\n",
    "1) BOW(tfidf)+BOCN(tfidf) has more features than other 4 models which can representive the sentence better.\n",
    "\n",
    "2) Both of BOW and BOCN have use tfidf to give weights to each features which can achieve better performance than only use count. TFIDF = TF*IDF and IDF can reduce the importance of words that appear more frequency in the document in the model."
   ]
  }
 ],
 "metadata": {
  "kernelspec": {
   "display_name": "Python 3",
   "language": "python",
   "name": "python3"
  },
  "language_info": {
   "codemirror_mode": {
    "name": "ipython",
    "version": 3
   },
   "file_extension": ".py",
   "mimetype": "text/x-python",
   "name": "python",
   "nbconvert_exporter": "python",
   "pygments_lexer": "ipython3",
   "version": "3.7.0"
  }
 },
 "nbformat": 4,
 "nbformat_minor": 2
}
